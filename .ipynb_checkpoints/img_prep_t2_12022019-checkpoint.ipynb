{
 "cells": [
  {
   "cell_type": "code",
   "execution_count": 6,
   "metadata": {},
   "outputs": [],
   "source": [
    "# ms-python.python added\n",
    "import os"
   ]
  },
  {
   "cell_type": "code",
   "execution_count": 7,
   "metadata": {},
   "outputs": [
    {
     "name": "stdout",
     "output_type": "stream",
     "text": [
      "The autoreload extension is already loaded. To reload it, use:\n",
      "  %reload_ext autoreload\n"
     ]
    }
   ],
   "source": [
    "import os, glob, shutil\n",
    "import cv2\n",
    "import numpy as np\n",
    "from skimage.io import imread, imsave, imshow\n",
    "from PIL import Image, ImageTk\n",
    "import matplotlib.pyplot as plt\n",
    "from core.imageprep import dir_checker, random_crop, crop_generator, random_crop_batch_v2\n",
    "from datetime import datetime\n",
    "\n",
    "%load_ext autoreload\n",
    "%autoreload 2"
   ]
  },
  {
   "cell_type": "code",
   "execution_count": 8,
   "metadata": {},
   "outputs": [
    {
     "name": "stdout",
     "output_type": "stream",
     "text": [
      "Crop Size y: 256\n",
      "Crop Size x: 256\n",
      "timestamp: 2019_12_02\n"
     ]
    }
   ],
   "source": [
    "# set parameters\n",
    "# crop size\n",
    "ydim = 256\n",
    "xdim = 256\n",
    "print(\"Crop Size y: {}\".format(ydim))\n",
    "print(\"Crop Size x: {}\".format(xdim))\n",
    "crop_per_image = 50\n",
    "seed = 100\n",
    "timestamp = datetime.now().strftime(\"%Y_%m_%d\")\n",
    "print('timestamp: {}'.format(timestamp))"
   ]
  },
  {
   "cell_type": "code",
   "execution_count": 9,
   "metadata": {},
   "outputs": [],
   "source": [
    "def listdir_nohidden(dir):\n",
    "    return [file for file in os.listdir(dir) if not file.startswith('.')]"
   ]
  },
  {
   "cell_type": "code",
   "execution_count": 10,
   "metadata": {},
   "outputs": [
    {
     "name": "stdout",
     "output_type": "stream",
     "text": [
      "['autophagosome', 'cell_membrane', 'nucleus']\n"
     ]
    }
   ],
   "source": [
    "# Prepare the training dataset\n",
    "# Specify the data folder\n",
    "mainpath = '/Volumes/LaCie_DataStorage/PerlmutterData/dl_seg_project_raw'\n",
    "# mainpath = 'D:/PerlmutterData/dl_seg_project_raw'\n",
    "img_seg_dir = 'data_Amira'\n",
    "labeltypes = listdir_nohidden(os.path.join(mainpath, img_seg_dir))\n",
    "input_path = os.path.join(mainpath, img_seg_dir)\n",
    "print(labeltypes)"
   ]
  },
  {
   "cell_type": "code",
   "execution_count": 11,
   "metadata": {},
   "outputs": [
    {
     "name": "stdout",
     "output_type": "stream",
     "text": [
      "Path: ['/Volumes/LaCie_DataStorage/PerlmutterData/dl_seg_project_raw/data_Amira/autophagosome', '/Volumes/LaCie_DataStorage/PerlmutterData/dl_seg_project_raw/data_Amira/cell_membrane', '/Volumes/LaCie_DataStorage/PerlmutterData/dl_seg_project_raw/data_Amira/nucleus']\n"
     ]
    }
   ],
   "source": [
    "data_path = [os.path.join(input_path, labeltype) for labeltype in labeltypes ]\n",
    "print(\"Path: {}\".format(data_path))"
   ]
  },
  {
   "cell_type": "code",
   "execution_count": 12,
   "metadata": {},
   "outputs": [],
   "source": [
    "from pprint import pprint \n",
    "\n",
    "# create list for filenames\n",
    "ipimglist = {}\n",
    "iplabellist = {}\n",
    "\n",
    "for labeltype in labeltypes:\n",
    "    imglist_tmp = glob.glob(os.path.join(input_path, labeltype, 'images', '*', '*.tif'), recursive=True)\n",
    "    labellist_tmp = glob.glob(os.path.join(input_path, labeltype, 'labels', '*', '*.tif'), recursive=True)\n",
    "    ipimglist[labeltype] = imglist_tmp\n",
    "    iplabellist[labeltype] = labellist_tmp\n",
    "# pprint(imglist)\n",
    "# pprint(labellist)"
   ]
  },
  {
   "cell_type": "code",
   "execution_count": 13,
   "metadata": {},
   "outputs": [
    {
     "name": "stdout",
     "output_type": "stream",
     "text": [
      "Input Image Counts: 541\n",
      "Input Label Counts: 541\n",
      "Final Image/Label Counts: 27050\n"
     ]
    }
   ],
   "source": [
    "imgcount = 0\n",
    "for item in ipimglist.items():\n",
    "    imgcount = imgcount + len(item[1])\n",
    "labelcount = 0\n",
    "for item in iplabellist.items():\n",
    "    labelcount = labelcount + len(item[1])\n",
    "    \n",
    "print(\"Input Image Counts: {}\".format(imgcount))\n",
    "print(\"Input Label Counts: {}\".format(labelcount))\n",
    "print(\"Final Image/Label Counts: {}\".format(imgcount * crop_per_image))"
   ]
  },
  {
   "cell_type": "code",
   "execution_count": 14,
   "metadata": {},
   "outputs": [
    {
     "name": "stdout",
     "output_type": "stream",
     "text": [
      "Check the output folder:\n",
      "data_crop exists in /Volumes/LaCie_DataStorage/PerlmutterData/dl_seg_project_raw\n",
      "2019_12_02 exists in /Volumes/LaCie_DataStorage/PerlmutterData/dl_seg_project_raw/data_crop\n",
      "/Volumes/LaCie_DataStorage/PerlmutterData/dl_seg_project_raw/data_crop/2019_12_02\n"
     ]
    }
   ],
   "source": [
    "# Create output folder\n",
    "print(\"Check the output folder:\")\n",
    "dir_checker('data_crop', mainpath)\n",
    "dir_checker(timestamp, os.path.join(mainpath, 'data_crop'))\n",
    "output_path = os.path.join(mainpath, 'data_crop', timestamp)\n",
    "print(output_path)"
   ]
  },
  {
   "cell_type": "code",
   "execution_count": 15,
   "metadata": {},
   "outputs": [
    {
     "name": "stdout",
     "output_type": "stream",
     "text": [
      "images exists in /Volumes/LaCie_DataStorage/PerlmutterData/dl_seg_project_raw/data_crop/2019_12_02\n",
      "autophagosome exists in /Volumes/LaCie_DataStorage/PerlmutterData/dl_seg_project_raw/data_crop/2019_12_02/images\n",
      "cell_membrane exists in /Volumes/LaCie_DataStorage/PerlmutterData/dl_seg_project_raw/data_crop/2019_12_02/images\n",
      "nucleus exists in /Volumes/LaCie_DataStorage/PerlmutterData/dl_seg_project_raw/data_crop/2019_12_02/images\n",
      "labels exists in /Volumes/LaCie_DataStorage/PerlmutterData/dl_seg_project_raw/data_crop/2019_12_02\n",
      "autophagosome exists in /Volumes/LaCie_DataStorage/PerlmutterData/dl_seg_project_raw/data_crop/2019_12_02/labels\n",
      "cell_membrane exists in /Volumes/LaCie_DataStorage/PerlmutterData/dl_seg_project_raw/data_crop/2019_12_02/labels\n",
      "nucleus exists in /Volumes/LaCie_DataStorage/PerlmutterData/dl_seg_project_raw/data_crop/2019_12_02/labels\n"
     ]
    }
   ],
   "source": [
    "imgtypes = ['images', 'labels']\n",
    "for imgtype in imgtypes:\n",
    "    dir_checker(imgtype, output_path)\n",
    "    for labeltype in labeltypes:\n",
    "        dir_checker(labeltype, os.path.join(output_path, imgtype))"
   ]
  },
  {
   "cell_type": "code",
   "execution_count": null,
   "metadata": {},
   "outputs": [],
   "source": []
  },
  {
   "cell_type": "code",
   "execution_count": null,
   "metadata": {},
   "outputs": [
    {
     "name": "stdout",
     "output_type": "stream",
     "text": [
      "Croping the images...\n",
      "Finished\n",
      "Croping the images...\n",
      "Finished\n",
      "Croping the images...\n"
     ]
    }
   ],
   "source": [
    "# Batch Random Crop\n",
    "for labeltype in labeltypes:     \n",
    "    print(\"Croping the images from group {}...\".format(labeltype))\n",
    "    random_crop_batch_v2(ipimglist, iplabellist, output_path, labeltype, [ydim, xdim], crop_per_image, seed)\n",
    "    print(\"Finish\")"
   ]
  },
  {
   "cell_type": "code",
   "execution_count": 18,
   "metadata": {},
   "outputs": [
    {
     "name": "stdout",
     "output_type": "stream",
     "text": [
      "[0, 0, 0, 0, 0, 0, 0, 0, 0, 0, 0]\n"
     ]
    }
   ],
   "source": [
    "a = [0]*11\n",
    "print(a)"
   ]
  },
  {
   "cell_type": "code",
   "execution_count": 63,
   "metadata": {},
   "outputs": [
    {
     "name": "stdout",
     "output_type": "stream",
     "text": [
      "[6 7 8 3 2 6 3 3 9 3]\n",
      "50\n"
     ]
    }
   ],
   "source": [
    "np.random.seed(seed)\n",
    "bins = 10\n",
    "s = np.random.uniform(0, 1 , 50)\n",
    "hist, hisedge = np.histogram(s, bins=bins, range = [0, 1])\n",
    "print(hist)\n",
    "print(sum(hist))"
   ]
  },
  {
   "cell_type": "code",
   "execution_count": null,
   "metadata": {},
   "outputs": [],
   "source": []
  }
 ],
 "metadata": {
  "file_extension": ".py",
  "kernelspec": {
   "display_name": "tfdl02",
   "language": "python",
   "name": "tfdl02"
  },
  "language_info": {
   "codemirror_mode": {
    "name": "ipython",
    "version": 3
   },
   "file_extension": ".py",
   "mimetype": "text/x-python",
   "name": "python",
   "nbconvert_exporter": "python",
   "pygments_lexer": "ipython3",
   "version": "3.6.9"
  },
  "mimetype": "text/x-python",
  "name": "python",
  "npconvert_exporter": "python",
  "pygments_lexer": "ipython3",
  "version": 3
 },
 "nbformat": 4,
 "nbformat_minor": 2
}

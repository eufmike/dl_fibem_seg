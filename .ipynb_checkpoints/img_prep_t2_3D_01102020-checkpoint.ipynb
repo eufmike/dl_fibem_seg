{
 "cells": [
  {
   "cell_type": "markdown",
   "metadata": {},
   "source": [
    "# Random Patch Sampler (3D)"
   ]
  },
  {
   "cell_type": "code",
   "execution_count": 1,
   "metadata": {},
   "outputs": [],
   "source": [
    "# ms-python.python added\n",
    "import os"
   ]
  },
  {
   "cell_type": "code",
   "execution_count": 18,
   "metadata": {},
   "outputs": [
    {
     "name": "stdout",
     "output_type": "stream",
     "text": [
      "The autoreload extension is already loaded. To reload it, use:\n",
      "  %reload_ext autoreload\n"
     ]
    }
   ],
   "source": [
    "import glob, shutil\n",
    "import cv2\n",
    "import json\n",
    "import numpy as np\n",
    "from skimage.io import imread, imsave, imshow\n",
    "from PIL import Image, ImageTk\n",
    "import matplotlib.pyplot as plt\n",
    "import matplotlib.image as mpimg\n",
    "from core.imageprep import dir_checker, random_crop, crop_generator, random_crop_batch, random_crop_batch_3D, patch_sampler_3D, volume_loader, sampler_3D\n",
    "from datetime import datetime\n",
    "from pprint import pprint\n",
    "from tqdm.notebook import trange\n",
    "\n",
    "%load_ext autoreload\n",
    "%autoreload 2"
   ]
  },
  {
   "cell_type": "code",
   "execution_count": 36,
   "metadata": {},
   "outputs": [
    {
     "name": "stdout",
     "output_type": "stream",
     "text": [
      "Crop Size z: 20\n",
      "Crop Size y: 256\n",
      "Crop Size x: 256\n",
      "Crop per Image: 20\n",
      "Seed: 100\n",
      "timestamp: 2020_01_10_17_19\n"
     ]
    }
   ],
   "source": [
    "# set parameters\n",
    "# crop size\n",
    "zdim = 20\n",
    "ydim = 256\n",
    "xdim = 256\n",
    "crop_per_image = 200\n",
    "seed = 100\n",
    "timestamp = datetime.now().strftime(\"%Y_%m_%d_%H_%M\")\n",
    "output_folder = timestamp + '_' + str(crop_per_image) + 'x'\n",
    "print(\"Crop Size z: {}\".format(zdim))\n",
    "print(\"Crop Size y: {}\".format(ydim))\n",
    "print(\"Crop Size x: {}\".format(xdim))\n",
    "print('Crop per Image: {}'.format(crop_per_image))\n",
    "print('Seed: {}'.format(seed))\n",
    "print('timestamp: {}'.format(timestamp))"
   ]
  },
  {
   "cell_type": "code",
   "execution_count": 4,
   "metadata": {},
   "outputs": [
    {
     "name": "stdout",
     "output_type": "stream",
     "text": [
      "D:PerlmutterData\\dl_seg_project_raw_3D_original\\data_Amira\n",
      "['autophagosome', 'cell_membrane', 'mitochondria', 'nucleus']\n"
     ]
    }
   ],
   "source": [
    "# Prepare the training dataset\n",
    "# Specify the input folder\n",
    "# mainpath = '/Volumes/LaCie_DataStorage/PerlmutterData/dl_seg_project_raw'\n",
    "\n",
    "def listdir_nohidden(dir):\n",
    "    return [file for file in os.listdir(dir) if not file.startswith('.')]\n",
    "\n",
    "working_folder = 'dl_seg_project_raw_3D_original'\n",
    "\n",
    "mainpath = os.path.join('D:', 'PerlmutterData', working_folder)\n",
    "img_seg_dir = 'data_Amira'\n",
    "labeltypes = listdir_nohidden(os.path.join(mainpath, img_seg_dir))\n",
    "ipdir = os.path.join(mainpath, img_seg_dir)\n",
    "print(ipdir)\n",
    "print(labeltypes)"
   ]
  },
  {
   "cell_type": "code",
   "execution_count": 5,
   "metadata": {},
   "outputs": [
    {
     "name": "stdout",
     "output_type": "stream",
     "text": [
      "Check the output folder:\n",
      "data_crop_3D exists in D:PerlmutterData\\dl_seg_project_raw_3D_original\n",
      "2020_01_10_15_41_20x does not exist in D:PerlmutterData\\dl_seg_project_raw_3D_original\\data_crop_3D\n",
      "pars does not exist in D:PerlmutterData\\dl_seg_project_raw_3D_original\\data_crop_3D\\2020_01_10_15_41_20x\n",
      "images does not exist in D:PerlmutterData\\dl_seg_project_raw_3D_original\\data_crop_3D\\2020_01_10_15_41_20x\n",
      "labels does not exist in D:PerlmutterData\\dl_seg_project_raw_3D_original\\data_crop_3D\\2020_01_10_15_41_20x\n",
      "D:PerlmutterData\\dl_seg_project_raw_3D_original\\data_crop_3D\\2020_01_10_15_41_20x\n"
     ]
    }
   ],
   "source": [
    "# Create output folder\n",
    "print(\"Check the output folder:\")\n",
    "dir_checker('data_crop_3D', mainpath)\n",
    "dir_checker(output_folder, os.path.join(mainpath, 'data_crop_3D'))\n",
    "opdir = os.path.join(mainpath, 'data_crop_3D', output_folder)\n",
    "dir_checker('pars', opdir)\n",
    "dir_checker('images', opdir)\n",
    "dir_checker('labels', opdir)\n",
    "print(opdir)"
   ]
  },
  {
   "cell_type": "code",
   "execution_count": 6,
   "metadata": {},
   "outputs": [],
   "source": [
    "# create parameter\n",
    "pars = dict(\n",
    "            mainpath = mainpath,\n",
    "            input_path = ipdir,\n",
    "            output_path = opdir, \n",
    "            zdim = zdim,\n",
    "            ydim = ydim,\n",
    "            xdim = xdim, \n",
    "            crop_per_image = crop_per_image,\n",
    "            )\n",
    "\n",
    "with open(os.path.join(opdir, 'pars', 'pars_' + timestamp + '.json'), 'w') as outfile:\n",
    "    json.dump(pars, outfile, indent=4)"
   ]
  },
  {
   "cell_type": "code",
   "execution_count": 7,
   "metadata": {},
   "outputs": [
    {
     "name": "stdout",
     "output_type": "stream",
     "text": [
      "Path: ['D:PerlmutterData\\\\dl_seg_project_raw_3D_original\\\\data_Amira\\\\autophagosome', 'D:PerlmutterData\\\\dl_seg_project_raw_3D_original\\\\data_Amira\\\\cell_membrane', 'D:PerlmutterData\\\\dl_seg_project_raw_3D_original\\\\data_Amira\\\\mitochondria', 'D:PerlmutterData\\\\dl_seg_project_raw_3D_original\\\\data_Amira\\\\nucleus']\n"
     ]
    }
   ],
   "source": [
    "data_path = [os.path.join(ipdir, labeltype) for labeltype in labeltypes ]\n",
    "print(\"Path: {}\".format(data_path))"
   ]
  },
  {
   "cell_type": "code",
   "execution_count": 15,
   "metadata": {},
   "outputs": [],
   "source": [
    "# create list for filenames\n",
    "ipimglist = {}\n",
    "iplabellist = {}\n",
    "\n",
    "for labeltype in labeltypes:\n",
    "    imglist_tmp = glob.glob(os.path.join(ipdir, labeltype, 'images', '*'), recursive=True)\n",
    "    labellist_tmp = glob.glob(os.path.join(ipdir, labeltype, 'labels', '*'), recursive=True)\n",
    "    ipimglist[labeltype] = imglist_tmp\n",
    "    iplabellist[labeltype] = labellist_tmp"
   ]
  },
  {
   "cell_type": "code",
   "execution_count": 16,
   "metadata": {},
   "outputs": [
    {
     "name": "stdout",
     "output_type": "stream",
     "text": [
      "{'autophagosome': ['D:PerlmutterData\\\\dl_seg_project_raw_3D_original\\\\data_Amira\\\\autophagosome\\\\images\\\\data_d00_batch01_loc01_label03_stack01',\n",
      "                   'D:PerlmutterData\\\\dl_seg_project_raw_3D_original\\\\data_Amira\\\\autophagosome\\\\images\\\\data_d07_batch01_loc01_label03_stack01',\n",
      "                   'D:PerlmutterData\\\\dl_seg_project_raw_3D_original\\\\data_Amira\\\\autophagosome\\\\images\\\\data_d14_batch01_loc01_label03_stack01',\n",
      "                   'D:PerlmutterData\\\\dl_seg_project_raw_3D_original\\\\data_Amira\\\\autophagosome\\\\images\\\\data_d17_batch01_loc01_label03_stack01',\n",
      "                   'D:PerlmutterData\\\\dl_seg_project_raw_3D_original\\\\data_Amira\\\\autophagosome\\\\images\\\\data_d21_batch01_loc01_label03_stack01'],\n",
      " 'cell_membrane': ['D:PerlmutterData\\\\dl_seg_project_raw_3D_original\\\\data_Amira\\\\cell_membrane\\\\images\\\\data_d00_batch01_loc01_label01_stack01',\n",
      "                   'D:PerlmutterData\\\\dl_seg_project_raw_3D_original\\\\data_Amira\\\\cell_membrane\\\\images\\\\data_d07_batch01_loc01_label01_stack01',\n",
      "                   'D:PerlmutterData\\\\dl_seg_project_raw_3D_original\\\\data_Amira\\\\cell_membrane\\\\images\\\\data_d14_batch01_loc01_label01_stack01',\n",
      "                   'D:PerlmutterData\\\\dl_seg_project_raw_3D_original\\\\data_Amira\\\\cell_membrane\\\\images\\\\data_d17_batch01_loc01_label01_stack01',\n",
      "                   'D:PerlmutterData\\\\dl_seg_project_raw_3D_original\\\\data_Amira\\\\cell_membrane\\\\images\\\\data_d21_batch01_loc01_label01_stack01',\n",
      "                   'D:PerlmutterData\\\\dl_seg_project_raw_3D_original\\\\data_Amira\\\\cell_membrane\\\\images\\\\data_d21_batch01_loc01_label01_stack02'],\n",
      " 'mitochondria': ['D:PerlmutterData\\\\dl_seg_project_raw_3D_original\\\\data_Amira\\\\mitochondria\\\\images\\\\0000',\n",
      "                  'D:PerlmutterData\\\\dl_seg_project_raw_3D_original\\\\data_Amira\\\\mitochondria\\\\images\\\\0001',\n",
      "                  'D:PerlmutterData\\\\dl_seg_project_raw_3D_original\\\\data_Amira\\\\mitochondria\\\\images\\\\0002',\n",
      "                  'D:PerlmutterData\\\\dl_seg_project_raw_3D_original\\\\data_Amira\\\\mitochondria\\\\images\\\\0003',\n",
      "                  'D:PerlmutterData\\\\dl_seg_project_raw_3D_original\\\\data_Amira\\\\mitochondria\\\\images\\\\0004'],\n",
      " 'nucleus': ['D:PerlmutterData\\\\dl_seg_project_raw_3D_original\\\\data_Amira\\\\nucleus\\\\images\\\\data_d00_batch01_loc01_label02_stack01',\n",
      "             'D:PerlmutterData\\\\dl_seg_project_raw_3D_original\\\\data_Amira\\\\nucleus\\\\images\\\\data_d07_batch01_loc01_label02_stack01',\n",
      "             'D:PerlmutterData\\\\dl_seg_project_raw_3D_original\\\\data_Amira\\\\nucleus\\\\images\\\\data_d14_batch01_loc01_label02_stack01',\n",
      "             'D:PerlmutterData\\\\dl_seg_project_raw_3D_original\\\\data_Amira\\\\nucleus\\\\images\\\\data_d17_batch01_loc01_label02_stack01',\n",
      "             'D:PerlmutterData\\\\dl_seg_project_raw_3D_original\\\\data_Amira\\\\nucleus\\\\images\\\\data_d21_batch01_loc01_label02_stack01',\n",
      "             'D:PerlmutterData\\\\dl_seg_project_raw_3D_original\\\\data_Amira\\\\nucleus\\\\images\\\\data_d21_batch01_loc01_label02_stack02']}\n"
     ]
    }
   ],
   "source": [
    "pprint(ipimglist)"
   ]
  },
  {
   "cell_type": "code",
   "execution_count": 11,
   "metadata": {},
   "outputs": [
    {
     "name": "stdout",
     "output_type": "stream",
     "text": [
      "autophagosome\n",
      "Input Image Counts(3D): 5\n",
      "Input Label Counts(3D): 5\n",
      "cell_membrane\n",
      "Input Image Counts(3D): 6\n",
      "Input Label Counts(3D): 6\n",
      "mitochondria\n",
      "Input Image Counts(3D): 5\n",
      "Input Label Counts(3D): 5\n",
      "nucleus\n",
      "Input Image Counts(3D): 6\n",
      "Input Label Counts(3D): 6\n"
     ]
    }
   ],
   "source": [
    "for labeltype in labeltypes:\n",
    "    tmp_imgcount_3D_list = listdir_nohidden(os.path.join(ipdir, labeltype, 'images'))\n",
    "    tmp_labelcount_3D_list = listdir_nohidden(os.path.join(ipdir, labeltype, 'labels'))\n",
    "    print(labeltype)\n",
    "    print(\"Input Image Counts(3D): {}\".format(len(tmp_imgcount_3D_list)))\n",
    "    print(\"Input Label Counts(3D): {}\".format(len(tmp_labelcount_3D_list)))"
   ]
  },
  {
   "cell_type": "code",
   "execution_count": 14,
   "metadata": {},
   "outputs": [
    {
     "name": "stdout",
     "output_type": "stream",
     "text": [
      "images exists in D:PerlmutterData\\dl_seg_project_raw_3D_original\\data_crop_3D\\2020_01_10_15_41_20x\n",
      "autophagosome does not exist in D:PerlmutterData\\dl_seg_project_raw_3D_original\\data_crop_3D\\2020_01_10_15_41_20x\\images\n",
      "cell_membrane does not exist in D:PerlmutterData\\dl_seg_project_raw_3D_original\\data_crop_3D\\2020_01_10_15_41_20x\\images\n",
      "mitochondria does not exist in D:PerlmutterData\\dl_seg_project_raw_3D_original\\data_crop_3D\\2020_01_10_15_41_20x\\images\n",
      "nucleus does not exist in D:PerlmutterData\\dl_seg_project_raw_3D_original\\data_crop_3D\\2020_01_10_15_41_20x\\images\n",
      "labels exists in D:PerlmutterData\\dl_seg_project_raw_3D_original\\data_crop_3D\\2020_01_10_15_41_20x\n",
      "autophagosome does not exist in D:PerlmutterData\\dl_seg_project_raw_3D_original\\data_crop_3D\\2020_01_10_15_41_20x\\labels\n",
      "cell_membrane does not exist in D:PerlmutterData\\dl_seg_project_raw_3D_original\\data_crop_3D\\2020_01_10_15_41_20x\\labels\n",
      "mitochondria does not exist in D:PerlmutterData\\dl_seg_project_raw_3D_original\\data_crop_3D\\2020_01_10_15_41_20x\\labels\n",
      "nucleus does not exist in D:PerlmutterData\\dl_seg_project_raw_3D_original\\data_crop_3D\\2020_01_10_15_41_20x\\labels\n"
     ]
    }
   ],
   "source": [
    "imgtypes = ['images', 'labels']\n",
    "for imgtype in imgtypes:\n",
    "    dir_checker(imgtype, opdir)\n",
    "    for labeltype in labeltypes:\n",
    "        dir_checker(labeltype, os.path.join(opdir, imgtype))"
   ]
  },
  {
   "cell_type": "code",
   "execution_count": 38,
   "metadata": {},
   "outputs": [
    {
     "name": "stdout",
     "output_type": "stream",
     "text": [
      "Croping the images from group autophagosome...\n"
     ]
    },
    {
     "data": {
      "application/vnd.jupyter.widget-view+json": {
       "model_id": "70b27c87f85748b0b76b760dfe62bfcf",
       "version_major": 2,
       "version_minor": 0
      },
      "text/plain": [
       "HBox(children=(IntProgress(value=0, max=5), HTML(value='')))"
      ]
     },
     "metadata": {},
     "output_type": "display_data"
    },
    {
     "data": {
      "application/vnd.jupyter.widget-view+json": {
       "model_id": "53dc959f09a449a79f3e70753605af9e",
       "version_major": 2,
       "version_minor": 0
      },
      "text/plain": [
       "HBox(children=(IntProgress(value=0, max=20), HTML(value='')))"
      ]
     },
     "metadata": {},
     "output_type": "display_data"
    },
    {
     "name": "stdout",
     "output_type": "stream",
     "text": [
      "\n"
     ]
    },
    {
     "data": {
      "application/vnd.jupyter.widget-view+json": {
       "model_id": "d7b48dfb904545f197dd3f26320569e0",
       "version_major": 2,
       "version_minor": 0
      },
      "text/plain": [
       "HBox(children=(IntProgress(value=0, max=20), HTML(value='')))"
      ]
     },
     "metadata": {},
     "output_type": "display_data"
    },
    {
     "name": "stdout",
     "output_type": "stream",
     "text": [
      "\n",
      "(20, 883, 2297)\n",
      "0001 exists in D:PerlmutterData\\dl_seg_project_raw_3D_original\\data_crop_3D\\2020_01_10_15_41_20x\\images\\autophagosome\n",
      "0001 exists in D:PerlmutterData\\dl_seg_project_raw_3D_original\\data_crop_3D\\2020_01_10_15_41_20x\\labels\\autophagosome\n",
      "0002 does not exist in D:PerlmutterData\\dl_seg_project_raw_3D_original\\data_crop_3D\\2020_01_10_15_41_20x\\images\\autophagosome\n",
      "0002 does not exist in D:PerlmutterData\\dl_seg_project_raw_3D_original\\data_crop_3D\\2020_01_10_15_41_20x\\labels\\autophagosome\n",
      "0003 does not exist in D:PerlmutterData\\dl_seg_project_raw_3D_original\\data_crop_3D\\2020_01_10_15_41_20x\\images\\autophagosome\n",
      "0003 does not exist in D:PerlmutterData\\dl_seg_project_raw_3D_original\\data_crop_3D\\2020_01_10_15_41_20x\\labels\\autophagosome\n",
      "0004 does not exist in D:PerlmutterData\\dl_seg_project_raw_3D_original\\data_crop_3D\\2020_01_10_15_41_20x\\images\\autophagosome\n",
      "0004 does not exist in D:PerlmutterData\\dl_seg_project_raw_3D_original\\data_crop_3D\\2020_01_10_15_41_20x\\labels\\autophagosome\n",
      "0005 does not exist in D:PerlmutterData\\dl_seg_project_raw_3D_original\\data_crop_3D\\2020_01_10_15_41_20x\\images\\autophagosome\n",
      "0005 does not exist in D:PerlmutterData\\dl_seg_project_raw_3D_original\\data_crop_3D\\2020_01_10_15_41_20x\\labels\\autophagosome\n",
      "0006 does not exist in D:PerlmutterData\\dl_seg_project_raw_3D_original\\data_crop_3D\\2020_01_10_15_41_20x\\images\\autophagosome\n",
      "0006 does not exist in D:PerlmutterData\\dl_seg_project_raw_3D_original\\data_crop_3D\\2020_01_10_15_41_20x\\labels\\autophagosome\n",
      "0007 does not exist in D:PerlmutterData\\dl_seg_project_raw_3D_original\\data_crop_3D\\2020_01_10_15_41_20x\\images\\autophagosome\n",
      "0007 does not exist in D:PerlmutterData\\dl_seg_project_raw_3D_original\\data_crop_3D\\2020_01_10_15_41_20x\\labels\\autophagosome\n",
      "0008 does not exist in D:PerlmutterData\\dl_seg_project_raw_3D_original\\data_crop_3D\\2020_01_10_15_41_20x\\images\\autophagosome\n",
      "0008 does not exist in D:PerlmutterData\\dl_seg_project_raw_3D_original\\data_crop_3D\\2020_01_10_15_41_20x\\labels\\autophagosome\n",
      "0009 does not exist in D:PerlmutterData\\dl_seg_project_raw_3D_original\\data_crop_3D\\2020_01_10_15_41_20x\\images\\autophagosome\n",
      "0009 does not exist in D:PerlmutterData\\dl_seg_project_raw_3D_original\\data_crop_3D\\2020_01_10_15_41_20x\\labels\\autophagosome\n",
      "0010 does not exist in D:PerlmutterData\\dl_seg_project_raw_3D_original\\data_crop_3D\\2020_01_10_15_41_20x\\images\\autophagosome\n",
      "0010 does not exist in D:PerlmutterData\\dl_seg_project_raw_3D_original\\data_crop_3D\\2020_01_10_15_41_20x\\labels\\autophagosome\n",
      "0011 does not exist in D:PerlmutterData\\dl_seg_project_raw_3D_original\\data_crop_3D\\2020_01_10_15_41_20x\\images\\autophagosome\n",
      "0011 does not exist in D:PerlmutterData\\dl_seg_project_raw_3D_original\\data_crop_3D\\2020_01_10_15_41_20x\\labels\\autophagosome\n",
      "0012 does not exist in D:PerlmutterData\\dl_seg_project_raw_3D_original\\data_crop_3D\\2020_01_10_15_41_20x\\images\\autophagosome\n",
      "0012 does not exist in D:PerlmutterData\\dl_seg_project_raw_3D_original\\data_crop_3D\\2020_01_10_15_41_20x\\labels\\autophagosome\n",
      "0013 does not exist in D:PerlmutterData\\dl_seg_project_raw_3D_original\\data_crop_3D\\2020_01_10_15_41_20x\\images\\autophagosome\n",
      "0013 does not exist in D:PerlmutterData\\dl_seg_project_raw_3D_original\\data_crop_3D\\2020_01_10_15_41_20x\\labels\\autophagosome\n",
      "0014 does not exist in D:PerlmutterData\\dl_seg_project_raw_3D_original\\data_crop_3D\\2020_01_10_15_41_20x\\images\\autophagosome\n",
      "0014 does not exist in D:PerlmutterData\\dl_seg_project_raw_3D_original\\data_crop_3D\\2020_01_10_15_41_20x\\labels\\autophagosome\n",
      "0015 does not exist in D:PerlmutterData\\dl_seg_project_raw_3D_original\\data_crop_3D\\2020_01_10_15_41_20x\\images\\autophagosome\n",
      "0015 does not exist in D:PerlmutterData\\dl_seg_project_raw_3D_original\\data_crop_3D\\2020_01_10_15_41_20x\\labels\\autophagosome\n",
      "0016 does not exist in D:PerlmutterData\\dl_seg_project_raw_3D_original\\data_crop_3D\\2020_01_10_15_41_20x\\images\\autophagosome\n",
      "0016 does not exist in D:PerlmutterData\\dl_seg_project_raw_3D_original\\data_crop_3D\\2020_01_10_15_41_20x\\labels\\autophagosome\n",
      "0017 does not exist in D:PerlmutterData\\dl_seg_project_raw_3D_original\\data_crop_3D\\2020_01_10_15_41_20x\\images\\autophagosome\n",
      "0017 does not exist in D:PerlmutterData\\dl_seg_project_raw_3D_original\\data_crop_3D\\2020_01_10_15_41_20x\\labels\\autophagosome\n",
      "0018 does not exist in D:PerlmutterData\\dl_seg_project_raw_3D_original\\data_crop_3D\\2020_01_10_15_41_20x\\images\\autophagosome\n",
      "0018 does not exist in D:PerlmutterData\\dl_seg_project_raw_3D_original\\data_crop_3D\\2020_01_10_15_41_20x\\labels\\autophagosome\n",
      "0019 does not exist in D:PerlmutterData\\dl_seg_project_raw_3D_original\\data_crop_3D\\2020_01_10_15_41_20x\\images\\autophagosome\n",
      "0019 does not exist in D:PerlmutterData\\dl_seg_project_raw_3D_original\\data_crop_3D\\2020_01_10_15_41_20x\\labels\\autophagosome\n",
      "0020 does not exist in D:PerlmutterData\\dl_seg_project_raw_3D_original\\data_crop_3D\\2020_01_10_15_41_20x\\images\\autophagosome\n",
      "0020 does not exist in D:PerlmutterData\\dl_seg_project_raw_3D_original\\data_crop_3D\\2020_01_10_15_41_20x\\labels\\autophagosome\n"
     ]
    },
    {
     "data": {
      "application/vnd.jupyter.widget-view+json": {
       "model_id": "950f256eba9d4c999f3f98dfda325d07",
       "version_major": 2,
       "version_minor": 0
      },
      "text/plain": [
       "HBox(children=(IntProgress(value=0, max=20), HTML(value='')))"
      ]
     },
     "metadata": {},
     "output_type": "display_data"
    },
    {
     "name": "stdout",
     "output_type": "stream",
     "text": [
      "\n"
     ]
    },
    {
     "data": {
      "application/vnd.jupyter.widget-view+json": {
       "model_id": "31a0e7e1ec9d4e06b267801dd2969077",
       "version_major": 2,
       "version_minor": 0
      },
      "text/plain": [
       "HBox(children=(IntProgress(value=0, max=20), HTML(value='')))"
      ]
     },
     "metadata": {},
     "output_type": "display_data"
    },
    {
     "name": "stdout",
     "output_type": "stream",
     "text": [
      "\n",
      "(20, 844, 2238)\n",
      "0001 exists in D:PerlmutterData\\dl_seg_project_raw_3D_original\\data_crop_3D\\2020_01_10_15_41_20x\\images\\autophagosome\n",
      "0001 exists in D:PerlmutterData\\dl_seg_project_raw_3D_original\\data_crop_3D\\2020_01_10_15_41_20x\\labels\\autophagosome\n",
      "0002 exists in D:PerlmutterData\\dl_seg_project_raw_3D_original\\data_crop_3D\\2020_01_10_15_41_20x\\images\\autophagosome\n",
      "0002 exists in D:PerlmutterData\\dl_seg_project_raw_3D_original\\data_crop_3D\\2020_01_10_15_41_20x\\labels\\autophagosome\n",
      "0003 exists in D:PerlmutterData\\dl_seg_project_raw_3D_original\\data_crop_3D\\2020_01_10_15_41_20x\\images\\autophagosome\n",
      "0003 exists in D:PerlmutterData\\dl_seg_project_raw_3D_original\\data_crop_3D\\2020_01_10_15_41_20x\\labels\\autophagosome\n",
      "0004 exists in D:PerlmutterData\\dl_seg_project_raw_3D_original\\data_crop_3D\\2020_01_10_15_41_20x\\images\\autophagosome\n",
      "0004 exists in D:PerlmutterData\\dl_seg_project_raw_3D_original\\data_crop_3D\\2020_01_10_15_41_20x\\labels\\autophagosome\n",
      "0005 exists in D:PerlmutterData\\dl_seg_project_raw_3D_original\\data_crop_3D\\2020_01_10_15_41_20x\\images\\autophagosome\n",
      "0005 exists in D:PerlmutterData\\dl_seg_project_raw_3D_original\\data_crop_3D\\2020_01_10_15_41_20x\\labels\\autophagosome\n",
      "0006 exists in D:PerlmutterData\\dl_seg_project_raw_3D_original\\data_crop_3D\\2020_01_10_15_41_20x\\images\\autophagosome\n",
      "0006 exists in D:PerlmutterData\\dl_seg_project_raw_3D_original\\data_crop_3D\\2020_01_10_15_41_20x\\labels\\autophagosome\n",
      "0007 exists in D:PerlmutterData\\dl_seg_project_raw_3D_original\\data_crop_3D\\2020_01_10_15_41_20x\\images\\autophagosome\n",
      "0007 exists in D:PerlmutterData\\dl_seg_project_raw_3D_original\\data_crop_3D\\2020_01_10_15_41_20x\\labels\\autophagosome\n",
      "0008 exists in D:PerlmutterData\\dl_seg_project_raw_3D_original\\data_crop_3D\\2020_01_10_15_41_20x\\images\\autophagosome\n",
      "0008 exists in D:PerlmutterData\\dl_seg_project_raw_3D_original\\data_crop_3D\\2020_01_10_15_41_20x\\labels\\autophagosome\n",
      "0009 exists in D:PerlmutterData\\dl_seg_project_raw_3D_original\\data_crop_3D\\2020_01_10_15_41_20x\\images\\autophagosome\n",
      "0009 exists in D:PerlmutterData\\dl_seg_project_raw_3D_original\\data_crop_3D\\2020_01_10_15_41_20x\\labels\\autophagosome\n",
      "0010 exists in D:PerlmutterData\\dl_seg_project_raw_3D_original\\data_crop_3D\\2020_01_10_15_41_20x\\images\\autophagosome\n",
      "0010 exists in D:PerlmutterData\\dl_seg_project_raw_3D_original\\data_crop_3D\\2020_01_10_15_41_20x\\labels\\autophagosome\n",
      "0011 exists in D:PerlmutterData\\dl_seg_project_raw_3D_original\\data_crop_3D\\2020_01_10_15_41_20x\\images\\autophagosome\n",
      "0011 exists in D:PerlmutterData\\dl_seg_project_raw_3D_original\\data_crop_3D\\2020_01_10_15_41_20x\\labels\\autophagosome\n",
      "0012 exists in D:PerlmutterData\\dl_seg_project_raw_3D_original\\data_crop_3D\\2020_01_10_15_41_20x\\images\\autophagosome\n",
      "0012 exists in D:PerlmutterData\\dl_seg_project_raw_3D_original\\data_crop_3D\\2020_01_10_15_41_20x\\labels\\autophagosome\n",
      "0013 exists in D:PerlmutterData\\dl_seg_project_raw_3D_original\\data_crop_3D\\2020_01_10_15_41_20x\\images\\autophagosome\n",
      "0013 exists in D:PerlmutterData\\dl_seg_project_raw_3D_original\\data_crop_3D\\2020_01_10_15_41_20x\\labels\\autophagosome\n",
      "0014 exists in D:PerlmutterData\\dl_seg_project_raw_3D_original\\data_crop_3D\\2020_01_10_15_41_20x\\images\\autophagosome\n",
      "0014 exists in D:PerlmutterData\\dl_seg_project_raw_3D_original\\data_crop_3D\\2020_01_10_15_41_20x\\labels\\autophagosome\n",
      "0015 exists in D:PerlmutterData\\dl_seg_project_raw_3D_original\\data_crop_3D\\2020_01_10_15_41_20x\\images\\autophagosome\n",
      "0015 exists in D:PerlmutterData\\dl_seg_project_raw_3D_original\\data_crop_3D\\2020_01_10_15_41_20x\\labels\\autophagosome\n",
      "0016 exists in D:PerlmutterData\\dl_seg_project_raw_3D_original\\data_crop_3D\\2020_01_10_15_41_20x\\images\\autophagosome\n",
      "0016 exists in D:PerlmutterData\\dl_seg_project_raw_3D_original\\data_crop_3D\\2020_01_10_15_41_20x\\labels\\autophagosome\n",
      "0017 exists in D:PerlmutterData\\dl_seg_project_raw_3D_original\\data_crop_3D\\2020_01_10_15_41_20x\\images\\autophagosome\n",
      "0017 exists in D:PerlmutterData\\dl_seg_project_raw_3D_original\\data_crop_3D\\2020_01_10_15_41_20x\\labels\\autophagosome\n",
      "0018 exists in D:PerlmutterData\\dl_seg_project_raw_3D_original\\data_crop_3D\\2020_01_10_15_41_20x\\images\\autophagosome\n",
      "0018 exists in D:PerlmutterData\\dl_seg_project_raw_3D_original\\data_crop_3D\\2020_01_10_15_41_20x\\labels\\autophagosome\n",
      "0019 exists in D:PerlmutterData\\dl_seg_project_raw_3D_original\\data_crop_3D\\2020_01_10_15_41_20x\\images\\autophagosome\n",
      "0019 exists in D:PerlmutterData\\dl_seg_project_raw_3D_original\\data_crop_3D\\2020_01_10_15_41_20x\\labels\\autophagosome\n",
      "0020 exists in D:PerlmutterData\\dl_seg_project_raw_3D_original\\data_crop_3D\\2020_01_10_15_41_20x\\images\\autophagosome\n",
      "0020 exists in D:PerlmutterData\\dl_seg_project_raw_3D_original\\data_crop_3D\\2020_01_10_15_41_20x\\labels\\autophagosome\n"
     ]
    },
    {
     "data": {
      "application/vnd.jupyter.widget-view+json": {
       "model_id": "4c24c8fe380d4fe396b312cdb61376e4",
       "version_major": 2,
       "version_minor": 0
      },
      "text/plain": [
       "HBox(children=(IntProgress(value=0, max=20), HTML(value='')))"
      ]
     },
     "metadata": {},
     "output_type": "display_data"
    },
    {
     "name": "stdout",
     "output_type": "stream",
     "text": [
      "\n"
     ]
    },
    {
     "data": {
      "application/vnd.jupyter.widget-view+json": {
       "model_id": "3c97f72a98fe4dc2aa2663dd0b8bef9a",
       "version_major": 2,
       "version_minor": 0
      },
      "text/plain": [
       "HBox(children=(IntProgress(value=0, max=20), HTML(value='')))"
      ]
     },
     "metadata": {},
     "output_type": "display_data"
    },
    {
     "name": "stdout",
     "output_type": "stream",
     "text": [
      "\n",
      "(20, 938, 2216)\n",
      "0001 exists in D:PerlmutterData\\dl_seg_project_raw_3D_original\\data_crop_3D\\2020_01_10_15_41_20x\\images\\autophagosome\n",
      "0001 exists in D:PerlmutterData\\dl_seg_project_raw_3D_original\\data_crop_3D\\2020_01_10_15_41_20x\\labels\\autophagosome\n",
      "0002 exists in D:PerlmutterData\\dl_seg_project_raw_3D_original\\data_crop_3D\\2020_01_10_15_41_20x\\images\\autophagosome\n",
      "0002 exists in D:PerlmutterData\\dl_seg_project_raw_3D_original\\data_crop_3D\\2020_01_10_15_41_20x\\labels\\autophagosome\n",
      "0003 exists in D:PerlmutterData\\dl_seg_project_raw_3D_original\\data_crop_3D\\2020_01_10_15_41_20x\\images\\autophagosome\n",
      "0003 exists in D:PerlmutterData\\dl_seg_project_raw_3D_original\\data_crop_3D\\2020_01_10_15_41_20x\\labels\\autophagosome\n",
      "0004 exists in D:PerlmutterData\\dl_seg_project_raw_3D_original\\data_crop_3D\\2020_01_10_15_41_20x\\images\\autophagosome\n",
      "0004 exists in D:PerlmutterData\\dl_seg_project_raw_3D_original\\data_crop_3D\\2020_01_10_15_41_20x\\labels\\autophagosome\n",
      "0005 exists in D:PerlmutterData\\dl_seg_project_raw_3D_original\\data_crop_3D\\2020_01_10_15_41_20x\\images\\autophagosome\n",
      "0005 exists in D:PerlmutterData\\dl_seg_project_raw_3D_original\\data_crop_3D\\2020_01_10_15_41_20x\\labels\\autophagosome\n",
      "0006 exists in D:PerlmutterData\\dl_seg_project_raw_3D_original\\data_crop_3D\\2020_01_10_15_41_20x\\images\\autophagosome\n",
      "0006 exists in D:PerlmutterData\\dl_seg_project_raw_3D_original\\data_crop_3D\\2020_01_10_15_41_20x\\labels\\autophagosome\n",
      "0007 exists in D:PerlmutterData\\dl_seg_project_raw_3D_original\\data_crop_3D\\2020_01_10_15_41_20x\\images\\autophagosome\n",
      "0007 exists in D:PerlmutterData\\dl_seg_project_raw_3D_original\\data_crop_3D\\2020_01_10_15_41_20x\\labels\\autophagosome\n",
      "0008 exists in D:PerlmutterData\\dl_seg_project_raw_3D_original\\data_crop_3D\\2020_01_10_15_41_20x\\images\\autophagosome\n",
      "0008 exists in D:PerlmutterData\\dl_seg_project_raw_3D_original\\data_crop_3D\\2020_01_10_15_41_20x\\labels\\autophagosome\n",
      "0009 exists in D:PerlmutterData\\dl_seg_project_raw_3D_original\\data_crop_3D\\2020_01_10_15_41_20x\\images\\autophagosome\n",
      "0009 exists in D:PerlmutterData\\dl_seg_project_raw_3D_original\\data_crop_3D\\2020_01_10_15_41_20x\\labels\\autophagosome\n",
      "0010 exists in D:PerlmutterData\\dl_seg_project_raw_3D_original\\data_crop_3D\\2020_01_10_15_41_20x\\images\\autophagosome\n",
      "0010 exists in D:PerlmutterData\\dl_seg_project_raw_3D_original\\data_crop_3D\\2020_01_10_15_41_20x\\labels\\autophagosome\n",
      "0011 exists in D:PerlmutterData\\dl_seg_project_raw_3D_original\\data_crop_3D\\2020_01_10_15_41_20x\\images\\autophagosome\n",
      "0011 exists in D:PerlmutterData\\dl_seg_project_raw_3D_original\\data_crop_3D\\2020_01_10_15_41_20x\\labels\\autophagosome\n",
      "0012 exists in D:PerlmutterData\\dl_seg_project_raw_3D_original\\data_crop_3D\\2020_01_10_15_41_20x\\images\\autophagosome\n",
      "0012 exists in D:PerlmutterData\\dl_seg_project_raw_3D_original\\data_crop_3D\\2020_01_10_15_41_20x\\labels\\autophagosome\n",
      "0013 exists in D:PerlmutterData\\dl_seg_project_raw_3D_original\\data_crop_3D\\2020_01_10_15_41_20x\\images\\autophagosome\n",
      "0013 exists in D:PerlmutterData\\dl_seg_project_raw_3D_original\\data_crop_3D\\2020_01_10_15_41_20x\\labels\\autophagosome\n",
      "0014 exists in D:PerlmutterData\\dl_seg_project_raw_3D_original\\data_crop_3D\\2020_01_10_15_41_20x\\images\\autophagosome\n",
      "0014 exists in D:PerlmutterData\\dl_seg_project_raw_3D_original\\data_crop_3D\\2020_01_10_15_41_20x\\labels\\autophagosome\n",
      "0015 exists in D:PerlmutterData\\dl_seg_project_raw_3D_original\\data_crop_3D\\2020_01_10_15_41_20x\\images\\autophagosome\n",
      "0015 exists in D:PerlmutterData\\dl_seg_project_raw_3D_original\\data_crop_3D\\2020_01_10_15_41_20x\\labels\\autophagosome\n",
      "0016 exists in D:PerlmutterData\\dl_seg_project_raw_3D_original\\data_crop_3D\\2020_01_10_15_41_20x\\images\\autophagosome\n",
      "0016 exists in D:PerlmutterData\\dl_seg_project_raw_3D_original\\data_crop_3D\\2020_01_10_15_41_20x\\labels\\autophagosome\n",
      "0017 exists in D:PerlmutterData\\dl_seg_project_raw_3D_original\\data_crop_3D\\2020_01_10_15_41_20x\\images\\autophagosome\n",
      "0017 exists in D:PerlmutterData\\dl_seg_project_raw_3D_original\\data_crop_3D\\2020_01_10_15_41_20x\\labels\\autophagosome\n",
      "0018 exists in D:PerlmutterData\\dl_seg_project_raw_3D_original\\data_crop_3D\\2020_01_10_15_41_20x\\images\\autophagosome\n",
      "0018 exists in D:PerlmutterData\\dl_seg_project_raw_3D_original\\data_crop_3D\\2020_01_10_15_41_20x\\labels\\autophagosome\n",
      "0019 exists in D:PerlmutterData\\dl_seg_project_raw_3D_original\\data_crop_3D\\2020_01_10_15_41_20x\\images\\autophagosome\n",
      "0019 exists in D:PerlmutterData\\dl_seg_project_raw_3D_original\\data_crop_3D\\2020_01_10_15_41_20x\\labels\\autophagosome\n",
      "0020 exists in D:PerlmutterData\\dl_seg_project_raw_3D_original\\data_crop_3D\\2020_01_10_15_41_20x\\images\\autophagosome\n",
      "0020 exists in D:PerlmutterData\\dl_seg_project_raw_3D_original\\data_crop_3D\\2020_01_10_15_41_20x\\labels\\autophagosome\n"
     ]
    },
    {
     "data": {
      "application/vnd.jupyter.widget-view+json": {
       "model_id": "fbffcf12f5db481d9acf933271eb371e",
       "version_major": 2,
       "version_minor": 0
      },
      "text/plain": [
       "HBox(children=(IntProgress(value=0, max=20), HTML(value='')))"
      ]
     },
     "metadata": {},
     "output_type": "display_data"
    },
    {
     "name": "stdout",
     "output_type": "stream",
     "text": [
      "\n"
     ]
    },
    {
     "data": {
      "application/vnd.jupyter.widget-view+json": {
       "model_id": "421b4839958f461eb67dd5cf13f1d324",
       "version_major": 2,
       "version_minor": 0
      },
      "text/plain": [
       "HBox(children=(IntProgress(value=0, max=20), HTML(value='')))"
      ]
     },
     "metadata": {},
     "output_type": "display_data"
    },
    {
     "name": "stdout",
     "output_type": "stream",
     "text": [
      "\n",
      "(20, 930, 2219)\n",
      "0001 exists in D:PerlmutterData\\dl_seg_project_raw_3D_original\\data_crop_3D\\2020_01_10_15_41_20x\\images\\autophagosome\n",
      "0001 exists in D:PerlmutterData\\dl_seg_project_raw_3D_original\\data_crop_3D\\2020_01_10_15_41_20x\\labels\\autophagosome\n",
      "0002 exists in D:PerlmutterData\\dl_seg_project_raw_3D_original\\data_crop_3D\\2020_01_10_15_41_20x\\images\\autophagosome\n",
      "0002 exists in D:PerlmutterData\\dl_seg_project_raw_3D_original\\data_crop_3D\\2020_01_10_15_41_20x\\labels\\autophagosome\n",
      "0003 exists in D:PerlmutterData\\dl_seg_project_raw_3D_original\\data_crop_3D\\2020_01_10_15_41_20x\\images\\autophagosome\n",
      "0003 exists in D:PerlmutterData\\dl_seg_project_raw_3D_original\\data_crop_3D\\2020_01_10_15_41_20x\\labels\\autophagosome\n",
      "0004 exists in D:PerlmutterData\\dl_seg_project_raw_3D_original\\data_crop_3D\\2020_01_10_15_41_20x\\images\\autophagosome\n",
      "0004 exists in D:PerlmutterData\\dl_seg_project_raw_3D_original\\data_crop_3D\\2020_01_10_15_41_20x\\labels\\autophagosome\n",
      "0005 exists in D:PerlmutterData\\dl_seg_project_raw_3D_original\\data_crop_3D\\2020_01_10_15_41_20x\\images\\autophagosome\n",
      "0005 exists in D:PerlmutterData\\dl_seg_project_raw_3D_original\\data_crop_3D\\2020_01_10_15_41_20x\\labels\\autophagosome\n",
      "0006 exists in D:PerlmutterData\\dl_seg_project_raw_3D_original\\data_crop_3D\\2020_01_10_15_41_20x\\images\\autophagosome\n",
      "0006 exists in D:PerlmutterData\\dl_seg_project_raw_3D_original\\data_crop_3D\\2020_01_10_15_41_20x\\labels\\autophagosome\n",
      "0007 exists in D:PerlmutterData\\dl_seg_project_raw_3D_original\\data_crop_3D\\2020_01_10_15_41_20x\\images\\autophagosome\n",
      "0007 exists in D:PerlmutterData\\dl_seg_project_raw_3D_original\\data_crop_3D\\2020_01_10_15_41_20x\\labels\\autophagosome\n",
      "0008 exists in D:PerlmutterData\\dl_seg_project_raw_3D_original\\data_crop_3D\\2020_01_10_15_41_20x\\images\\autophagosome\n",
      "0008 exists in D:PerlmutterData\\dl_seg_project_raw_3D_original\\data_crop_3D\\2020_01_10_15_41_20x\\labels\\autophagosome\n",
      "0009 exists in D:PerlmutterData\\dl_seg_project_raw_3D_original\\data_crop_3D\\2020_01_10_15_41_20x\\images\\autophagosome\n",
      "0009 exists in D:PerlmutterData\\dl_seg_project_raw_3D_original\\data_crop_3D\\2020_01_10_15_41_20x\\labels\\autophagosome\n",
      "0010 exists in D:PerlmutterData\\dl_seg_project_raw_3D_original\\data_crop_3D\\2020_01_10_15_41_20x\\images\\autophagosome\n",
      "0010 exists in D:PerlmutterData\\dl_seg_project_raw_3D_original\\data_crop_3D\\2020_01_10_15_41_20x\\labels\\autophagosome\n",
      "0011 exists in D:PerlmutterData\\dl_seg_project_raw_3D_original\\data_crop_3D\\2020_01_10_15_41_20x\\images\\autophagosome\n",
      "0011 exists in D:PerlmutterData\\dl_seg_project_raw_3D_original\\data_crop_3D\\2020_01_10_15_41_20x\\labels\\autophagosome\n",
      "0012 exists in D:PerlmutterData\\dl_seg_project_raw_3D_original\\data_crop_3D\\2020_01_10_15_41_20x\\images\\autophagosome\n",
      "0012 exists in D:PerlmutterData\\dl_seg_project_raw_3D_original\\data_crop_3D\\2020_01_10_15_41_20x\\labels\\autophagosome\n",
      "0013 exists in D:PerlmutterData\\dl_seg_project_raw_3D_original\\data_crop_3D\\2020_01_10_15_41_20x\\images\\autophagosome\n",
      "0013 exists in D:PerlmutterData\\dl_seg_project_raw_3D_original\\data_crop_3D\\2020_01_10_15_41_20x\\labels\\autophagosome\n",
      "0014 exists in D:PerlmutterData\\dl_seg_project_raw_3D_original\\data_crop_3D\\2020_01_10_15_41_20x\\images\\autophagosome\n",
      "0014 exists in D:PerlmutterData\\dl_seg_project_raw_3D_original\\data_crop_3D\\2020_01_10_15_41_20x\\labels\\autophagosome\n",
      "0015 exists in D:PerlmutterData\\dl_seg_project_raw_3D_original\\data_crop_3D\\2020_01_10_15_41_20x\\images\\autophagosome\n",
      "0015 exists in D:PerlmutterData\\dl_seg_project_raw_3D_original\\data_crop_3D\\2020_01_10_15_41_20x\\labels\\autophagosome\n",
      "0016 exists in D:PerlmutterData\\dl_seg_project_raw_3D_original\\data_crop_3D\\2020_01_10_15_41_20x\\images\\autophagosome\n",
      "0016 exists in D:PerlmutterData\\dl_seg_project_raw_3D_original\\data_crop_3D\\2020_01_10_15_41_20x\\labels\\autophagosome\n",
      "0017 exists in D:PerlmutterData\\dl_seg_project_raw_3D_original\\data_crop_3D\\2020_01_10_15_41_20x\\images\\autophagosome\n",
      "0017 exists in D:PerlmutterData\\dl_seg_project_raw_3D_original\\data_crop_3D\\2020_01_10_15_41_20x\\labels\\autophagosome\n",
      "0018 exists in D:PerlmutterData\\dl_seg_project_raw_3D_original\\data_crop_3D\\2020_01_10_15_41_20x\\images\\autophagosome\n",
      "0018 exists in D:PerlmutterData\\dl_seg_project_raw_3D_original\\data_crop_3D\\2020_01_10_15_41_20x\\labels\\autophagosome\n",
      "0019 exists in D:PerlmutterData\\dl_seg_project_raw_3D_original\\data_crop_3D\\2020_01_10_15_41_20x\\images\\autophagosome\n",
      "0019 exists in D:PerlmutterData\\dl_seg_project_raw_3D_original\\data_crop_3D\\2020_01_10_15_41_20x\\labels\\autophagosome\n",
      "0020 exists in D:PerlmutterData\\dl_seg_project_raw_3D_original\\data_crop_3D\\2020_01_10_15_41_20x\\images\\autophagosome\n",
      "0020 exists in D:PerlmutterData\\dl_seg_project_raw_3D_original\\data_crop_3D\\2020_01_10_15_41_20x\\labels\\autophagosome\n"
     ]
    },
    {
     "data": {
      "application/vnd.jupyter.widget-view+json": {
       "model_id": "420b0ba1a0a94d6c8fac6f229c6bf280",
       "version_major": 2,
       "version_minor": 0
      },
      "text/plain": [
       "HBox(children=(IntProgress(value=0, max=50), HTML(value='')))"
      ]
     },
     "metadata": {},
     "output_type": "display_data"
    },
    {
     "name": "stdout",
     "output_type": "stream",
     "text": [
      "\n"
     ]
    },
    {
     "data": {
      "application/vnd.jupyter.widget-view+json": {
       "model_id": "ded9cef3942146de81c36c7482e0efa3",
       "version_major": 2,
       "version_minor": 0
      },
      "text/plain": [
       "HBox(children=(IntProgress(value=0, max=50), HTML(value='')))"
      ]
     },
     "metadata": {},
     "output_type": "display_data"
    },
    {
     "name": "stdout",
     "output_type": "stream",
     "text": [
      "\n",
      "(50, 793, 2285)\n",
      "0001 exists in D:PerlmutterData\\dl_seg_project_raw_3D_original\\data_crop_3D\\2020_01_10_15_41_20x\\images\\autophagosome\n",
      "0001 exists in D:PerlmutterData\\dl_seg_project_raw_3D_original\\data_crop_3D\\2020_01_10_15_41_20x\\labels\\autophagosome\n",
      "0002 exists in D:PerlmutterData\\dl_seg_project_raw_3D_original\\data_crop_3D\\2020_01_10_15_41_20x\\images\\autophagosome\n",
      "0002 exists in D:PerlmutterData\\dl_seg_project_raw_3D_original\\data_crop_3D\\2020_01_10_15_41_20x\\labels\\autophagosome\n",
      "0003 exists in D:PerlmutterData\\dl_seg_project_raw_3D_original\\data_crop_3D\\2020_01_10_15_41_20x\\images\\autophagosome\n",
      "0003 exists in D:PerlmutterData\\dl_seg_project_raw_3D_original\\data_crop_3D\\2020_01_10_15_41_20x\\labels\\autophagosome\n",
      "0004 exists in D:PerlmutterData\\dl_seg_project_raw_3D_original\\data_crop_3D\\2020_01_10_15_41_20x\\images\\autophagosome\n",
      "0004 exists in D:PerlmutterData\\dl_seg_project_raw_3D_original\\data_crop_3D\\2020_01_10_15_41_20x\\labels\\autophagosome\n",
      "0005 exists in D:PerlmutterData\\dl_seg_project_raw_3D_original\\data_crop_3D\\2020_01_10_15_41_20x\\images\\autophagosome\n",
      "0005 exists in D:PerlmutterData\\dl_seg_project_raw_3D_original\\data_crop_3D\\2020_01_10_15_41_20x\\labels\\autophagosome\n",
      "0006 exists in D:PerlmutterData\\dl_seg_project_raw_3D_original\\data_crop_3D\\2020_01_10_15_41_20x\\images\\autophagosome\n",
      "0006 exists in D:PerlmutterData\\dl_seg_project_raw_3D_original\\data_crop_3D\\2020_01_10_15_41_20x\\labels\\autophagosome\n",
      "0007 exists in D:PerlmutterData\\dl_seg_project_raw_3D_original\\data_crop_3D\\2020_01_10_15_41_20x\\images\\autophagosome\n",
      "0007 exists in D:PerlmutterData\\dl_seg_project_raw_3D_original\\data_crop_3D\\2020_01_10_15_41_20x\\labels\\autophagosome\n",
      "0008 exists in D:PerlmutterData\\dl_seg_project_raw_3D_original\\data_crop_3D\\2020_01_10_15_41_20x\\images\\autophagosome\n",
      "0008 exists in D:PerlmutterData\\dl_seg_project_raw_3D_original\\data_crop_3D\\2020_01_10_15_41_20x\\labels\\autophagosome\n",
      "0009 exists in D:PerlmutterData\\dl_seg_project_raw_3D_original\\data_crop_3D\\2020_01_10_15_41_20x\\images\\autophagosome\n",
      "0009 exists in D:PerlmutterData\\dl_seg_project_raw_3D_original\\data_crop_3D\\2020_01_10_15_41_20x\\labels\\autophagosome\n",
      "0010 exists in D:PerlmutterData\\dl_seg_project_raw_3D_original\\data_crop_3D\\2020_01_10_15_41_20x\\images\\autophagosome\n",
      "0010 exists in D:PerlmutterData\\dl_seg_project_raw_3D_original\\data_crop_3D\\2020_01_10_15_41_20x\\labels\\autophagosome\n",
      "0011 exists in D:PerlmutterData\\dl_seg_project_raw_3D_original\\data_crop_3D\\2020_01_10_15_41_20x\\images\\autophagosome\n",
      "0011 exists in D:PerlmutterData\\dl_seg_project_raw_3D_original\\data_crop_3D\\2020_01_10_15_41_20x\\labels\\autophagosome\n",
      "0012 exists in D:PerlmutterData\\dl_seg_project_raw_3D_original\\data_crop_3D\\2020_01_10_15_41_20x\\images\\autophagosome\n",
      "0012 exists in D:PerlmutterData\\dl_seg_project_raw_3D_original\\data_crop_3D\\2020_01_10_15_41_20x\\labels\\autophagosome\n",
      "0013 exists in D:PerlmutterData\\dl_seg_project_raw_3D_original\\data_crop_3D\\2020_01_10_15_41_20x\\images\\autophagosome\n",
      "0013 exists in D:PerlmutterData\\dl_seg_project_raw_3D_original\\data_crop_3D\\2020_01_10_15_41_20x\\labels\\autophagosome\n",
      "0014 exists in D:PerlmutterData\\dl_seg_project_raw_3D_original\\data_crop_3D\\2020_01_10_15_41_20x\\images\\autophagosome\n",
      "0014 exists in D:PerlmutterData\\dl_seg_project_raw_3D_original\\data_crop_3D\\2020_01_10_15_41_20x\\labels\\autophagosome\n",
      "0015 exists in D:PerlmutterData\\dl_seg_project_raw_3D_original\\data_crop_3D\\2020_01_10_15_41_20x\\images\\autophagosome\n",
      "0015 exists in D:PerlmutterData\\dl_seg_project_raw_3D_original\\data_crop_3D\\2020_01_10_15_41_20x\\labels\\autophagosome\n",
      "0016 exists in D:PerlmutterData\\dl_seg_project_raw_3D_original\\data_crop_3D\\2020_01_10_15_41_20x\\images\\autophagosome\n",
      "0016 exists in D:PerlmutterData\\dl_seg_project_raw_3D_original\\data_crop_3D\\2020_01_10_15_41_20x\\labels\\autophagosome\n",
      "0017 exists in D:PerlmutterData\\dl_seg_project_raw_3D_original\\data_crop_3D\\2020_01_10_15_41_20x\\images\\autophagosome\n",
      "0017 exists in D:PerlmutterData\\dl_seg_project_raw_3D_original\\data_crop_3D\\2020_01_10_15_41_20x\\labels\\autophagosome\n",
      "0018 exists in D:PerlmutterData\\dl_seg_project_raw_3D_original\\data_crop_3D\\2020_01_10_15_41_20x\\images\\autophagosome\n",
      "0018 exists in D:PerlmutterData\\dl_seg_project_raw_3D_original\\data_crop_3D\\2020_01_10_15_41_20x\\labels\\autophagosome\n",
      "0019 exists in D:PerlmutterData\\dl_seg_project_raw_3D_original\\data_crop_3D\\2020_01_10_15_41_20x\\images\\autophagosome\n",
      "0019 exists in D:PerlmutterData\\dl_seg_project_raw_3D_original\\data_crop_3D\\2020_01_10_15_41_20x\\labels\\autophagosome\n",
      "0020 exists in D:PerlmutterData\\dl_seg_project_raw_3D_original\\data_crop_3D\\2020_01_10_15_41_20x\\images\\autophagosome\n",
      "0020 exists in D:PerlmutterData\\dl_seg_project_raw_3D_original\\data_crop_3D\\2020_01_10_15_41_20x\\labels\\autophagosome\n",
      "\n",
      "Finish\n",
      "Croping the images from group cell_membrane...\n"
     ]
    },
    {
     "data": {
      "application/vnd.jupyter.widget-view+json": {
       "model_id": "bdbc5ce5cfe44074ad1c6fcd93cfc7db",
       "version_major": 2,
       "version_minor": 0
      },
      "text/plain": [
       "HBox(children=(IntProgress(value=0, max=6), HTML(value='')))"
      ]
     },
     "metadata": {},
     "output_type": "display_data"
    },
    {
     "data": {
      "application/vnd.jupyter.widget-view+json": {
       "model_id": "35b187bba09c4e14b42790366cf52757",
       "version_major": 2,
       "version_minor": 0
      },
      "text/plain": [
       "HBox(children=(IntProgress(value=0, max=20), HTML(value='')))"
      ]
     },
     "metadata": {},
     "output_type": "display_data"
    },
    {
     "name": "stdout",
     "output_type": "stream",
     "text": [
      "\n"
     ]
    },
    {
     "data": {
      "application/vnd.jupyter.widget-view+json": {
       "model_id": "381579f7b0d14888a0ef9e8b6ad6edd7",
       "version_major": 2,
       "version_minor": 0
      },
      "text/plain": [
       "HBox(children=(IntProgress(value=0, max=20), HTML(value='')))"
      ]
     },
     "metadata": {},
     "output_type": "display_data"
    },
    {
     "name": "stdout",
     "output_type": "stream",
     "text": [
      "\n",
      "(20, 883, 2297)\n",
      "0001 does not exist in D:PerlmutterData\\dl_seg_project_raw_3D_original\\data_crop_3D\\2020_01_10_15_41_20x\\images\\cell_membrane\n",
      "0001 does not exist in D:PerlmutterData\\dl_seg_project_raw_3D_original\\data_crop_3D\\2020_01_10_15_41_20x\\labels\\cell_membrane\n",
      "0002 does not exist in D:PerlmutterData\\dl_seg_project_raw_3D_original\\data_crop_3D\\2020_01_10_15_41_20x\\images\\cell_membrane\n",
      "0002 does not exist in D:PerlmutterData\\dl_seg_project_raw_3D_original\\data_crop_3D\\2020_01_10_15_41_20x\\labels\\cell_membrane\n",
      "0003 does not exist in D:PerlmutterData\\dl_seg_project_raw_3D_original\\data_crop_3D\\2020_01_10_15_41_20x\\images\\cell_membrane\n",
      "0003 does not exist in D:PerlmutterData\\dl_seg_project_raw_3D_original\\data_crop_3D\\2020_01_10_15_41_20x\\labels\\cell_membrane\n",
      "0004 does not exist in D:PerlmutterData\\dl_seg_project_raw_3D_original\\data_crop_3D\\2020_01_10_15_41_20x\\images\\cell_membrane\n",
      "0004 does not exist in D:PerlmutterData\\dl_seg_project_raw_3D_original\\data_crop_3D\\2020_01_10_15_41_20x\\labels\\cell_membrane\n",
      "0005 does not exist in D:PerlmutterData\\dl_seg_project_raw_3D_original\\data_crop_3D\\2020_01_10_15_41_20x\\images\\cell_membrane\n",
      "0005 does not exist in D:PerlmutterData\\dl_seg_project_raw_3D_original\\data_crop_3D\\2020_01_10_15_41_20x\\labels\\cell_membrane\n",
      "0006 does not exist in D:PerlmutterData\\dl_seg_project_raw_3D_original\\data_crop_3D\\2020_01_10_15_41_20x\\images\\cell_membrane\n",
      "0006 does not exist in D:PerlmutterData\\dl_seg_project_raw_3D_original\\data_crop_3D\\2020_01_10_15_41_20x\\labels\\cell_membrane\n",
      "0007 does not exist in D:PerlmutterData\\dl_seg_project_raw_3D_original\\data_crop_3D\\2020_01_10_15_41_20x\\images\\cell_membrane\n",
      "0007 does not exist in D:PerlmutterData\\dl_seg_project_raw_3D_original\\data_crop_3D\\2020_01_10_15_41_20x\\labels\\cell_membrane\n",
      "0008 does not exist in D:PerlmutterData\\dl_seg_project_raw_3D_original\\data_crop_3D\\2020_01_10_15_41_20x\\images\\cell_membrane\n",
      "0008 does not exist in D:PerlmutterData\\dl_seg_project_raw_3D_original\\data_crop_3D\\2020_01_10_15_41_20x\\labels\\cell_membrane\n",
      "0009 does not exist in D:PerlmutterData\\dl_seg_project_raw_3D_original\\data_crop_3D\\2020_01_10_15_41_20x\\images\\cell_membrane\n",
      "0009 does not exist in D:PerlmutterData\\dl_seg_project_raw_3D_original\\data_crop_3D\\2020_01_10_15_41_20x\\labels\\cell_membrane\n",
      "0010 does not exist in D:PerlmutterData\\dl_seg_project_raw_3D_original\\data_crop_3D\\2020_01_10_15_41_20x\\images\\cell_membrane\n",
      "0010 does not exist in D:PerlmutterData\\dl_seg_project_raw_3D_original\\data_crop_3D\\2020_01_10_15_41_20x\\labels\\cell_membrane\n",
      "0011 does not exist in D:PerlmutterData\\dl_seg_project_raw_3D_original\\data_crop_3D\\2020_01_10_15_41_20x\\images\\cell_membrane\n",
      "0011 does not exist in D:PerlmutterData\\dl_seg_project_raw_3D_original\\data_crop_3D\\2020_01_10_15_41_20x\\labels\\cell_membrane\n",
      "0012 does not exist in D:PerlmutterData\\dl_seg_project_raw_3D_original\\data_crop_3D\\2020_01_10_15_41_20x\\images\\cell_membrane\n",
      "0012 does not exist in D:PerlmutterData\\dl_seg_project_raw_3D_original\\data_crop_3D\\2020_01_10_15_41_20x\\labels\\cell_membrane\n",
      "0013 does not exist in D:PerlmutterData\\dl_seg_project_raw_3D_original\\data_crop_3D\\2020_01_10_15_41_20x\\images\\cell_membrane\n",
      "0013 does not exist in D:PerlmutterData\\dl_seg_project_raw_3D_original\\data_crop_3D\\2020_01_10_15_41_20x\\labels\\cell_membrane\n",
      "0014 does not exist in D:PerlmutterData\\dl_seg_project_raw_3D_original\\data_crop_3D\\2020_01_10_15_41_20x\\images\\cell_membrane\n",
      "0014 does not exist in D:PerlmutterData\\dl_seg_project_raw_3D_original\\data_crop_3D\\2020_01_10_15_41_20x\\labels\\cell_membrane\n",
      "0015 does not exist in D:PerlmutterData\\dl_seg_project_raw_3D_original\\data_crop_3D\\2020_01_10_15_41_20x\\images\\cell_membrane\n",
      "0015 does not exist in D:PerlmutterData\\dl_seg_project_raw_3D_original\\data_crop_3D\\2020_01_10_15_41_20x\\labels\\cell_membrane\n",
      "0016 does not exist in D:PerlmutterData\\dl_seg_project_raw_3D_original\\data_crop_3D\\2020_01_10_15_41_20x\\images\\cell_membrane\n",
      "0016 does not exist in D:PerlmutterData\\dl_seg_project_raw_3D_original\\data_crop_3D\\2020_01_10_15_41_20x\\labels\\cell_membrane\n",
      "0017 does not exist in D:PerlmutterData\\dl_seg_project_raw_3D_original\\data_crop_3D\\2020_01_10_15_41_20x\\images\\cell_membrane\n",
      "0017 does not exist in D:PerlmutterData\\dl_seg_project_raw_3D_original\\data_crop_3D\\2020_01_10_15_41_20x\\labels\\cell_membrane\n",
      "0018 does not exist in D:PerlmutterData\\dl_seg_project_raw_3D_original\\data_crop_3D\\2020_01_10_15_41_20x\\images\\cell_membrane\n",
      "0018 does not exist in D:PerlmutterData\\dl_seg_project_raw_3D_original\\data_crop_3D\\2020_01_10_15_41_20x\\labels\\cell_membrane\n",
      "0019 does not exist in D:PerlmutterData\\dl_seg_project_raw_3D_original\\data_crop_3D\\2020_01_10_15_41_20x\\images\\cell_membrane\n",
      "0019 does not exist in D:PerlmutterData\\dl_seg_project_raw_3D_original\\data_crop_3D\\2020_01_10_15_41_20x\\labels\\cell_membrane\n",
      "0020 does not exist in D:PerlmutterData\\dl_seg_project_raw_3D_original\\data_crop_3D\\2020_01_10_15_41_20x\\images\\cell_membrane\n",
      "0020 does not exist in D:PerlmutterData\\dl_seg_project_raw_3D_original\\data_crop_3D\\2020_01_10_15_41_20x\\labels\\cell_membrane\n"
     ]
    },
    {
     "data": {
      "application/vnd.jupyter.widget-view+json": {
       "model_id": "c2a67ab9caf047469dcdfac3cf3d4399",
       "version_major": 2,
       "version_minor": 0
      },
      "text/plain": [
       "HBox(children=(IntProgress(value=0, max=20), HTML(value='')))"
      ]
     },
     "metadata": {},
     "output_type": "display_data"
    },
    {
     "name": "stdout",
     "output_type": "stream",
     "text": [
      "\n"
     ]
    },
    {
     "data": {
      "application/vnd.jupyter.widget-view+json": {
       "model_id": "b9a22f093fe04a87ab62c08ef9fa63b9",
       "version_major": 2,
       "version_minor": 0
      },
      "text/plain": [
       "HBox(children=(IntProgress(value=0, max=20), HTML(value='')))"
      ]
     },
     "metadata": {},
     "output_type": "display_data"
    },
    {
     "name": "stdout",
     "output_type": "stream",
     "text": [
      "\n",
      "(20, 844, 2238)\n",
      "0001 exists in D:PerlmutterData\\dl_seg_project_raw_3D_original\\data_crop_3D\\2020_01_10_15_41_20x\\images\\cell_membrane\n",
      "0001 exists in D:PerlmutterData\\dl_seg_project_raw_3D_original\\data_crop_3D\\2020_01_10_15_41_20x\\labels\\cell_membrane\n",
      "0002 exists in D:PerlmutterData\\dl_seg_project_raw_3D_original\\data_crop_3D\\2020_01_10_15_41_20x\\images\\cell_membrane\n",
      "0002 exists in D:PerlmutterData\\dl_seg_project_raw_3D_original\\data_crop_3D\\2020_01_10_15_41_20x\\labels\\cell_membrane\n",
      "0003 exists in D:PerlmutterData\\dl_seg_project_raw_3D_original\\data_crop_3D\\2020_01_10_15_41_20x\\images\\cell_membrane\n",
      "0003 exists in D:PerlmutterData\\dl_seg_project_raw_3D_original\\data_crop_3D\\2020_01_10_15_41_20x\\labels\\cell_membrane\n",
      "0004 exists in D:PerlmutterData\\dl_seg_project_raw_3D_original\\data_crop_3D\\2020_01_10_15_41_20x\\images\\cell_membrane\n",
      "0004 exists in D:PerlmutterData\\dl_seg_project_raw_3D_original\\data_crop_3D\\2020_01_10_15_41_20x\\labels\\cell_membrane\n",
      "0005 exists in D:PerlmutterData\\dl_seg_project_raw_3D_original\\data_crop_3D\\2020_01_10_15_41_20x\\images\\cell_membrane\n",
      "0005 exists in D:PerlmutterData\\dl_seg_project_raw_3D_original\\data_crop_3D\\2020_01_10_15_41_20x\\labels\\cell_membrane\n",
      "0006 exists in D:PerlmutterData\\dl_seg_project_raw_3D_original\\data_crop_3D\\2020_01_10_15_41_20x\\images\\cell_membrane\n",
      "0006 exists in D:PerlmutterData\\dl_seg_project_raw_3D_original\\data_crop_3D\\2020_01_10_15_41_20x\\labels\\cell_membrane\n",
      "0007 exists in D:PerlmutterData\\dl_seg_project_raw_3D_original\\data_crop_3D\\2020_01_10_15_41_20x\\images\\cell_membrane\n",
      "0007 exists in D:PerlmutterData\\dl_seg_project_raw_3D_original\\data_crop_3D\\2020_01_10_15_41_20x\\labels\\cell_membrane\n",
      "0008 exists in D:PerlmutterData\\dl_seg_project_raw_3D_original\\data_crop_3D\\2020_01_10_15_41_20x\\images\\cell_membrane\n",
      "0008 exists in D:PerlmutterData\\dl_seg_project_raw_3D_original\\data_crop_3D\\2020_01_10_15_41_20x\\labels\\cell_membrane\n",
      "0009 exists in D:PerlmutterData\\dl_seg_project_raw_3D_original\\data_crop_3D\\2020_01_10_15_41_20x\\images\\cell_membrane\n",
      "0009 exists in D:PerlmutterData\\dl_seg_project_raw_3D_original\\data_crop_3D\\2020_01_10_15_41_20x\\labels\\cell_membrane\n",
      "0010 exists in D:PerlmutterData\\dl_seg_project_raw_3D_original\\data_crop_3D\\2020_01_10_15_41_20x\\images\\cell_membrane\n",
      "0010 exists in D:PerlmutterData\\dl_seg_project_raw_3D_original\\data_crop_3D\\2020_01_10_15_41_20x\\labels\\cell_membrane\n",
      "0011 exists in D:PerlmutterData\\dl_seg_project_raw_3D_original\\data_crop_3D\\2020_01_10_15_41_20x\\images\\cell_membrane\n",
      "0011 exists in D:PerlmutterData\\dl_seg_project_raw_3D_original\\data_crop_3D\\2020_01_10_15_41_20x\\labels\\cell_membrane\n",
      "0012 exists in D:PerlmutterData\\dl_seg_project_raw_3D_original\\data_crop_3D\\2020_01_10_15_41_20x\\images\\cell_membrane\n",
      "0012 exists in D:PerlmutterData\\dl_seg_project_raw_3D_original\\data_crop_3D\\2020_01_10_15_41_20x\\labels\\cell_membrane\n",
      "0013 exists in D:PerlmutterData\\dl_seg_project_raw_3D_original\\data_crop_3D\\2020_01_10_15_41_20x\\images\\cell_membrane\n",
      "0013 exists in D:PerlmutterData\\dl_seg_project_raw_3D_original\\data_crop_3D\\2020_01_10_15_41_20x\\labels\\cell_membrane\n",
      "0014 exists in D:PerlmutterData\\dl_seg_project_raw_3D_original\\data_crop_3D\\2020_01_10_15_41_20x\\images\\cell_membrane\n",
      "0014 exists in D:PerlmutterData\\dl_seg_project_raw_3D_original\\data_crop_3D\\2020_01_10_15_41_20x\\labels\\cell_membrane\n",
      "0015 exists in D:PerlmutterData\\dl_seg_project_raw_3D_original\\data_crop_3D\\2020_01_10_15_41_20x\\images\\cell_membrane\n",
      "0015 exists in D:PerlmutterData\\dl_seg_project_raw_3D_original\\data_crop_3D\\2020_01_10_15_41_20x\\labels\\cell_membrane\n",
      "0016 exists in D:PerlmutterData\\dl_seg_project_raw_3D_original\\data_crop_3D\\2020_01_10_15_41_20x\\images\\cell_membrane\n",
      "0016 exists in D:PerlmutterData\\dl_seg_project_raw_3D_original\\data_crop_3D\\2020_01_10_15_41_20x\\labels\\cell_membrane\n",
      "0017 exists in D:PerlmutterData\\dl_seg_project_raw_3D_original\\data_crop_3D\\2020_01_10_15_41_20x\\images\\cell_membrane\n",
      "0017 exists in D:PerlmutterData\\dl_seg_project_raw_3D_original\\data_crop_3D\\2020_01_10_15_41_20x\\labels\\cell_membrane\n",
      "0018 exists in D:PerlmutterData\\dl_seg_project_raw_3D_original\\data_crop_3D\\2020_01_10_15_41_20x\\images\\cell_membrane\n",
      "0018 exists in D:PerlmutterData\\dl_seg_project_raw_3D_original\\data_crop_3D\\2020_01_10_15_41_20x\\labels\\cell_membrane\n",
      "0019 exists in D:PerlmutterData\\dl_seg_project_raw_3D_original\\data_crop_3D\\2020_01_10_15_41_20x\\images\\cell_membrane\n",
      "0019 exists in D:PerlmutterData\\dl_seg_project_raw_3D_original\\data_crop_3D\\2020_01_10_15_41_20x\\labels\\cell_membrane\n",
      "0020 exists in D:PerlmutterData\\dl_seg_project_raw_3D_original\\data_crop_3D\\2020_01_10_15_41_20x\\images\\cell_membrane\n",
      "0020 exists in D:PerlmutterData\\dl_seg_project_raw_3D_original\\data_crop_3D\\2020_01_10_15_41_20x\\labels\\cell_membrane\n"
     ]
    },
    {
     "data": {
      "application/vnd.jupyter.widget-view+json": {
       "model_id": "d3723f248f4f4d4dbf4af0d4d04a2fbb",
       "version_major": 2,
       "version_minor": 0
      },
      "text/plain": [
       "HBox(children=(IntProgress(value=0, max=20), HTML(value='')))"
      ]
     },
     "metadata": {},
     "output_type": "display_data"
    },
    {
     "name": "stdout",
     "output_type": "stream",
     "text": [
      "\n"
     ]
    },
    {
     "data": {
      "application/vnd.jupyter.widget-view+json": {
       "model_id": "16740bafab1449e7ac674f717e1a23cb",
       "version_major": 2,
       "version_minor": 0
      },
      "text/plain": [
       "HBox(children=(IntProgress(value=0, max=20), HTML(value='')))"
      ]
     },
     "metadata": {},
     "output_type": "display_data"
    },
    {
     "name": "stdout",
     "output_type": "stream",
     "text": [
      "\n",
      "(20, 938, 2216)\n",
      "0001 exists in D:PerlmutterData\\dl_seg_project_raw_3D_original\\data_crop_3D\\2020_01_10_15_41_20x\\images\\cell_membrane\n",
      "0001 exists in D:PerlmutterData\\dl_seg_project_raw_3D_original\\data_crop_3D\\2020_01_10_15_41_20x\\labels\\cell_membrane\n",
      "0002 exists in D:PerlmutterData\\dl_seg_project_raw_3D_original\\data_crop_3D\\2020_01_10_15_41_20x\\images\\cell_membrane\n",
      "0002 exists in D:PerlmutterData\\dl_seg_project_raw_3D_original\\data_crop_3D\\2020_01_10_15_41_20x\\labels\\cell_membrane\n",
      "0003 exists in D:PerlmutterData\\dl_seg_project_raw_3D_original\\data_crop_3D\\2020_01_10_15_41_20x\\images\\cell_membrane\n",
      "0003 exists in D:PerlmutterData\\dl_seg_project_raw_3D_original\\data_crop_3D\\2020_01_10_15_41_20x\\labels\\cell_membrane\n",
      "0004 exists in D:PerlmutterData\\dl_seg_project_raw_3D_original\\data_crop_3D\\2020_01_10_15_41_20x\\images\\cell_membrane\n",
      "0004 exists in D:PerlmutterData\\dl_seg_project_raw_3D_original\\data_crop_3D\\2020_01_10_15_41_20x\\labels\\cell_membrane\n",
      "0005 exists in D:PerlmutterData\\dl_seg_project_raw_3D_original\\data_crop_3D\\2020_01_10_15_41_20x\\images\\cell_membrane\n",
      "0005 exists in D:PerlmutterData\\dl_seg_project_raw_3D_original\\data_crop_3D\\2020_01_10_15_41_20x\\labels\\cell_membrane\n",
      "0006 exists in D:PerlmutterData\\dl_seg_project_raw_3D_original\\data_crop_3D\\2020_01_10_15_41_20x\\images\\cell_membrane\n",
      "0006 exists in D:PerlmutterData\\dl_seg_project_raw_3D_original\\data_crop_3D\\2020_01_10_15_41_20x\\labels\\cell_membrane\n",
      "0007 exists in D:PerlmutterData\\dl_seg_project_raw_3D_original\\data_crop_3D\\2020_01_10_15_41_20x\\images\\cell_membrane\n",
      "0007 exists in D:PerlmutterData\\dl_seg_project_raw_3D_original\\data_crop_3D\\2020_01_10_15_41_20x\\labels\\cell_membrane\n",
      "0008 exists in D:PerlmutterData\\dl_seg_project_raw_3D_original\\data_crop_3D\\2020_01_10_15_41_20x\\images\\cell_membrane\n",
      "0008 exists in D:PerlmutterData\\dl_seg_project_raw_3D_original\\data_crop_3D\\2020_01_10_15_41_20x\\labels\\cell_membrane\n",
      "0009 exists in D:PerlmutterData\\dl_seg_project_raw_3D_original\\data_crop_3D\\2020_01_10_15_41_20x\\images\\cell_membrane\n",
      "0009 exists in D:PerlmutterData\\dl_seg_project_raw_3D_original\\data_crop_3D\\2020_01_10_15_41_20x\\labels\\cell_membrane\n",
      "0010 exists in D:PerlmutterData\\dl_seg_project_raw_3D_original\\data_crop_3D\\2020_01_10_15_41_20x\\images\\cell_membrane\n",
      "0010 exists in D:PerlmutterData\\dl_seg_project_raw_3D_original\\data_crop_3D\\2020_01_10_15_41_20x\\labels\\cell_membrane\n",
      "0011 exists in D:PerlmutterData\\dl_seg_project_raw_3D_original\\data_crop_3D\\2020_01_10_15_41_20x\\images\\cell_membrane\n",
      "0011 exists in D:PerlmutterData\\dl_seg_project_raw_3D_original\\data_crop_3D\\2020_01_10_15_41_20x\\labels\\cell_membrane\n",
      "0012 exists in D:PerlmutterData\\dl_seg_project_raw_3D_original\\data_crop_3D\\2020_01_10_15_41_20x\\images\\cell_membrane\n",
      "0012 exists in D:PerlmutterData\\dl_seg_project_raw_3D_original\\data_crop_3D\\2020_01_10_15_41_20x\\labels\\cell_membrane\n",
      "0013 exists in D:PerlmutterData\\dl_seg_project_raw_3D_original\\data_crop_3D\\2020_01_10_15_41_20x\\images\\cell_membrane\n",
      "0013 exists in D:PerlmutterData\\dl_seg_project_raw_3D_original\\data_crop_3D\\2020_01_10_15_41_20x\\labels\\cell_membrane\n",
      "0014 exists in D:PerlmutterData\\dl_seg_project_raw_3D_original\\data_crop_3D\\2020_01_10_15_41_20x\\images\\cell_membrane\n",
      "0014 exists in D:PerlmutterData\\dl_seg_project_raw_3D_original\\data_crop_3D\\2020_01_10_15_41_20x\\labels\\cell_membrane\n",
      "0015 exists in D:PerlmutterData\\dl_seg_project_raw_3D_original\\data_crop_3D\\2020_01_10_15_41_20x\\images\\cell_membrane\n",
      "0015 exists in D:PerlmutterData\\dl_seg_project_raw_3D_original\\data_crop_3D\\2020_01_10_15_41_20x\\labels\\cell_membrane\n",
      "0016 exists in D:PerlmutterData\\dl_seg_project_raw_3D_original\\data_crop_3D\\2020_01_10_15_41_20x\\images\\cell_membrane\n",
      "0016 exists in D:PerlmutterData\\dl_seg_project_raw_3D_original\\data_crop_3D\\2020_01_10_15_41_20x\\labels\\cell_membrane\n",
      "0017 exists in D:PerlmutterData\\dl_seg_project_raw_3D_original\\data_crop_3D\\2020_01_10_15_41_20x\\images\\cell_membrane\n",
      "0017 exists in D:PerlmutterData\\dl_seg_project_raw_3D_original\\data_crop_3D\\2020_01_10_15_41_20x\\labels\\cell_membrane\n",
      "0018 exists in D:PerlmutterData\\dl_seg_project_raw_3D_original\\data_crop_3D\\2020_01_10_15_41_20x\\images\\cell_membrane\n",
      "0018 exists in D:PerlmutterData\\dl_seg_project_raw_3D_original\\data_crop_3D\\2020_01_10_15_41_20x\\labels\\cell_membrane\n",
      "0019 exists in D:PerlmutterData\\dl_seg_project_raw_3D_original\\data_crop_3D\\2020_01_10_15_41_20x\\images\\cell_membrane\n",
      "0019 exists in D:PerlmutterData\\dl_seg_project_raw_3D_original\\data_crop_3D\\2020_01_10_15_41_20x\\labels\\cell_membrane\n",
      "0020 exists in D:PerlmutterData\\dl_seg_project_raw_3D_original\\data_crop_3D\\2020_01_10_15_41_20x\\images\\cell_membrane\n",
      "0020 exists in D:PerlmutterData\\dl_seg_project_raw_3D_original\\data_crop_3D\\2020_01_10_15_41_20x\\labels\\cell_membrane\n"
     ]
    },
    {
     "data": {
      "application/vnd.jupyter.widget-view+json": {
       "model_id": "68267efeb7b04bebba9a81c267fa1dae",
       "version_major": 2,
       "version_minor": 0
      },
      "text/plain": [
       "HBox(children=(IntProgress(value=0, max=20), HTML(value='')))"
      ]
     },
     "metadata": {},
     "output_type": "display_data"
    },
    {
     "name": "stdout",
     "output_type": "stream",
     "text": [
      "\n"
     ]
    },
    {
     "data": {
      "application/vnd.jupyter.widget-view+json": {
       "model_id": "a9a95a41844b4ad8b219514be39cf47d",
       "version_major": 2,
       "version_minor": 0
      },
      "text/plain": [
       "HBox(children=(IntProgress(value=0, max=20), HTML(value='')))"
      ]
     },
     "metadata": {},
     "output_type": "display_data"
    },
    {
     "name": "stdout",
     "output_type": "stream",
     "text": [
      "\n",
      "(20, 930, 2219)\n",
      "0001 exists in D:PerlmutterData\\dl_seg_project_raw_3D_original\\data_crop_3D\\2020_01_10_15_41_20x\\images\\cell_membrane\n",
      "0001 exists in D:PerlmutterData\\dl_seg_project_raw_3D_original\\data_crop_3D\\2020_01_10_15_41_20x\\labels\\cell_membrane\n",
      "0002 exists in D:PerlmutterData\\dl_seg_project_raw_3D_original\\data_crop_3D\\2020_01_10_15_41_20x\\images\\cell_membrane\n",
      "0002 exists in D:PerlmutterData\\dl_seg_project_raw_3D_original\\data_crop_3D\\2020_01_10_15_41_20x\\labels\\cell_membrane\n",
      "0003 exists in D:PerlmutterData\\dl_seg_project_raw_3D_original\\data_crop_3D\\2020_01_10_15_41_20x\\images\\cell_membrane\n",
      "0003 exists in D:PerlmutterData\\dl_seg_project_raw_3D_original\\data_crop_3D\\2020_01_10_15_41_20x\\labels\\cell_membrane\n",
      "0004 exists in D:PerlmutterData\\dl_seg_project_raw_3D_original\\data_crop_3D\\2020_01_10_15_41_20x\\images\\cell_membrane\n",
      "0004 exists in D:PerlmutterData\\dl_seg_project_raw_3D_original\\data_crop_3D\\2020_01_10_15_41_20x\\labels\\cell_membrane\n",
      "0005 exists in D:PerlmutterData\\dl_seg_project_raw_3D_original\\data_crop_3D\\2020_01_10_15_41_20x\\images\\cell_membrane\n",
      "0005 exists in D:PerlmutterData\\dl_seg_project_raw_3D_original\\data_crop_3D\\2020_01_10_15_41_20x\\labels\\cell_membrane\n",
      "0006 exists in D:PerlmutterData\\dl_seg_project_raw_3D_original\\data_crop_3D\\2020_01_10_15_41_20x\\images\\cell_membrane\n",
      "0006 exists in D:PerlmutterData\\dl_seg_project_raw_3D_original\\data_crop_3D\\2020_01_10_15_41_20x\\labels\\cell_membrane\n",
      "0007 exists in D:PerlmutterData\\dl_seg_project_raw_3D_original\\data_crop_3D\\2020_01_10_15_41_20x\\images\\cell_membrane\n",
      "0007 exists in D:PerlmutterData\\dl_seg_project_raw_3D_original\\data_crop_3D\\2020_01_10_15_41_20x\\labels\\cell_membrane\n",
      "0008 exists in D:PerlmutterData\\dl_seg_project_raw_3D_original\\data_crop_3D\\2020_01_10_15_41_20x\\images\\cell_membrane\n",
      "0008 exists in D:PerlmutterData\\dl_seg_project_raw_3D_original\\data_crop_3D\\2020_01_10_15_41_20x\\labels\\cell_membrane\n",
      "0009 exists in D:PerlmutterData\\dl_seg_project_raw_3D_original\\data_crop_3D\\2020_01_10_15_41_20x\\images\\cell_membrane\n",
      "0009 exists in D:PerlmutterData\\dl_seg_project_raw_3D_original\\data_crop_3D\\2020_01_10_15_41_20x\\labels\\cell_membrane\n",
      "0010 exists in D:PerlmutterData\\dl_seg_project_raw_3D_original\\data_crop_3D\\2020_01_10_15_41_20x\\images\\cell_membrane\n",
      "0010 exists in D:PerlmutterData\\dl_seg_project_raw_3D_original\\data_crop_3D\\2020_01_10_15_41_20x\\labels\\cell_membrane\n",
      "0011 exists in D:PerlmutterData\\dl_seg_project_raw_3D_original\\data_crop_3D\\2020_01_10_15_41_20x\\images\\cell_membrane\n",
      "0011 exists in D:PerlmutterData\\dl_seg_project_raw_3D_original\\data_crop_3D\\2020_01_10_15_41_20x\\labels\\cell_membrane\n",
      "0012 exists in D:PerlmutterData\\dl_seg_project_raw_3D_original\\data_crop_3D\\2020_01_10_15_41_20x\\images\\cell_membrane\n",
      "0012 exists in D:PerlmutterData\\dl_seg_project_raw_3D_original\\data_crop_3D\\2020_01_10_15_41_20x\\labels\\cell_membrane\n",
      "0013 exists in D:PerlmutterData\\dl_seg_project_raw_3D_original\\data_crop_3D\\2020_01_10_15_41_20x\\images\\cell_membrane\n",
      "0013 exists in D:PerlmutterData\\dl_seg_project_raw_3D_original\\data_crop_3D\\2020_01_10_15_41_20x\\labels\\cell_membrane\n",
      "0014 exists in D:PerlmutterData\\dl_seg_project_raw_3D_original\\data_crop_3D\\2020_01_10_15_41_20x\\images\\cell_membrane\n",
      "0014 exists in D:PerlmutterData\\dl_seg_project_raw_3D_original\\data_crop_3D\\2020_01_10_15_41_20x\\labels\\cell_membrane\n",
      "0015 exists in D:PerlmutterData\\dl_seg_project_raw_3D_original\\data_crop_3D\\2020_01_10_15_41_20x\\images\\cell_membrane\n",
      "0015 exists in D:PerlmutterData\\dl_seg_project_raw_3D_original\\data_crop_3D\\2020_01_10_15_41_20x\\labels\\cell_membrane\n",
      "0016 exists in D:PerlmutterData\\dl_seg_project_raw_3D_original\\data_crop_3D\\2020_01_10_15_41_20x\\images\\cell_membrane\n",
      "0016 exists in D:PerlmutterData\\dl_seg_project_raw_3D_original\\data_crop_3D\\2020_01_10_15_41_20x\\labels\\cell_membrane\n",
      "0017 exists in D:PerlmutterData\\dl_seg_project_raw_3D_original\\data_crop_3D\\2020_01_10_15_41_20x\\images\\cell_membrane\n",
      "0017 exists in D:PerlmutterData\\dl_seg_project_raw_3D_original\\data_crop_3D\\2020_01_10_15_41_20x\\labels\\cell_membrane\n",
      "0018 exists in D:PerlmutterData\\dl_seg_project_raw_3D_original\\data_crop_3D\\2020_01_10_15_41_20x\\images\\cell_membrane\n",
      "0018 exists in D:PerlmutterData\\dl_seg_project_raw_3D_original\\data_crop_3D\\2020_01_10_15_41_20x\\labels\\cell_membrane\n",
      "0019 exists in D:PerlmutterData\\dl_seg_project_raw_3D_original\\data_crop_3D\\2020_01_10_15_41_20x\\images\\cell_membrane\n",
      "0019 exists in D:PerlmutterData\\dl_seg_project_raw_3D_original\\data_crop_3D\\2020_01_10_15_41_20x\\labels\\cell_membrane\n",
      "0020 exists in D:PerlmutterData\\dl_seg_project_raw_3D_original\\data_crop_3D\\2020_01_10_15_41_20x\\images\\cell_membrane\n",
      "0020 exists in D:PerlmutterData\\dl_seg_project_raw_3D_original\\data_crop_3D\\2020_01_10_15_41_20x\\labels\\cell_membrane\n"
     ]
    },
    {
     "data": {
      "application/vnd.jupyter.widget-view+json": {
       "model_id": "4beae15e160e448c9222b73de05207da",
       "version_major": 2,
       "version_minor": 0
      },
      "text/plain": [
       "HBox(children=(IntProgress(value=0, max=50), HTML(value='')))"
      ]
     },
     "metadata": {},
     "output_type": "display_data"
    },
    {
     "name": "stdout",
     "output_type": "stream",
     "text": [
      "\n"
     ]
    },
    {
     "data": {
      "application/vnd.jupyter.widget-view+json": {
       "model_id": "6f2f5f9063bf4de78da794772afa8880",
       "version_major": 2,
       "version_minor": 0
      },
      "text/plain": [
       "HBox(children=(IntProgress(value=0, max=50), HTML(value='')))"
      ]
     },
     "metadata": {},
     "output_type": "display_data"
    },
    {
     "name": "stdout",
     "output_type": "stream",
     "text": [
      "\n",
      "(50, 793, 2285)\n",
      "0001 exists in D:PerlmutterData\\dl_seg_project_raw_3D_original\\data_crop_3D\\2020_01_10_15_41_20x\\images\\cell_membrane\n",
      "0001 exists in D:PerlmutterData\\dl_seg_project_raw_3D_original\\data_crop_3D\\2020_01_10_15_41_20x\\labels\\cell_membrane\n",
      "0002 exists in D:PerlmutterData\\dl_seg_project_raw_3D_original\\data_crop_3D\\2020_01_10_15_41_20x\\images\\cell_membrane\n",
      "0002 exists in D:PerlmutterData\\dl_seg_project_raw_3D_original\\data_crop_3D\\2020_01_10_15_41_20x\\labels\\cell_membrane\n",
      "0003 exists in D:PerlmutterData\\dl_seg_project_raw_3D_original\\data_crop_3D\\2020_01_10_15_41_20x\\images\\cell_membrane\n",
      "0003 exists in D:PerlmutterData\\dl_seg_project_raw_3D_original\\data_crop_3D\\2020_01_10_15_41_20x\\labels\\cell_membrane\n",
      "0004 exists in D:PerlmutterData\\dl_seg_project_raw_3D_original\\data_crop_3D\\2020_01_10_15_41_20x\\images\\cell_membrane\n",
      "0004 exists in D:PerlmutterData\\dl_seg_project_raw_3D_original\\data_crop_3D\\2020_01_10_15_41_20x\\labels\\cell_membrane\n",
      "0005 exists in D:PerlmutterData\\dl_seg_project_raw_3D_original\\data_crop_3D\\2020_01_10_15_41_20x\\images\\cell_membrane\n",
      "0005 exists in D:PerlmutterData\\dl_seg_project_raw_3D_original\\data_crop_3D\\2020_01_10_15_41_20x\\labels\\cell_membrane\n",
      "0006 exists in D:PerlmutterData\\dl_seg_project_raw_3D_original\\data_crop_3D\\2020_01_10_15_41_20x\\images\\cell_membrane\n",
      "0006 exists in D:PerlmutterData\\dl_seg_project_raw_3D_original\\data_crop_3D\\2020_01_10_15_41_20x\\labels\\cell_membrane\n",
      "0007 exists in D:PerlmutterData\\dl_seg_project_raw_3D_original\\data_crop_3D\\2020_01_10_15_41_20x\\images\\cell_membrane\n",
      "0007 exists in D:PerlmutterData\\dl_seg_project_raw_3D_original\\data_crop_3D\\2020_01_10_15_41_20x\\labels\\cell_membrane\n",
      "0008 exists in D:PerlmutterData\\dl_seg_project_raw_3D_original\\data_crop_3D\\2020_01_10_15_41_20x\\images\\cell_membrane\n",
      "0008 exists in D:PerlmutterData\\dl_seg_project_raw_3D_original\\data_crop_3D\\2020_01_10_15_41_20x\\labels\\cell_membrane\n",
      "0009 exists in D:PerlmutterData\\dl_seg_project_raw_3D_original\\data_crop_3D\\2020_01_10_15_41_20x\\images\\cell_membrane\n",
      "0009 exists in D:PerlmutterData\\dl_seg_project_raw_3D_original\\data_crop_3D\\2020_01_10_15_41_20x\\labels\\cell_membrane\n",
      "0010 exists in D:PerlmutterData\\dl_seg_project_raw_3D_original\\data_crop_3D\\2020_01_10_15_41_20x\\images\\cell_membrane\n",
      "0010 exists in D:PerlmutterData\\dl_seg_project_raw_3D_original\\data_crop_3D\\2020_01_10_15_41_20x\\labels\\cell_membrane\n",
      "0011 exists in D:PerlmutterData\\dl_seg_project_raw_3D_original\\data_crop_3D\\2020_01_10_15_41_20x\\images\\cell_membrane\n",
      "0011 exists in D:PerlmutterData\\dl_seg_project_raw_3D_original\\data_crop_3D\\2020_01_10_15_41_20x\\labels\\cell_membrane\n",
      "0012 exists in D:PerlmutterData\\dl_seg_project_raw_3D_original\\data_crop_3D\\2020_01_10_15_41_20x\\images\\cell_membrane\n",
      "0012 exists in D:PerlmutterData\\dl_seg_project_raw_3D_original\\data_crop_3D\\2020_01_10_15_41_20x\\labels\\cell_membrane\n",
      "0013 exists in D:PerlmutterData\\dl_seg_project_raw_3D_original\\data_crop_3D\\2020_01_10_15_41_20x\\images\\cell_membrane\n",
      "0013 exists in D:PerlmutterData\\dl_seg_project_raw_3D_original\\data_crop_3D\\2020_01_10_15_41_20x\\labels\\cell_membrane\n",
      "0014 exists in D:PerlmutterData\\dl_seg_project_raw_3D_original\\data_crop_3D\\2020_01_10_15_41_20x\\images\\cell_membrane\n",
      "0014 exists in D:PerlmutterData\\dl_seg_project_raw_3D_original\\data_crop_3D\\2020_01_10_15_41_20x\\labels\\cell_membrane\n",
      "0015 exists in D:PerlmutterData\\dl_seg_project_raw_3D_original\\data_crop_3D\\2020_01_10_15_41_20x\\images\\cell_membrane\n",
      "0015 exists in D:PerlmutterData\\dl_seg_project_raw_3D_original\\data_crop_3D\\2020_01_10_15_41_20x\\labels\\cell_membrane\n",
      "0016 exists in D:PerlmutterData\\dl_seg_project_raw_3D_original\\data_crop_3D\\2020_01_10_15_41_20x\\images\\cell_membrane\n",
      "0016 exists in D:PerlmutterData\\dl_seg_project_raw_3D_original\\data_crop_3D\\2020_01_10_15_41_20x\\labels\\cell_membrane\n",
      "0017 exists in D:PerlmutterData\\dl_seg_project_raw_3D_original\\data_crop_3D\\2020_01_10_15_41_20x\\images\\cell_membrane\n",
      "0017 exists in D:PerlmutterData\\dl_seg_project_raw_3D_original\\data_crop_3D\\2020_01_10_15_41_20x\\labels\\cell_membrane\n",
      "0018 exists in D:PerlmutterData\\dl_seg_project_raw_3D_original\\data_crop_3D\\2020_01_10_15_41_20x\\images\\cell_membrane\n",
      "0018 exists in D:PerlmutterData\\dl_seg_project_raw_3D_original\\data_crop_3D\\2020_01_10_15_41_20x\\labels\\cell_membrane\n",
      "0019 exists in D:PerlmutterData\\dl_seg_project_raw_3D_original\\data_crop_3D\\2020_01_10_15_41_20x\\images\\cell_membrane\n",
      "0019 exists in D:PerlmutterData\\dl_seg_project_raw_3D_original\\data_crop_3D\\2020_01_10_15_41_20x\\labels\\cell_membrane\n",
      "0020 exists in D:PerlmutterData\\dl_seg_project_raw_3D_original\\data_crop_3D\\2020_01_10_15_41_20x\\images\\cell_membrane\n",
      "0020 exists in D:PerlmutterData\\dl_seg_project_raw_3D_original\\data_crop_3D\\2020_01_10_15_41_20x\\labels\\cell_membrane\n"
     ]
    },
    {
     "data": {
      "application/vnd.jupyter.widget-view+json": {
       "model_id": "d9d3a54b237e4df5aebb0ecc98b828f8",
       "version_major": 2,
       "version_minor": 0
      },
      "text/plain": [
       "HBox(children=(IntProgress(value=0, max=50), HTML(value='')))"
      ]
     },
     "metadata": {},
     "output_type": "display_data"
    },
    {
     "name": "stdout",
     "output_type": "stream",
     "text": [
      "\n"
     ]
    },
    {
     "data": {
      "application/vnd.jupyter.widget-view+json": {
       "model_id": "a753ef3a477049e682c5e3a1774e353b",
       "version_major": 2,
       "version_minor": 0
      },
      "text/plain": [
       "HBox(children=(IntProgress(value=0, max=50), HTML(value='')))"
      ]
     },
     "metadata": {},
     "output_type": "display_data"
    },
    {
     "name": "stdout",
     "output_type": "stream",
     "text": [
      "\n",
      "(50, 793, 2285)\n",
      "0001 exists in D:PerlmutterData\\dl_seg_project_raw_3D_original\\data_crop_3D\\2020_01_10_15_41_20x\\images\\cell_membrane\n",
      "0001 exists in D:PerlmutterData\\dl_seg_project_raw_3D_original\\data_crop_3D\\2020_01_10_15_41_20x\\labels\\cell_membrane\n",
      "0002 exists in D:PerlmutterData\\dl_seg_project_raw_3D_original\\data_crop_3D\\2020_01_10_15_41_20x\\images\\cell_membrane\n",
      "0002 exists in D:PerlmutterData\\dl_seg_project_raw_3D_original\\data_crop_3D\\2020_01_10_15_41_20x\\labels\\cell_membrane\n",
      "0003 exists in D:PerlmutterData\\dl_seg_project_raw_3D_original\\data_crop_3D\\2020_01_10_15_41_20x\\images\\cell_membrane\n",
      "0003 exists in D:PerlmutterData\\dl_seg_project_raw_3D_original\\data_crop_3D\\2020_01_10_15_41_20x\\labels\\cell_membrane\n",
      "0004 exists in D:PerlmutterData\\dl_seg_project_raw_3D_original\\data_crop_3D\\2020_01_10_15_41_20x\\images\\cell_membrane\n",
      "0004 exists in D:PerlmutterData\\dl_seg_project_raw_3D_original\\data_crop_3D\\2020_01_10_15_41_20x\\labels\\cell_membrane\n",
      "0005 exists in D:PerlmutterData\\dl_seg_project_raw_3D_original\\data_crop_3D\\2020_01_10_15_41_20x\\images\\cell_membrane\n",
      "0005 exists in D:PerlmutterData\\dl_seg_project_raw_3D_original\\data_crop_3D\\2020_01_10_15_41_20x\\labels\\cell_membrane\n",
      "0006 exists in D:PerlmutterData\\dl_seg_project_raw_3D_original\\data_crop_3D\\2020_01_10_15_41_20x\\images\\cell_membrane\n",
      "0006 exists in D:PerlmutterData\\dl_seg_project_raw_3D_original\\data_crop_3D\\2020_01_10_15_41_20x\\labels\\cell_membrane\n",
      "0007 exists in D:PerlmutterData\\dl_seg_project_raw_3D_original\\data_crop_3D\\2020_01_10_15_41_20x\\images\\cell_membrane\n",
      "0007 exists in D:PerlmutterData\\dl_seg_project_raw_3D_original\\data_crop_3D\\2020_01_10_15_41_20x\\labels\\cell_membrane\n",
      "0008 exists in D:PerlmutterData\\dl_seg_project_raw_3D_original\\data_crop_3D\\2020_01_10_15_41_20x\\images\\cell_membrane\n",
      "0008 exists in D:PerlmutterData\\dl_seg_project_raw_3D_original\\data_crop_3D\\2020_01_10_15_41_20x\\labels\\cell_membrane\n",
      "0009 exists in D:PerlmutterData\\dl_seg_project_raw_3D_original\\data_crop_3D\\2020_01_10_15_41_20x\\images\\cell_membrane\n",
      "0009 exists in D:PerlmutterData\\dl_seg_project_raw_3D_original\\data_crop_3D\\2020_01_10_15_41_20x\\labels\\cell_membrane\n",
      "0010 exists in D:PerlmutterData\\dl_seg_project_raw_3D_original\\data_crop_3D\\2020_01_10_15_41_20x\\images\\cell_membrane\n",
      "0010 exists in D:PerlmutterData\\dl_seg_project_raw_3D_original\\data_crop_3D\\2020_01_10_15_41_20x\\labels\\cell_membrane\n",
      "0011 exists in D:PerlmutterData\\dl_seg_project_raw_3D_original\\data_crop_3D\\2020_01_10_15_41_20x\\images\\cell_membrane\n",
      "0011 exists in D:PerlmutterData\\dl_seg_project_raw_3D_original\\data_crop_3D\\2020_01_10_15_41_20x\\labels\\cell_membrane\n",
      "0012 exists in D:PerlmutterData\\dl_seg_project_raw_3D_original\\data_crop_3D\\2020_01_10_15_41_20x\\images\\cell_membrane\n",
      "0012 exists in D:PerlmutterData\\dl_seg_project_raw_3D_original\\data_crop_3D\\2020_01_10_15_41_20x\\labels\\cell_membrane\n",
      "0013 exists in D:PerlmutterData\\dl_seg_project_raw_3D_original\\data_crop_3D\\2020_01_10_15_41_20x\\images\\cell_membrane\n",
      "0013 exists in D:PerlmutterData\\dl_seg_project_raw_3D_original\\data_crop_3D\\2020_01_10_15_41_20x\\labels\\cell_membrane\n",
      "0014 exists in D:PerlmutterData\\dl_seg_project_raw_3D_original\\data_crop_3D\\2020_01_10_15_41_20x\\images\\cell_membrane\n",
      "0014 exists in D:PerlmutterData\\dl_seg_project_raw_3D_original\\data_crop_3D\\2020_01_10_15_41_20x\\labels\\cell_membrane\n",
      "0015 exists in D:PerlmutterData\\dl_seg_project_raw_3D_original\\data_crop_3D\\2020_01_10_15_41_20x\\images\\cell_membrane\n",
      "0015 exists in D:PerlmutterData\\dl_seg_project_raw_3D_original\\data_crop_3D\\2020_01_10_15_41_20x\\labels\\cell_membrane\n",
      "0016 exists in D:PerlmutterData\\dl_seg_project_raw_3D_original\\data_crop_3D\\2020_01_10_15_41_20x\\images\\cell_membrane\n",
      "0016 exists in D:PerlmutterData\\dl_seg_project_raw_3D_original\\data_crop_3D\\2020_01_10_15_41_20x\\labels\\cell_membrane\n",
      "0017 exists in D:PerlmutterData\\dl_seg_project_raw_3D_original\\data_crop_3D\\2020_01_10_15_41_20x\\images\\cell_membrane\n",
      "0017 exists in D:PerlmutterData\\dl_seg_project_raw_3D_original\\data_crop_3D\\2020_01_10_15_41_20x\\labels\\cell_membrane\n",
      "0018 exists in D:PerlmutterData\\dl_seg_project_raw_3D_original\\data_crop_3D\\2020_01_10_15_41_20x\\images\\cell_membrane\n",
      "0018 exists in D:PerlmutterData\\dl_seg_project_raw_3D_original\\data_crop_3D\\2020_01_10_15_41_20x\\labels\\cell_membrane\n",
      "0019 exists in D:PerlmutterData\\dl_seg_project_raw_3D_original\\data_crop_3D\\2020_01_10_15_41_20x\\images\\cell_membrane\n",
      "0019 exists in D:PerlmutterData\\dl_seg_project_raw_3D_original\\data_crop_3D\\2020_01_10_15_41_20x\\labels\\cell_membrane\n",
      "0020 exists in D:PerlmutterData\\dl_seg_project_raw_3D_original\\data_crop_3D\\2020_01_10_15_41_20x\\images\\cell_membrane\n",
      "0020 exists in D:PerlmutterData\\dl_seg_project_raw_3D_original\\data_crop_3D\\2020_01_10_15_41_20x\\labels\\cell_membrane\n",
      "\n",
      "Finish\n",
      "Croping the images from group mitochondria...\n"
     ]
    },
    {
     "data": {
      "application/vnd.jupyter.widget-view+json": {
       "model_id": "ac2a2bc69c8a47d59e257d8c30183360",
       "version_major": 2,
       "version_minor": 0
      },
      "text/plain": [
       "HBox(children=(IntProgress(value=0, max=5), HTML(value='')))"
      ]
     },
     "metadata": {},
     "output_type": "display_data"
    },
    {
     "data": {
      "application/vnd.jupyter.widget-view+json": {
       "model_id": "cbaae4e8d1c342c7becd493ab780f10d",
       "version_major": 2,
       "version_minor": 0
      },
      "text/plain": [
       "HBox(children=(IntProgress(value=0, max=110), HTML(value='')))"
      ]
     },
     "metadata": {},
     "output_type": "display_data"
    },
    {
     "name": "stdout",
     "output_type": "stream",
     "text": [
      "\n"
     ]
    },
    {
     "data": {
      "application/vnd.jupyter.widget-view+json": {
       "model_id": "0840e6defb4a44abae9b1fc48aa3c900",
       "version_major": 2,
       "version_minor": 0
      },
      "text/plain": [
       "HBox(children=(IntProgress(value=0, max=256), HTML(value='')))"
      ]
     },
     "metadata": {},
     "output_type": "display_data"
    },
    {
     "name": "stdout",
     "output_type": "stream",
     "text": [
      "\n",
      "(256, 256, 256)\n",
      "0001 does not exist in D:PerlmutterData\\dl_seg_project_raw_3D_original\\data_crop_3D\\2020_01_10_15_41_20x\\images\\mitochondria\n",
      "0001 does not exist in D:PerlmutterData\\dl_seg_project_raw_3D_original\\data_crop_3D\\2020_01_10_15_41_20x\\labels\\mitochondria\n",
      "0002 does not exist in D:PerlmutterData\\dl_seg_project_raw_3D_original\\data_crop_3D\\2020_01_10_15_41_20x\\images\\mitochondria\n",
      "0002 does not exist in D:PerlmutterData\\dl_seg_project_raw_3D_original\\data_crop_3D\\2020_01_10_15_41_20x\\labels\\mitochondria\n",
      "0003 does not exist in D:PerlmutterData\\dl_seg_project_raw_3D_original\\data_crop_3D\\2020_01_10_15_41_20x\\images\\mitochondria\n",
      "0003 does not exist in D:PerlmutterData\\dl_seg_project_raw_3D_original\\data_crop_3D\\2020_01_10_15_41_20x\\labels\\mitochondria\n",
      "0004 does not exist in D:PerlmutterData\\dl_seg_project_raw_3D_original\\data_crop_3D\\2020_01_10_15_41_20x\\images\\mitochondria\n",
      "0004 does not exist in D:PerlmutterData\\dl_seg_project_raw_3D_original\\data_crop_3D\\2020_01_10_15_41_20x\\labels\\mitochondria\n",
      "0005 does not exist in D:PerlmutterData\\dl_seg_project_raw_3D_original\\data_crop_3D\\2020_01_10_15_41_20x\\images\\mitochondria\n",
      "0005 does not exist in D:PerlmutterData\\dl_seg_project_raw_3D_original\\data_crop_3D\\2020_01_10_15_41_20x\\labels\\mitochondria\n",
      "0006 does not exist in D:PerlmutterData\\dl_seg_project_raw_3D_original\\data_crop_3D\\2020_01_10_15_41_20x\\images\\mitochondria\n",
      "0006 does not exist in D:PerlmutterData\\dl_seg_project_raw_3D_original\\data_crop_3D\\2020_01_10_15_41_20x\\labels\\mitochondria\n",
      "0007 does not exist in D:PerlmutterData\\dl_seg_project_raw_3D_original\\data_crop_3D\\2020_01_10_15_41_20x\\images\\mitochondria\n",
      "0007 does not exist in D:PerlmutterData\\dl_seg_project_raw_3D_original\\data_crop_3D\\2020_01_10_15_41_20x\\labels\\mitochondria\n",
      "0008 does not exist in D:PerlmutterData\\dl_seg_project_raw_3D_original\\data_crop_3D\\2020_01_10_15_41_20x\\images\\mitochondria\n",
      "0008 does not exist in D:PerlmutterData\\dl_seg_project_raw_3D_original\\data_crop_3D\\2020_01_10_15_41_20x\\labels\\mitochondria\n",
      "0009 does not exist in D:PerlmutterData\\dl_seg_project_raw_3D_original\\data_crop_3D\\2020_01_10_15_41_20x\\images\\mitochondria\n",
      "0009 does not exist in D:PerlmutterData\\dl_seg_project_raw_3D_original\\data_crop_3D\\2020_01_10_15_41_20x\\labels\\mitochondria\n",
      "0010 does not exist in D:PerlmutterData\\dl_seg_project_raw_3D_original\\data_crop_3D\\2020_01_10_15_41_20x\\images\\mitochondria\n",
      "0010 does not exist in D:PerlmutterData\\dl_seg_project_raw_3D_original\\data_crop_3D\\2020_01_10_15_41_20x\\labels\\mitochondria\n",
      "0011 does not exist in D:PerlmutterData\\dl_seg_project_raw_3D_original\\data_crop_3D\\2020_01_10_15_41_20x\\images\\mitochondria\n",
      "0011 does not exist in D:PerlmutterData\\dl_seg_project_raw_3D_original\\data_crop_3D\\2020_01_10_15_41_20x\\labels\\mitochondria\n",
      "0012 does not exist in D:PerlmutterData\\dl_seg_project_raw_3D_original\\data_crop_3D\\2020_01_10_15_41_20x\\images\\mitochondria\n",
      "0012 does not exist in D:PerlmutterData\\dl_seg_project_raw_3D_original\\data_crop_3D\\2020_01_10_15_41_20x\\labels\\mitochondria\n",
      "0013 does not exist in D:PerlmutterData\\dl_seg_project_raw_3D_original\\data_crop_3D\\2020_01_10_15_41_20x\\images\\mitochondria\n",
      "0013 does not exist in D:PerlmutterData\\dl_seg_project_raw_3D_original\\data_crop_3D\\2020_01_10_15_41_20x\\labels\\mitochondria\n",
      "0014 does not exist in D:PerlmutterData\\dl_seg_project_raw_3D_original\\data_crop_3D\\2020_01_10_15_41_20x\\images\\mitochondria\n",
      "0014 does not exist in D:PerlmutterData\\dl_seg_project_raw_3D_original\\data_crop_3D\\2020_01_10_15_41_20x\\labels\\mitochondria\n",
      "0015 does not exist in D:PerlmutterData\\dl_seg_project_raw_3D_original\\data_crop_3D\\2020_01_10_15_41_20x\\images\\mitochondria\n",
      "0015 does not exist in D:PerlmutterData\\dl_seg_project_raw_3D_original\\data_crop_3D\\2020_01_10_15_41_20x\\labels\\mitochondria\n",
      "0016 does not exist in D:PerlmutterData\\dl_seg_project_raw_3D_original\\data_crop_3D\\2020_01_10_15_41_20x\\images\\mitochondria\n",
      "0016 does not exist in D:PerlmutterData\\dl_seg_project_raw_3D_original\\data_crop_3D\\2020_01_10_15_41_20x\\labels\\mitochondria\n",
      "0017 does not exist in D:PerlmutterData\\dl_seg_project_raw_3D_original\\data_crop_3D\\2020_01_10_15_41_20x\\images\\mitochondria\n",
      "0017 does not exist in D:PerlmutterData\\dl_seg_project_raw_3D_original\\data_crop_3D\\2020_01_10_15_41_20x\\labels\\mitochondria\n",
      "0018 does not exist in D:PerlmutterData\\dl_seg_project_raw_3D_original\\data_crop_3D\\2020_01_10_15_41_20x\\images\\mitochondria\n",
      "0018 does not exist in D:PerlmutterData\\dl_seg_project_raw_3D_original\\data_crop_3D\\2020_01_10_15_41_20x\\labels\\mitochondria\n",
      "0019 does not exist in D:PerlmutterData\\dl_seg_project_raw_3D_original\\data_crop_3D\\2020_01_10_15_41_20x\\images\\mitochondria\n",
      "0019 does not exist in D:PerlmutterData\\dl_seg_project_raw_3D_original\\data_crop_3D\\2020_01_10_15_41_20x\\labels\\mitochondria\n",
      "0020 does not exist in D:PerlmutterData\\dl_seg_project_raw_3D_original\\data_crop_3D\\2020_01_10_15_41_20x\\images\\mitochondria\n",
      "0020 does not exist in D:PerlmutterData\\dl_seg_project_raw_3D_original\\data_crop_3D\\2020_01_10_15_41_20x\\labels\\mitochondria\n"
     ]
    },
    {
     "data": {
      "application/vnd.jupyter.widget-view+json": {
       "model_id": "e1605f07dd164eb68283e2d3dc9e9a3a",
       "version_major": 2,
       "version_minor": 0
      },
      "text/plain": [
       "HBox(children=(IntProgress(value=0, max=256), HTML(value='')))"
      ]
     },
     "metadata": {},
     "output_type": "display_data"
    },
    {
     "name": "stdout",
     "output_type": "stream",
     "text": [
      "\n"
     ]
    },
    {
     "data": {
      "application/vnd.jupyter.widget-view+json": {
       "model_id": "55a3103c02b94e549a874563505f3a8d",
       "version_major": 2,
       "version_minor": 0
      },
      "text/plain": [
       "HBox(children=(IntProgress(value=0, max=256), HTML(value='')))"
      ]
     },
     "metadata": {},
     "output_type": "display_data"
    },
    {
     "name": "stdout",
     "output_type": "stream",
     "text": [
      "\n",
      "(256, 256, 256)\n",
      "0001 exists in D:PerlmutterData\\dl_seg_project_raw_3D_original\\data_crop_3D\\2020_01_10_15_41_20x\\images\\mitochondria\n",
      "0001 exists in D:PerlmutterData\\dl_seg_project_raw_3D_original\\data_crop_3D\\2020_01_10_15_41_20x\\labels\\mitochondria\n",
      "0002 exists in D:PerlmutterData\\dl_seg_project_raw_3D_original\\data_crop_3D\\2020_01_10_15_41_20x\\images\\mitochondria\n",
      "0002 exists in D:PerlmutterData\\dl_seg_project_raw_3D_original\\data_crop_3D\\2020_01_10_15_41_20x\\labels\\mitochondria\n",
      "0003 exists in D:PerlmutterData\\dl_seg_project_raw_3D_original\\data_crop_3D\\2020_01_10_15_41_20x\\images\\mitochondria\n",
      "0003 exists in D:PerlmutterData\\dl_seg_project_raw_3D_original\\data_crop_3D\\2020_01_10_15_41_20x\\labels\\mitochondria\n",
      "0004 exists in D:PerlmutterData\\dl_seg_project_raw_3D_original\\data_crop_3D\\2020_01_10_15_41_20x\\images\\mitochondria\n",
      "0004 exists in D:PerlmutterData\\dl_seg_project_raw_3D_original\\data_crop_3D\\2020_01_10_15_41_20x\\labels\\mitochondria\n",
      "0005 exists in D:PerlmutterData\\dl_seg_project_raw_3D_original\\data_crop_3D\\2020_01_10_15_41_20x\\images\\mitochondria\n",
      "0005 exists in D:PerlmutterData\\dl_seg_project_raw_3D_original\\data_crop_3D\\2020_01_10_15_41_20x\\labels\\mitochondria\n",
      "0006 exists in D:PerlmutterData\\dl_seg_project_raw_3D_original\\data_crop_3D\\2020_01_10_15_41_20x\\images\\mitochondria\n",
      "0006 exists in D:PerlmutterData\\dl_seg_project_raw_3D_original\\data_crop_3D\\2020_01_10_15_41_20x\\labels\\mitochondria\n",
      "0007 exists in D:PerlmutterData\\dl_seg_project_raw_3D_original\\data_crop_3D\\2020_01_10_15_41_20x\\images\\mitochondria\n",
      "0007 exists in D:PerlmutterData\\dl_seg_project_raw_3D_original\\data_crop_3D\\2020_01_10_15_41_20x\\labels\\mitochondria\n",
      "0008 exists in D:PerlmutterData\\dl_seg_project_raw_3D_original\\data_crop_3D\\2020_01_10_15_41_20x\\images\\mitochondria\n",
      "0008 exists in D:PerlmutterData\\dl_seg_project_raw_3D_original\\data_crop_3D\\2020_01_10_15_41_20x\\labels\\mitochondria\n",
      "0009 exists in D:PerlmutterData\\dl_seg_project_raw_3D_original\\data_crop_3D\\2020_01_10_15_41_20x\\images\\mitochondria\n",
      "0009 exists in D:PerlmutterData\\dl_seg_project_raw_3D_original\\data_crop_3D\\2020_01_10_15_41_20x\\labels\\mitochondria\n",
      "0010 exists in D:PerlmutterData\\dl_seg_project_raw_3D_original\\data_crop_3D\\2020_01_10_15_41_20x\\images\\mitochondria\n",
      "0010 exists in D:PerlmutterData\\dl_seg_project_raw_3D_original\\data_crop_3D\\2020_01_10_15_41_20x\\labels\\mitochondria\n",
      "0011 exists in D:PerlmutterData\\dl_seg_project_raw_3D_original\\data_crop_3D\\2020_01_10_15_41_20x\\images\\mitochondria\n",
      "0011 exists in D:PerlmutterData\\dl_seg_project_raw_3D_original\\data_crop_3D\\2020_01_10_15_41_20x\\labels\\mitochondria\n",
      "0012 exists in D:PerlmutterData\\dl_seg_project_raw_3D_original\\data_crop_3D\\2020_01_10_15_41_20x\\images\\mitochondria\n",
      "0012 exists in D:PerlmutterData\\dl_seg_project_raw_3D_original\\data_crop_3D\\2020_01_10_15_41_20x\\labels\\mitochondria\n",
      "0013 exists in D:PerlmutterData\\dl_seg_project_raw_3D_original\\data_crop_3D\\2020_01_10_15_41_20x\\images\\mitochondria\n",
      "0013 exists in D:PerlmutterData\\dl_seg_project_raw_3D_original\\data_crop_3D\\2020_01_10_15_41_20x\\labels\\mitochondria\n",
      "0014 exists in D:PerlmutterData\\dl_seg_project_raw_3D_original\\data_crop_3D\\2020_01_10_15_41_20x\\images\\mitochondria\n",
      "0014 exists in D:PerlmutterData\\dl_seg_project_raw_3D_original\\data_crop_3D\\2020_01_10_15_41_20x\\labels\\mitochondria\n",
      "0015 exists in D:PerlmutterData\\dl_seg_project_raw_3D_original\\data_crop_3D\\2020_01_10_15_41_20x\\images\\mitochondria\n",
      "0015 exists in D:PerlmutterData\\dl_seg_project_raw_3D_original\\data_crop_3D\\2020_01_10_15_41_20x\\labels\\mitochondria\n",
      "0016 exists in D:PerlmutterData\\dl_seg_project_raw_3D_original\\data_crop_3D\\2020_01_10_15_41_20x\\images\\mitochondria\n",
      "0016 exists in D:PerlmutterData\\dl_seg_project_raw_3D_original\\data_crop_3D\\2020_01_10_15_41_20x\\labels\\mitochondria\n",
      "0017 exists in D:PerlmutterData\\dl_seg_project_raw_3D_original\\data_crop_3D\\2020_01_10_15_41_20x\\images\\mitochondria\n",
      "0017 exists in D:PerlmutterData\\dl_seg_project_raw_3D_original\\data_crop_3D\\2020_01_10_15_41_20x\\labels\\mitochondria\n",
      "0018 exists in D:PerlmutterData\\dl_seg_project_raw_3D_original\\data_crop_3D\\2020_01_10_15_41_20x\\images\\mitochondria\n",
      "0018 exists in D:PerlmutterData\\dl_seg_project_raw_3D_original\\data_crop_3D\\2020_01_10_15_41_20x\\labels\\mitochondria\n",
      "0019 exists in D:PerlmutterData\\dl_seg_project_raw_3D_original\\data_crop_3D\\2020_01_10_15_41_20x\\images\\mitochondria\n",
      "0019 exists in D:PerlmutterData\\dl_seg_project_raw_3D_original\\data_crop_3D\\2020_01_10_15_41_20x\\labels\\mitochondria\n",
      "0020 exists in D:PerlmutterData\\dl_seg_project_raw_3D_original\\data_crop_3D\\2020_01_10_15_41_20x\\images\\mitochondria\n",
      "0020 exists in D:PerlmutterData\\dl_seg_project_raw_3D_original\\data_crop_3D\\2020_01_10_15_41_20x\\labels\\mitochondria\n"
     ]
    },
    {
     "data": {
      "application/vnd.jupyter.widget-view+json": {
       "model_id": "32ee6afbc10c40248dcd888b316b5036",
       "version_major": 2,
       "version_minor": 0
      },
      "text/plain": [
       "HBox(children=(IntProgress(value=0, max=256), HTML(value='')))"
      ]
     },
     "metadata": {},
     "output_type": "display_data"
    },
    {
     "name": "stdout",
     "output_type": "stream",
     "text": [
      "\n"
     ]
    },
    {
     "data": {
      "application/vnd.jupyter.widget-view+json": {
       "model_id": "601af20e1a314d4a8959d7896fd59688",
       "version_major": 2,
       "version_minor": 0
      },
      "text/plain": [
       "HBox(children=(IntProgress(value=0, max=256), HTML(value='')))"
      ]
     },
     "metadata": {},
     "output_type": "display_data"
    },
    {
     "name": "stdout",
     "output_type": "stream",
     "text": [
      "\n",
      "(256, 256, 256)\n",
      "0001 exists in D:PerlmutterData\\dl_seg_project_raw_3D_original\\data_crop_3D\\2020_01_10_15_41_20x\\images\\mitochondria\n",
      "0001 exists in D:PerlmutterData\\dl_seg_project_raw_3D_original\\data_crop_3D\\2020_01_10_15_41_20x\\labels\\mitochondria\n",
      "0002 exists in D:PerlmutterData\\dl_seg_project_raw_3D_original\\data_crop_3D\\2020_01_10_15_41_20x\\images\\mitochondria\n",
      "0002 exists in D:PerlmutterData\\dl_seg_project_raw_3D_original\\data_crop_3D\\2020_01_10_15_41_20x\\labels\\mitochondria\n",
      "0003 exists in D:PerlmutterData\\dl_seg_project_raw_3D_original\\data_crop_3D\\2020_01_10_15_41_20x\\images\\mitochondria\n",
      "0003 exists in D:PerlmutterData\\dl_seg_project_raw_3D_original\\data_crop_3D\\2020_01_10_15_41_20x\\labels\\mitochondria\n",
      "0004 exists in D:PerlmutterData\\dl_seg_project_raw_3D_original\\data_crop_3D\\2020_01_10_15_41_20x\\images\\mitochondria\n",
      "0004 exists in D:PerlmutterData\\dl_seg_project_raw_3D_original\\data_crop_3D\\2020_01_10_15_41_20x\\labels\\mitochondria\n",
      "0005 exists in D:PerlmutterData\\dl_seg_project_raw_3D_original\\data_crop_3D\\2020_01_10_15_41_20x\\images\\mitochondria\n",
      "0005 exists in D:PerlmutterData\\dl_seg_project_raw_3D_original\\data_crop_3D\\2020_01_10_15_41_20x\\labels\\mitochondria\n",
      "0006 exists in D:PerlmutterData\\dl_seg_project_raw_3D_original\\data_crop_3D\\2020_01_10_15_41_20x\\images\\mitochondria\n",
      "0006 exists in D:PerlmutterData\\dl_seg_project_raw_3D_original\\data_crop_3D\\2020_01_10_15_41_20x\\labels\\mitochondria\n",
      "0007 exists in D:PerlmutterData\\dl_seg_project_raw_3D_original\\data_crop_3D\\2020_01_10_15_41_20x\\images\\mitochondria\n",
      "0007 exists in D:PerlmutterData\\dl_seg_project_raw_3D_original\\data_crop_3D\\2020_01_10_15_41_20x\\labels\\mitochondria\n",
      "0008 exists in D:PerlmutterData\\dl_seg_project_raw_3D_original\\data_crop_3D\\2020_01_10_15_41_20x\\images\\mitochondria\n",
      "0008 exists in D:PerlmutterData\\dl_seg_project_raw_3D_original\\data_crop_3D\\2020_01_10_15_41_20x\\labels\\mitochondria\n",
      "0009 exists in D:PerlmutterData\\dl_seg_project_raw_3D_original\\data_crop_3D\\2020_01_10_15_41_20x\\images\\mitochondria\n",
      "0009 exists in D:PerlmutterData\\dl_seg_project_raw_3D_original\\data_crop_3D\\2020_01_10_15_41_20x\\labels\\mitochondria\n",
      "0010 exists in D:PerlmutterData\\dl_seg_project_raw_3D_original\\data_crop_3D\\2020_01_10_15_41_20x\\images\\mitochondria\n",
      "0010 exists in D:PerlmutterData\\dl_seg_project_raw_3D_original\\data_crop_3D\\2020_01_10_15_41_20x\\labels\\mitochondria\n",
      "0011 exists in D:PerlmutterData\\dl_seg_project_raw_3D_original\\data_crop_3D\\2020_01_10_15_41_20x\\images\\mitochondria\n",
      "0011 exists in D:PerlmutterData\\dl_seg_project_raw_3D_original\\data_crop_3D\\2020_01_10_15_41_20x\\labels\\mitochondria\n",
      "0012 exists in D:PerlmutterData\\dl_seg_project_raw_3D_original\\data_crop_3D\\2020_01_10_15_41_20x\\images\\mitochondria\n",
      "0012 exists in D:PerlmutterData\\dl_seg_project_raw_3D_original\\data_crop_3D\\2020_01_10_15_41_20x\\labels\\mitochondria\n",
      "0013 exists in D:PerlmutterData\\dl_seg_project_raw_3D_original\\data_crop_3D\\2020_01_10_15_41_20x\\images\\mitochondria\n",
      "0013 exists in D:PerlmutterData\\dl_seg_project_raw_3D_original\\data_crop_3D\\2020_01_10_15_41_20x\\labels\\mitochondria\n",
      "0014 exists in D:PerlmutterData\\dl_seg_project_raw_3D_original\\data_crop_3D\\2020_01_10_15_41_20x\\images\\mitochondria\n",
      "0014 exists in D:PerlmutterData\\dl_seg_project_raw_3D_original\\data_crop_3D\\2020_01_10_15_41_20x\\labels\\mitochondria\n",
      "0015 exists in D:PerlmutterData\\dl_seg_project_raw_3D_original\\data_crop_3D\\2020_01_10_15_41_20x\\images\\mitochondria\n",
      "0015 exists in D:PerlmutterData\\dl_seg_project_raw_3D_original\\data_crop_3D\\2020_01_10_15_41_20x\\labels\\mitochondria\n",
      "0016 exists in D:PerlmutterData\\dl_seg_project_raw_3D_original\\data_crop_3D\\2020_01_10_15_41_20x\\images\\mitochondria\n",
      "0016 exists in D:PerlmutterData\\dl_seg_project_raw_3D_original\\data_crop_3D\\2020_01_10_15_41_20x\\labels\\mitochondria\n",
      "0017 exists in D:PerlmutterData\\dl_seg_project_raw_3D_original\\data_crop_3D\\2020_01_10_15_41_20x\\images\\mitochondria\n",
      "0017 exists in D:PerlmutterData\\dl_seg_project_raw_3D_original\\data_crop_3D\\2020_01_10_15_41_20x\\labels\\mitochondria\n",
      "0018 exists in D:PerlmutterData\\dl_seg_project_raw_3D_original\\data_crop_3D\\2020_01_10_15_41_20x\\images\\mitochondria\n",
      "0018 exists in D:PerlmutterData\\dl_seg_project_raw_3D_original\\data_crop_3D\\2020_01_10_15_41_20x\\labels\\mitochondria\n",
      "0019 exists in D:PerlmutterData\\dl_seg_project_raw_3D_original\\data_crop_3D\\2020_01_10_15_41_20x\\images\\mitochondria\n",
      "0019 exists in D:PerlmutterData\\dl_seg_project_raw_3D_original\\data_crop_3D\\2020_01_10_15_41_20x\\labels\\mitochondria\n",
      "0020 exists in D:PerlmutterData\\dl_seg_project_raw_3D_original\\data_crop_3D\\2020_01_10_15_41_20x\\images\\mitochondria\n",
      "0020 exists in D:PerlmutterData\\dl_seg_project_raw_3D_original\\data_crop_3D\\2020_01_10_15_41_20x\\labels\\mitochondria\n"
     ]
    },
    {
     "data": {
      "application/vnd.jupyter.widget-view+json": {
       "model_id": "05fb29136b4c4059a9c1fcb5e5f36e6d",
       "version_major": 2,
       "version_minor": 0
      },
      "text/plain": [
       "HBox(children=(IntProgress(value=0, max=256), HTML(value='')))"
      ]
     },
     "metadata": {},
     "output_type": "display_data"
    },
    {
     "name": "stdout",
     "output_type": "stream",
     "text": [
      "\n"
     ]
    },
    {
     "data": {
      "application/vnd.jupyter.widget-view+json": {
       "model_id": "8028b285d6cd40be82336ebd56655117",
       "version_major": 2,
       "version_minor": 0
      },
      "text/plain": [
       "HBox(children=(IntProgress(value=0, max=256), HTML(value='')))"
      ]
     },
     "metadata": {},
     "output_type": "display_data"
    },
    {
     "name": "stdout",
     "output_type": "stream",
     "text": [
      "\n",
      "(256, 256, 256)\n",
      "0001 exists in D:PerlmutterData\\dl_seg_project_raw_3D_original\\data_crop_3D\\2020_01_10_15_41_20x\\images\\mitochondria\n",
      "0001 exists in D:PerlmutterData\\dl_seg_project_raw_3D_original\\data_crop_3D\\2020_01_10_15_41_20x\\labels\\mitochondria\n",
      "0002 exists in D:PerlmutterData\\dl_seg_project_raw_3D_original\\data_crop_3D\\2020_01_10_15_41_20x\\images\\mitochondria\n",
      "0002 exists in D:PerlmutterData\\dl_seg_project_raw_3D_original\\data_crop_3D\\2020_01_10_15_41_20x\\labels\\mitochondria\n",
      "0003 exists in D:PerlmutterData\\dl_seg_project_raw_3D_original\\data_crop_3D\\2020_01_10_15_41_20x\\images\\mitochondria\n",
      "0003 exists in D:PerlmutterData\\dl_seg_project_raw_3D_original\\data_crop_3D\\2020_01_10_15_41_20x\\labels\\mitochondria\n",
      "0004 exists in D:PerlmutterData\\dl_seg_project_raw_3D_original\\data_crop_3D\\2020_01_10_15_41_20x\\images\\mitochondria\n",
      "0004 exists in D:PerlmutterData\\dl_seg_project_raw_3D_original\\data_crop_3D\\2020_01_10_15_41_20x\\labels\\mitochondria\n",
      "0005 exists in D:PerlmutterData\\dl_seg_project_raw_3D_original\\data_crop_3D\\2020_01_10_15_41_20x\\images\\mitochondria\n",
      "0005 exists in D:PerlmutterData\\dl_seg_project_raw_3D_original\\data_crop_3D\\2020_01_10_15_41_20x\\labels\\mitochondria\n",
      "0006 exists in D:PerlmutterData\\dl_seg_project_raw_3D_original\\data_crop_3D\\2020_01_10_15_41_20x\\images\\mitochondria\n",
      "0006 exists in D:PerlmutterData\\dl_seg_project_raw_3D_original\\data_crop_3D\\2020_01_10_15_41_20x\\labels\\mitochondria\n",
      "0007 exists in D:PerlmutterData\\dl_seg_project_raw_3D_original\\data_crop_3D\\2020_01_10_15_41_20x\\images\\mitochondria\n",
      "0007 exists in D:PerlmutterData\\dl_seg_project_raw_3D_original\\data_crop_3D\\2020_01_10_15_41_20x\\labels\\mitochondria\n",
      "0008 exists in D:PerlmutterData\\dl_seg_project_raw_3D_original\\data_crop_3D\\2020_01_10_15_41_20x\\images\\mitochondria\n",
      "0008 exists in D:PerlmutterData\\dl_seg_project_raw_3D_original\\data_crop_3D\\2020_01_10_15_41_20x\\labels\\mitochondria\n",
      "0009 exists in D:PerlmutterData\\dl_seg_project_raw_3D_original\\data_crop_3D\\2020_01_10_15_41_20x\\images\\mitochondria\n",
      "0009 exists in D:PerlmutterData\\dl_seg_project_raw_3D_original\\data_crop_3D\\2020_01_10_15_41_20x\\labels\\mitochondria\n",
      "0010 exists in D:PerlmutterData\\dl_seg_project_raw_3D_original\\data_crop_3D\\2020_01_10_15_41_20x\\images\\mitochondria\n",
      "0010 exists in D:PerlmutterData\\dl_seg_project_raw_3D_original\\data_crop_3D\\2020_01_10_15_41_20x\\labels\\mitochondria\n",
      "0011 exists in D:PerlmutterData\\dl_seg_project_raw_3D_original\\data_crop_3D\\2020_01_10_15_41_20x\\images\\mitochondria\n",
      "0011 exists in D:PerlmutterData\\dl_seg_project_raw_3D_original\\data_crop_3D\\2020_01_10_15_41_20x\\labels\\mitochondria\n",
      "0012 exists in D:PerlmutterData\\dl_seg_project_raw_3D_original\\data_crop_3D\\2020_01_10_15_41_20x\\images\\mitochondria\n",
      "0012 exists in D:PerlmutterData\\dl_seg_project_raw_3D_original\\data_crop_3D\\2020_01_10_15_41_20x\\labels\\mitochondria\n",
      "0013 exists in D:PerlmutterData\\dl_seg_project_raw_3D_original\\data_crop_3D\\2020_01_10_15_41_20x\\images\\mitochondria\n",
      "0013 exists in D:PerlmutterData\\dl_seg_project_raw_3D_original\\data_crop_3D\\2020_01_10_15_41_20x\\labels\\mitochondria\n",
      "0014 exists in D:PerlmutterData\\dl_seg_project_raw_3D_original\\data_crop_3D\\2020_01_10_15_41_20x\\images\\mitochondria\n",
      "0014 exists in D:PerlmutterData\\dl_seg_project_raw_3D_original\\data_crop_3D\\2020_01_10_15_41_20x\\labels\\mitochondria\n",
      "0015 exists in D:PerlmutterData\\dl_seg_project_raw_3D_original\\data_crop_3D\\2020_01_10_15_41_20x\\images\\mitochondria\n",
      "0015 exists in D:PerlmutterData\\dl_seg_project_raw_3D_original\\data_crop_3D\\2020_01_10_15_41_20x\\labels\\mitochondria\n",
      "0016 exists in D:PerlmutterData\\dl_seg_project_raw_3D_original\\data_crop_3D\\2020_01_10_15_41_20x\\images\\mitochondria\n",
      "0016 exists in D:PerlmutterData\\dl_seg_project_raw_3D_original\\data_crop_3D\\2020_01_10_15_41_20x\\labels\\mitochondria\n",
      "0017 exists in D:PerlmutterData\\dl_seg_project_raw_3D_original\\data_crop_3D\\2020_01_10_15_41_20x\\images\\mitochondria\n",
      "0017 exists in D:PerlmutterData\\dl_seg_project_raw_3D_original\\data_crop_3D\\2020_01_10_15_41_20x\\labels\\mitochondria\n",
      "0018 exists in D:PerlmutterData\\dl_seg_project_raw_3D_original\\data_crop_3D\\2020_01_10_15_41_20x\\images\\mitochondria\n",
      "0018 exists in D:PerlmutterData\\dl_seg_project_raw_3D_original\\data_crop_3D\\2020_01_10_15_41_20x\\labels\\mitochondria\n",
      "0019 exists in D:PerlmutterData\\dl_seg_project_raw_3D_original\\data_crop_3D\\2020_01_10_15_41_20x\\images\\mitochondria\n",
      "0019 exists in D:PerlmutterData\\dl_seg_project_raw_3D_original\\data_crop_3D\\2020_01_10_15_41_20x\\labels\\mitochondria\n",
      "0020 exists in D:PerlmutterData\\dl_seg_project_raw_3D_original\\data_crop_3D\\2020_01_10_15_41_20x\\images\\mitochondria\n",
      "0020 exists in D:PerlmutterData\\dl_seg_project_raw_3D_original\\data_crop_3D\\2020_01_10_15_41_20x\\labels\\mitochondria\n"
     ]
    },
    {
     "data": {
      "application/vnd.jupyter.widget-view+json": {
       "model_id": "e8b10756590c4c279f56a3d84bd0b19a",
       "version_major": 2,
       "version_minor": 0
      },
      "text/plain": [
       "HBox(children=(IntProgress(value=0, max=256), HTML(value='')))"
      ]
     },
     "metadata": {},
     "output_type": "display_data"
    },
    {
     "name": "stdout",
     "output_type": "stream",
     "text": [
      "\n"
     ]
    },
    {
     "data": {
      "application/vnd.jupyter.widget-view+json": {
       "model_id": "34565a8b36234c7f831a51a61b970781",
       "version_major": 2,
       "version_minor": 0
      },
      "text/plain": [
       "HBox(children=(IntProgress(value=0, max=256), HTML(value='')))"
      ]
     },
     "metadata": {},
     "output_type": "display_data"
    },
    {
     "name": "stdout",
     "output_type": "stream",
     "text": [
      "\n",
      "(256, 256, 256)\n",
      "0001 exists in D:PerlmutterData\\dl_seg_project_raw_3D_original\\data_crop_3D\\2020_01_10_15_41_20x\\images\\mitochondria\n",
      "0001 exists in D:PerlmutterData\\dl_seg_project_raw_3D_original\\data_crop_3D\\2020_01_10_15_41_20x\\labels\\mitochondria\n",
      "0002 exists in D:PerlmutterData\\dl_seg_project_raw_3D_original\\data_crop_3D\\2020_01_10_15_41_20x\\images\\mitochondria\n",
      "0002 exists in D:PerlmutterData\\dl_seg_project_raw_3D_original\\data_crop_3D\\2020_01_10_15_41_20x\\labels\\mitochondria\n",
      "0003 exists in D:PerlmutterData\\dl_seg_project_raw_3D_original\\data_crop_3D\\2020_01_10_15_41_20x\\images\\mitochondria\n",
      "0003 exists in D:PerlmutterData\\dl_seg_project_raw_3D_original\\data_crop_3D\\2020_01_10_15_41_20x\\labels\\mitochondria\n",
      "0004 exists in D:PerlmutterData\\dl_seg_project_raw_3D_original\\data_crop_3D\\2020_01_10_15_41_20x\\images\\mitochondria\n",
      "0004 exists in D:PerlmutterData\\dl_seg_project_raw_3D_original\\data_crop_3D\\2020_01_10_15_41_20x\\labels\\mitochondria\n",
      "0005 exists in D:PerlmutterData\\dl_seg_project_raw_3D_original\\data_crop_3D\\2020_01_10_15_41_20x\\images\\mitochondria\n",
      "0005 exists in D:PerlmutterData\\dl_seg_project_raw_3D_original\\data_crop_3D\\2020_01_10_15_41_20x\\labels\\mitochondria\n",
      "0006 exists in D:PerlmutterData\\dl_seg_project_raw_3D_original\\data_crop_3D\\2020_01_10_15_41_20x\\images\\mitochondria\n",
      "0006 exists in D:PerlmutterData\\dl_seg_project_raw_3D_original\\data_crop_3D\\2020_01_10_15_41_20x\\labels\\mitochondria\n",
      "0007 exists in D:PerlmutterData\\dl_seg_project_raw_3D_original\\data_crop_3D\\2020_01_10_15_41_20x\\images\\mitochondria\n",
      "0007 exists in D:PerlmutterData\\dl_seg_project_raw_3D_original\\data_crop_3D\\2020_01_10_15_41_20x\\labels\\mitochondria\n",
      "0008 exists in D:PerlmutterData\\dl_seg_project_raw_3D_original\\data_crop_3D\\2020_01_10_15_41_20x\\images\\mitochondria\n",
      "0008 exists in D:PerlmutterData\\dl_seg_project_raw_3D_original\\data_crop_3D\\2020_01_10_15_41_20x\\labels\\mitochondria\n",
      "0009 exists in D:PerlmutterData\\dl_seg_project_raw_3D_original\\data_crop_3D\\2020_01_10_15_41_20x\\images\\mitochondria\n",
      "0009 exists in D:PerlmutterData\\dl_seg_project_raw_3D_original\\data_crop_3D\\2020_01_10_15_41_20x\\labels\\mitochondria\n",
      "0010 exists in D:PerlmutterData\\dl_seg_project_raw_3D_original\\data_crop_3D\\2020_01_10_15_41_20x\\images\\mitochondria\n",
      "0010 exists in D:PerlmutterData\\dl_seg_project_raw_3D_original\\data_crop_3D\\2020_01_10_15_41_20x\\labels\\mitochondria\n",
      "0011 exists in D:PerlmutterData\\dl_seg_project_raw_3D_original\\data_crop_3D\\2020_01_10_15_41_20x\\images\\mitochondria\n",
      "0011 exists in D:PerlmutterData\\dl_seg_project_raw_3D_original\\data_crop_3D\\2020_01_10_15_41_20x\\labels\\mitochondria\n",
      "0012 exists in D:PerlmutterData\\dl_seg_project_raw_3D_original\\data_crop_3D\\2020_01_10_15_41_20x\\images\\mitochondria\n",
      "0012 exists in D:PerlmutterData\\dl_seg_project_raw_3D_original\\data_crop_3D\\2020_01_10_15_41_20x\\labels\\mitochondria\n",
      "0013 exists in D:PerlmutterData\\dl_seg_project_raw_3D_original\\data_crop_3D\\2020_01_10_15_41_20x\\images\\mitochondria\n",
      "0013 exists in D:PerlmutterData\\dl_seg_project_raw_3D_original\\data_crop_3D\\2020_01_10_15_41_20x\\labels\\mitochondria\n",
      "0014 exists in D:PerlmutterData\\dl_seg_project_raw_3D_original\\data_crop_3D\\2020_01_10_15_41_20x\\images\\mitochondria\n",
      "0014 exists in D:PerlmutterData\\dl_seg_project_raw_3D_original\\data_crop_3D\\2020_01_10_15_41_20x\\labels\\mitochondria\n",
      "0015 exists in D:PerlmutterData\\dl_seg_project_raw_3D_original\\data_crop_3D\\2020_01_10_15_41_20x\\images\\mitochondria\n",
      "0015 exists in D:PerlmutterData\\dl_seg_project_raw_3D_original\\data_crop_3D\\2020_01_10_15_41_20x\\labels\\mitochondria\n",
      "0016 exists in D:PerlmutterData\\dl_seg_project_raw_3D_original\\data_crop_3D\\2020_01_10_15_41_20x\\images\\mitochondria\n",
      "0016 exists in D:PerlmutterData\\dl_seg_project_raw_3D_original\\data_crop_3D\\2020_01_10_15_41_20x\\labels\\mitochondria\n",
      "0017 exists in D:PerlmutterData\\dl_seg_project_raw_3D_original\\data_crop_3D\\2020_01_10_15_41_20x\\images\\mitochondria\n",
      "0017 exists in D:PerlmutterData\\dl_seg_project_raw_3D_original\\data_crop_3D\\2020_01_10_15_41_20x\\labels\\mitochondria\n",
      "0018 exists in D:PerlmutterData\\dl_seg_project_raw_3D_original\\data_crop_3D\\2020_01_10_15_41_20x\\images\\mitochondria\n",
      "0018 exists in D:PerlmutterData\\dl_seg_project_raw_3D_original\\data_crop_3D\\2020_01_10_15_41_20x\\labels\\mitochondria\n",
      "0019 exists in D:PerlmutterData\\dl_seg_project_raw_3D_original\\data_crop_3D\\2020_01_10_15_41_20x\\images\\mitochondria\n",
      "0019 exists in D:PerlmutterData\\dl_seg_project_raw_3D_original\\data_crop_3D\\2020_01_10_15_41_20x\\labels\\mitochondria\n",
      "0020 exists in D:PerlmutterData\\dl_seg_project_raw_3D_original\\data_crop_3D\\2020_01_10_15_41_20x\\images\\mitochondria\n",
      "0020 exists in D:PerlmutterData\\dl_seg_project_raw_3D_original\\data_crop_3D\\2020_01_10_15_41_20x\\labels\\mitochondria\n",
      "\n",
      "Finish\n",
      "Croping the images from group nucleus...\n"
     ]
    },
    {
     "data": {
      "application/vnd.jupyter.widget-view+json": {
       "model_id": "f61583ceb4244b2b8b4e94b122dd1e56",
       "version_major": 2,
       "version_minor": 0
      },
      "text/plain": [
       "HBox(children=(IntProgress(value=0, max=6), HTML(value='')))"
      ]
     },
     "metadata": {},
     "output_type": "display_data"
    },
    {
     "data": {
      "application/vnd.jupyter.widget-view+json": {
       "model_id": "de327de006c843f08f963fb994ac31aa",
       "version_major": 2,
       "version_minor": 0
      },
      "text/plain": [
       "HBox(children=(IntProgress(value=0, max=20), HTML(value='')))"
      ]
     },
     "metadata": {},
     "output_type": "display_data"
    },
    {
     "name": "stdout",
     "output_type": "stream",
     "text": [
      "\n"
     ]
    },
    {
     "data": {
      "application/vnd.jupyter.widget-view+json": {
       "model_id": "82026fa617cc42e0ab753a08fc6fb6c7",
       "version_major": 2,
       "version_minor": 0
      },
      "text/plain": [
       "HBox(children=(IntProgress(value=0, max=20), HTML(value='')))"
      ]
     },
     "metadata": {},
     "output_type": "display_data"
    },
    {
     "name": "stdout",
     "output_type": "stream",
     "text": [
      "\n",
      "(20, 883, 2297)\n",
      "0001 does not exist in D:PerlmutterData\\dl_seg_project_raw_3D_original\\data_crop_3D\\2020_01_10_15_41_20x\\images\\nucleus\n",
      "0001 does not exist in D:PerlmutterData\\dl_seg_project_raw_3D_original\\data_crop_3D\\2020_01_10_15_41_20x\\labels\\nucleus\n",
      "0002 does not exist in D:PerlmutterData\\dl_seg_project_raw_3D_original\\data_crop_3D\\2020_01_10_15_41_20x\\images\\nucleus\n",
      "0002 does not exist in D:PerlmutterData\\dl_seg_project_raw_3D_original\\data_crop_3D\\2020_01_10_15_41_20x\\labels\\nucleus\n",
      "0003 does not exist in D:PerlmutterData\\dl_seg_project_raw_3D_original\\data_crop_3D\\2020_01_10_15_41_20x\\images\\nucleus\n",
      "0003 does not exist in D:PerlmutterData\\dl_seg_project_raw_3D_original\\data_crop_3D\\2020_01_10_15_41_20x\\labels\\nucleus\n",
      "0004 does not exist in D:PerlmutterData\\dl_seg_project_raw_3D_original\\data_crop_3D\\2020_01_10_15_41_20x\\images\\nucleus\n",
      "0004 does not exist in D:PerlmutterData\\dl_seg_project_raw_3D_original\\data_crop_3D\\2020_01_10_15_41_20x\\labels\\nucleus\n",
      "0005 does not exist in D:PerlmutterData\\dl_seg_project_raw_3D_original\\data_crop_3D\\2020_01_10_15_41_20x\\images\\nucleus\n",
      "0005 does not exist in D:PerlmutterData\\dl_seg_project_raw_3D_original\\data_crop_3D\\2020_01_10_15_41_20x\\labels\\nucleus\n",
      "0006 does not exist in D:PerlmutterData\\dl_seg_project_raw_3D_original\\data_crop_3D\\2020_01_10_15_41_20x\\images\\nucleus\n",
      "0006 does not exist in D:PerlmutterData\\dl_seg_project_raw_3D_original\\data_crop_3D\\2020_01_10_15_41_20x\\labels\\nucleus\n",
      "0007 does not exist in D:PerlmutterData\\dl_seg_project_raw_3D_original\\data_crop_3D\\2020_01_10_15_41_20x\\images\\nucleus\n",
      "0007 does not exist in D:PerlmutterData\\dl_seg_project_raw_3D_original\\data_crop_3D\\2020_01_10_15_41_20x\\labels\\nucleus\n",
      "0008 does not exist in D:PerlmutterData\\dl_seg_project_raw_3D_original\\data_crop_3D\\2020_01_10_15_41_20x\\images\\nucleus\n",
      "0008 does not exist in D:PerlmutterData\\dl_seg_project_raw_3D_original\\data_crop_3D\\2020_01_10_15_41_20x\\labels\\nucleus\n",
      "0009 does not exist in D:PerlmutterData\\dl_seg_project_raw_3D_original\\data_crop_3D\\2020_01_10_15_41_20x\\images\\nucleus\n",
      "0009 does not exist in D:PerlmutterData\\dl_seg_project_raw_3D_original\\data_crop_3D\\2020_01_10_15_41_20x\\labels\\nucleus\n",
      "0010 does not exist in D:PerlmutterData\\dl_seg_project_raw_3D_original\\data_crop_3D\\2020_01_10_15_41_20x\\images\\nucleus\n",
      "0010 does not exist in D:PerlmutterData\\dl_seg_project_raw_3D_original\\data_crop_3D\\2020_01_10_15_41_20x\\labels\\nucleus\n",
      "0011 does not exist in D:PerlmutterData\\dl_seg_project_raw_3D_original\\data_crop_3D\\2020_01_10_15_41_20x\\images\\nucleus\n",
      "0011 does not exist in D:PerlmutterData\\dl_seg_project_raw_3D_original\\data_crop_3D\\2020_01_10_15_41_20x\\labels\\nucleus\n",
      "0012 does not exist in D:PerlmutterData\\dl_seg_project_raw_3D_original\\data_crop_3D\\2020_01_10_15_41_20x\\images\\nucleus\n",
      "0012 does not exist in D:PerlmutterData\\dl_seg_project_raw_3D_original\\data_crop_3D\\2020_01_10_15_41_20x\\labels\\nucleus\n",
      "0013 does not exist in D:PerlmutterData\\dl_seg_project_raw_3D_original\\data_crop_3D\\2020_01_10_15_41_20x\\images\\nucleus\n",
      "0013 does not exist in D:PerlmutterData\\dl_seg_project_raw_3D_original\\data_crop_3D\\2020_01_10_15_41_20x\\labels\\nucleus\n",
      "0014 does not exist in D:PerlmutterData\\dl_seg_project_raw_3D_original\\data_crop_3D\\2020_01_10_15_41_20x\\images\\nucleus\n",
      "0014 does not exist in D:PerlmutterData\\dl_seg_project_raw_3D_original\\data_crop_3D\\2020_01_10_15_41_20x\\labels\\nucleus\n",
      "0015 does not exist in D:PerlmutterData\\dl_seg_project_raw_3D_original\\data_crop_3D\\2020_01_10_15_41_20x\\images\\nucleus\n",
      "0015 does not exist in D:PerlmutterData\\dl_seg_project_raw_3D_original\\data_crop_3D\\2020_01_10_15_41_20x\\labels\\nucleus\n",
      "0016 does not exist in D:PerlmutterData\\dl_seg_project_raw_3D_original\\data_crop_3D\\2020_01_10_15_41_20x\\images\\nucleus\n",
      "0016 does not exist in D:PerlmutterData\\dl_seg_project_raw_3D_original\\data_crop_3D\\2020_01_10_15_41_20x\\labels\\nucleus\n",
      "0017 does not exist in D:PerlmutterData\\dl_seg_project_raw_3D_original\\data_crop_3D\\2020_01_10_15_41_20x\\images\\nucleus\n",
      "0017 does not exist in D:PerlmutterData\\dl_seg_project_raw_3D_original\\data_crop_3D\\2020_01_10_15_41_20x\\labels\\nucleus\n",
      "0018 does not exist in D:PerlmutterData\\dl_seg_project_raw_3D_original\\data_crop_3D\\2020_01_10_15_41_20x\\images\\nucleus\n",
      "0018 does not exist in D:PerlmutterData\\dl_seg_project_raw_3D_original\\data_crop_3D\\2020_01_10_15_41_20x\\labels\\nucleus\n",
      "0019 does not exist in D:PerlmutterData\\dl_seg_project_raw_3D_original\\data_crop_3D\\2020_01_10_15_41_20x\\images\\nucleus\n",
      "0019 does not exist in D:PerlmutterData\\dl_seg_project_raw_3D_original\\data_crop_3D\\2020_01_10_15_41_20x\\labels\\nucleus\n",
      "0020 does not exist in D:PerlmutterData\\dl_seg_project_raw_3D_original\\data_crop_3D\\2020_01_10_15_41_20x\\images\\nucleus\n",
      "0020 does not exist in D:PerlmutterData\\dl_seg_project_raw_3D_original\\data_crop_3D\\2020_01_10_15_41_20x\\labels\\nucleus\n"
     ]
    },
    {
     "data": {
      "application/vnd.jupyter.widget-view+json": {
       "model_id": "397327b7c35b4d079bf1391a10bf05ab",
       "version_major": 2,
       "version_minor": 0
      },
      "text/plain": [
       "HBox(children=(IntProgress(value=0, max=20), HTML(value='')))"
      ]
     },
     "metadata": {},
     "output_type": "display_data"
    },
    {
     "name": "stdout",
     "output_type": "stream",
     "text": [
      "\n"
     ]
    },
    {
     "data": {
      "application/vnd.jupyter.widget-view+json": {
       "model_id": "f7a8311234e64f568e4f65a87cc415ae",
       "version_major": 2,
       "version_minor": 0
      },
      "text/plain": [
       "HBox(children=(IntProgress(value=0, max=20), HTML(value='')))"
      ]
     },
     "metadata": {},
     "output_type": "display_data"
    },
    {
     "name": "stdout",
     "output_type": "stream",
     "text": [
      "\n",
      "(20, 844, 2238)\n",
      "0001 exists in D:PerlmutterData\\dl_seg_project_raw_3D_original\\data_crop_3D\\2020_01_10_15_41_20x\\images\\nucleus\n",
      "0001 exists in D:PerlmutterData\\dl_seg_project_raw_3D_original\\data_crop_3D\\2020_01_10_15_41_20x\\labels\\nucleus\n",
      "0002 exists in D:PerlmutterData\\dl_seg_project_raw_3D_original\\data_crop_3D\\2020_01_10_15_41_20x\\images\\nucleus\n",
      "0002 exists in D:PerlmutterData\\dl_seg_project_raw_3D_original\\data_crop_3D\\2020_01_10_15_41_20x\\labels\\nucleus\n",
      "0003 exists in D:PerlmutterData\\dl_seg_project_raw_3D_original\\data_crop_3D\\2020_01_10_15_41_20x\\images\\nucleus\n",
      "0003 exists in D:PerlmutterData\\dl_seg_project_raw_3D_original\\data_crop_3D\\2020_01_10_15_41_20x\\labels\\nucleus\n",
      "0004 exists in D:PerlmutterData\\dl_seg_project_raw_3D_original\\data_crop_3D\\2020_01_10_15_41_20x\\images\\nucleus\n",
      "0004 exists in D:PerlmutterData\\dl_seg_project_raw_3D_original\\data_crop_3D\\2020_01_10_15_41_20x\\labels\\nucleus\n",
      "0005 exists in D:PerlmutterData\\dl_seg_project_raw_3D_original\\data_crop_3D\\2020_01_10_15_41_20x\\images\\nucleus\n",
      "0005 exists in D:PerlmutterData\\dl_seg_project_raw_3D_original\\data_crop_3D\\2020_01_10_15_41_20x\\labels\\nucleus\n",
      "0006 exists in D:PerlmutterData\\dl_seg_project_raw_3D_original\\data_crop_3D\\2020_01_10_15_41_20x\\images\\nucleus\n",
      "0006 exists in D:PerlmutterData\\dl_seg_project_raw_3D_original\\data_crop_3D\\2020_01_10_15_41_20x\\labels\\nucleus\n",
      "0007 exists in D:PerlmutterData\\dl_seg_project_raw_3D_original\\data_crop_3D\\2020_01_10_15_41_20x\\images\\nucleus\n",
      "0007 exists in D:PerlmutterData\\dl_seg_project_raw_3D_original\\data_crop_3D\\2020_01_10_15_41_20x\\labels\\nucleus\n",
      "0008 exists in D:PerlmutterData\\dl_seg_project_raw_3D_original\\data_crop_3D\\2020_01_10_15_41_20x\\images\\nucleus\n",
      "0008 exists in D:PerlmutterData\\dl_seg_project_raw_3D_original\\data_crop_3D\\2020_01_10_15_41_20x\\labels\\nucleus\n",
      "0009 exists in D:PerlmutterData\\dl_seg_project_raw_3D_original\\data_crop_3D\\2020_01_10_15_41_20x\\images\\nucleus\n",
      "0009 exists in D:PerlmutterData\\dl_seg_project_raw_3D_original\\data_crop_3D\\2020_01_10_15_41_20x\\labels\\nucleus\n",
      "0010 exists in D:PerlmutterData\\dl_seg_project_raw_3D_original\\data_crop_3D\\2020_01_10_15_41_20x\\images\\nucleus\n",
      "0010 exists in D:PerlmutterData\\dl_seg_project_raw_3D_original\\data_crop_3D\\2020_01_10_15_41_20x\\labels\\nucleus\n",
      "0011 exists in D:PerlmutterData\\dl_seg_project_raw_3D_original\\data_crop_3D\\2020_01_10_15_41_20x\\images\\nucleus\n",
      "0011 exists in D:PerlmutterData\\dl_seg_project_raw_3D_original\\data_crop_3D\\2020_01_10_15_41_20x\\labels\\nucleus\n",
      "0012 exists in D:PerlmutterData\\dl_seg_project_raw_3D_original\\data_crop_3D\\2020_01_10_15_41_20x\\images\\nucleus\n",
      "0012 exists in D:PerlmutterData\\dl_seg_project_raw_3D_original\\data_crop_3D\\2020_01_10_15_41_20x\\labels\\nucleus\n",
      "0013 exists in D:PerlmutterData\\dl_seg_project_raw_3D_original\\data_crop_3D\\2020_01_10_15_41_20x\\images\\nucleus\n",
      "0013 exists in D:PerlmutterData\\dl_seg_project_raw_3D_original\\data_crop_3D\\2020_01_10_15_41_20x\\labels\\nucleus\n",
      "0014 exists in D:PerlmutterData\\dl_seg_project_raw_3D_original\\data_crop_3D\\2020_01_10_15_41_20x\\images\\nucleus\n",
      "0014 exists in D:PerlmutterData\\dl_seg_project_raw_3D_original\\data_crop_3D\\2020_01_10_15_41_20x\\labels\\nucleus\n",
      "0015 exists in D:PerlmutterData\\dl_seg_project_raw_3D_original\\data_crop_3D\\2020_01_10_15_41_20x\\images\\nucleus\n",
      "0015 exists in D:PerlmutterData\\dl_seg_project_raw_3D_original\\data_crop_3D\\2020_01_10_15_41_20x\\labels\\nucleus\n",
      "0016 exists in D:PerlmutterData\\dl_seg_project_raw_3D_original\\data_crop_3D\\2020_01_10_15_41_20x\\images\\nucleus\n",
      "0016 exists in D:PerlmutterData\\dl_seg_project_raw_3D_original\\data_crop_3D\\2020_01_10_15_41_20x\\labels\\nucleus\n",
      "0017 exists in D:PerlmutterData\\dl_seg_project_raw_3D_original\\data_crop_3D\\2020_01_10_15_41_20x\\images\\nucleus\n",
      "0017 exists in D:PerlmutterData\\dl_seg_project_raw_3D_original\\data_crop_3D\\2020_01_10_15_41_20x\\labels\\nucleus\n",
      "0018 exists in D:PerlmutterData\\dl_seg_project_raw_3D_original\\data_crop_3D\\2020_01_10_15_41_20x\\images\\nucleus\n",
      "0018 exists in D:PerlmutterData\\dl_seg_project_raw_3D_original\\data_crop_3D\\2020_01_10_15_41_20x\\labels\\nucleus\n",
      "0019 exists in D:PerlmutterData\\dl_seg_project_raw_3D_original\\data_crop_3D\\2020_01_10_15_41_20x\\images\\nucleus\n",
      "0019 exists in D:PerlmutterData\\dl_seg_project_raw_3D_original\\data_crop_3D\\2020_01_10_15_41_20x\\labels\\nucleus\n",
      "0020 exists in D:PerlmutterData\\dl_seg_project_raw_3D_original\\data_crop_3D\\2020_01_10_15_41_20x\\images\\nucleus\n",
      "0020 exists in D:PerlmutterData\\dl_seg_project_raw_3D_original\\data_crop_3D\\2020_01_10_15_41_20x\\labels\\nucleus\n"
     ]
    },
    {
     "data": {
      "application/vnd.jupyter.widget-view+json": {
       "model_id": "5b21de4fb89e4628b50ae119b261a39d",
       "version_major": 2,
       "version_minor": 0
      },
      "text/plain": [
       "HBox(children=(IntProgress(value=0, max=20), HTML(value='')))"
      ]
     },
     "metadata": {},
     "output_type": "display_data"
    },
    {
     "name": "stdout",
     "output_type": "stream",
     "text": [
      "\n"
     ]
    },
    {
     "data": {
      "application/vnd.jupyter.widget-view+json": {
       "model_id": "9ca9e5657767435bbddc01ba7cbc421f",
       "version_major": 2,
       "version_minor": 0
      },
      "text/plain": [
       "HBox(children=(IntProgress(value=0, max=20), HTML(value='')))"
      ]
     },
     "metadata": {},
     "output_type": "display_data"
    },
    {
     "name": "stdout",
     "output_type": "stream",
     "text": [
      "\n",
      "(20, 938, 2216)\n",
      "0001 exists in D:PerlmutterData\\dl_seg_project_raw_3D_original\\data_crop_3D\\2020_01_10_15_41_20x\\images\\nucleus\n",
      "0001 exists in D:PerlmutterData\\dl_seg_project_raw_3D_original\\data_crop_3D\\2020_01_10_15_41_20x\\labels\\nucleus\n",
      "0002 exists in D:PerlmutterData\\dl_seg_project_raw_3D_original\\data_crop_3D\\2020_01_10_15_41_20x\\images\\nucleus\n",
      "0002 exists in D:PerlmutterData\\dl_seg_project_raw_3D_original\\data_crop_3D\\2020_01_10_15_41_20x\\labels\\nucleus\n",
      "0003 exists in D:PerlmutterData\\dl_seg_project_raw_3D_original\\data_crop_3D\\2020_01_10_15_41_20x\\images\\nucleus\n",
      "0003 exists in D:PerlmutterData\\dl_seg_project_raw_3D_original\\data_crop_3D\\2020_01_10_15_41_20x\\labels\\nucleus\n",
      "0004 exists in D:PerlmutterData\\dl_seg_project_raw_3D_original\\data_crop_3D\\2020_01_10_15_41_20x\\images\\nucleus\n",
      "0004 exists in D:PerlmutterData\\dl_seg_project_raw_3D_original\\data_crop_3D\\2020_01_10_15_41_20x\\labels\\nucleus\n",
      "0005 exists in D:PerlmutterData\\dl_seg_project_raw_3D_original\\data_crop_3D\\2020_01_10_15_41_20x\\images\\nucleus\n",
      "0005 exists in D:PerlmutterData\\dl_seg_project_raw_3D_original\\data_crop_3D\\2020_01_10_15_41_20x\\labels\\nucleus\n",
      "0006 exists in D:PerlmutterData\\dl_seg_project_raw_3D_original\\data_crop_3D\\2020_01_10_15_41_20x\\images\\nucleus\n",
      "0006 exists in D:PerlmutterData\\dl_seg_project_raw_3D_original\\data_crop_3D\\2020_01_10_15_41_20x\\labels\\nucleus\n",
      "0007 exists in D:PerlmutterData\\dl_seg_project_raw_3D_original\\data_crop_3D\\2020_01_10_15_41_20x\\images\\nucleus\n",
      "0007 exists in D:PerlmutterData\\dl_seg_project_raw_3D_original\\data_crop_3D\\2020_01_10_15_41_20x\\labels\\nucleus\n",
      "0008 exists in D:PerlmutterData\\dl_seg_project_raw_3D_original\\data_crop_3D\\2020_01_10_15_41_20x\\images\\nucleus\n",
      "0008 exists in D:PerlmutterData\\dl_seg_project_raw_3D_original\\data_crop_3D\\2020_01_10_15_41_20x\\labels\\nucleus\n",
      "0009 exists in D:PerlmutterData\\dl_seg_project_raw_3D_original\\data_crop_3D\\2020_01_10_15_41_20x\\images\\nucleus\n",
      "0009 exists in D:PerlmutterData\\dl_seg_project_raw_3D_original\\data_crop_3D\\2020_01_10_15_41_20x\\labels\\nucleus\n",
      "0010 exists in D:PerlmutterData\\dl_seg_project_raw_3D_original\\data_crop_3D\\2020_01_10_15_41_20x\\images\\nucleus\n",
      "0010 exists in D:PerlmutterData\\dl_seg_project_raw_3D_original\\data_crop_3D\\2020_01_10_15_41_20x\\labels\\nucleus\n",
      "0011 exists in D:PerlmutterData\\dl_seg_project_raw_3D_original\\data_crop_3D\\2020_01_10_15_41_20x\\images\\nucleus\n",
      "0011 exists in D:PerlmutterData\\dl_seg_project_raw_3D_original\\data_crop_3D\\2020_01_10_15_41_20x\\labels\\nucleus\n",
      "0012 exists in D:PerlmutterData\\dl_seg_project_raw_3D_original\\data_crop_3D\\2020_01_10_15_41_20x\\images\\nucleus\n",
      "0012 exists in D:PerlmutterData\\dl_seg_project_raw_3D_original\\data_crop_3D\\2020_01_10_15_41_20x\\labels\\nucleus\n",
      "0013 exists in D:PerlmutterData\\dl_seg_project_raw_3D_original\\data_crop_3D\\2020_01_10_15_41_20x\\images\\nucleus\n",
      "0013 exists in D:PerlmutterData\\dl_seg_project_raw_3D_original\\data_crop_3D\\2020_01_10_15_41_20x\\labels\\nucleus\n",
      "0014 exists in D:PerlmutterData\\dl_seg_project_raw_3D_original\\data_crop_3D\\2020_01_10_15_41_20x\\images\\nucleus\n",
      "0014 exists in D:PerlmutterData\\dl_seg_project_raw_3D_original\\data_crop_3D\\2020_01_10_15_41_20x\\labels\\nucleus\n",
      "0015 exists in D:PerlmutterData\\dl_seg_project_raw_3D_original\\data_crop_3D\\2020_01_10_15_41_20x\\images\\nucleus\n",
      "0015 exists in D:PerlmutterData\\dl_seg_project_raw_3D_original\\data_crop_3D\\2020_01_10_15_41_20x\\labels\\nucleus\n",
      "0016 exists in D:PerlmutterData\\dl_seg_project_raw_3D_original\\data_crop_3D\\2020_01_10_15_41_20x\\images\\nucleus\n",
      "0016 exists in D:PerlmutterData\\dl_seg_project_raw_3D_original\\data_crop_3D\\2020_01_10_15_41_20x\\labels\\nucleus\n",
      "0017 exists in D:PerlmutterData\\dl_seg_project_raw_3D_original\\data_crop_3D\\2020_01_10_15_41_20x\\images\\nucleus\n",
      "0017 exists in D:PerlmutterData\\dl_seg_project_raw_3D_original\\data_crop_3D\\2020_01_10_15_41_20x\\labels\\nucleus\n",
      "0018 exists in D:PerlmutterData\\dl_seg_project_raw_3D_original\\data_crop_3D\\2020_01_10_15_41_20x\\images\\nucleus\n",
      "0018 exists in D:PerlmutterData\\dl_seg_project_raw_3D_original\\data_crop_3D\\2020_01_10_15_41_20x\\labels\\nucleus\n",
      "0019 exists in D:PerlmutterData\\dl_seg_project_raw_3D_original\\data_crop_3D\\2020_01_10_15_41_20x\\images\\nucleus\n",
      "0019 exists in D:PerlmutterData\\dl_seg_project_raw_3D_original\\data_crop_3D\\2020_01_10_15_41_20x\\labels\\nucleus\n",
      "0020 exists in D:PerlmutterData\\dl_seg_project_raw_3D_original\\data_crop_3D\\2020_01_10_15_41_20x\\images\\nucleus\n",
      "0020 exists in D:PerlmutterData\\dl_seg_project_raw_3D_original\\data_crop_3D\\2020_01_10_15_41_20x\\labels\\nucleus\n"
     ]
    },
    {
     "data": {
      "application/vnd.jupyter.widget-view+json": {
       "model_id": "d32e9d0edec14c0696c7737aa91d9f55",
       "version_major": 2,
       "version_minor": 0
      },
      "text/plain": [
       "HBox(children=(IntProgress(value=0, max=20), HTML(value='')))"
      ]
     },
     "metadata": {},
     "output_type": "display_data"
    },
    {
     "name": "stdout",
     "output_type": "stream",
     "text": [
      "\n"
     ]
    },
    {
     "data": {
      "application/vnd.jupyter.widget-view+json": {
       "model_id": "2e6986db5ca1472cb4559e8ab21f493a",
       "version_major": 2,
       "version_minor": 0
      },
      "text/plain": [
       "HBox(children=(IntProgress(value=0, max=20), HTML(value='')))"
      ]
     },
     "metadata": {},
     "output_type": "display_data"
    },
    {
     "name": "stdout",
     "output_type": "stream",
     "text": [
      "\n",
      "(20, 930, 2219)\n",
      "0001 exists in D:PerlmutterData\\dl_seg_project_raw_3D_original\\data_crop_3D\\2020_01_10_15_41_20x\\images\\nucleus\n",
      "0001 exists in D:PerlmutterData\\dl_seg_project_raw_3D_original\\data_crop_3D\\2020_01_10_15_41_20x\\labels\\nucleus\n",
      "0002 exists in D:PerlmutterData\\dl_seg_project_raw_3D_original\\data_crop_3D\\2020_01_10_15_41_20x\\images\\nucleus\n",
      "0002 exists in D:PerlmutterData\\dl_seg_project_raw_3D_original\\data_crop_3D\\2020_01_10_15_41_20x\\labels\\nucleus\n",
      "0003 exists in D:PerlmutterData\\dl_seg_project_raw_3D_original\\data_crop_3D\\2020_01_10_15_41_20x\\images\\nucleus\n",
      "0003 exists in D:PerlmutterData\\dl_seg_project_raw_3D_original\\data_crop_3D\\2020_01_10_15_41_20x\\labels\\nucleus\n",
      "0004 exists in D:PerlmutterData\\dl_seg_project_raw_3D_original\\data_crop_3D\\2020_01_10_15_41_20x\\images\\nucleus\n",
      "0004 exists in D:PerlmutterData\\dl_seg_project_raw_3D_original\\data_crop_3D\\2020_01_10_15_41_20x\\labels\\nucleus\n",
      "0005 exists in D:PerlmutterData\\dl_seg_project_raw_3D_original\\data_crop_3D\\2020_01_10_15_41_20x\\images\\nucleus\n",
      "0005 exists in D:PerlmutterData\\dl_seg_project_raw_3D_original\\data_crop_3D\\2020_01_10_15_41_20x\\labels\\nucleus\n",
      "0006 exists in D:PerlmutterData\\dl_seg_project_raw_3D_original\\data_crop_3D\\2020_01_10_15_41_20x\\images\\nucleus\n",
      "0006 exists in D:PerlmutterData\\dl_seg_project_raw_3D_original\\data_crop_3D\\2020_01_10_15_41_20x\\labels\\nucleus\n",
      "0007 exists in D:PerlmutterData\\dl_seg_project_raw_3D_original\\data_crop_3D\\2020_01_10_15_41_20x\\images\\nucleus\n",
      "0007 exists in D:PerlmutterData\\dl_seg_project_raw_3D_original\\data_crop_3D\\2020_01_10_15_41_20x\\labels\\nucleus\n",
      "0008 exists in D:PerlmutterData\\dl_seg_project_raw_3D_original\\data_crop_3D\\2020_01_10_15_41_20x\\images\\nucleus\n",
      "0008 exists in D:PerlmutterData\\dl_seg_project_raw_3D_original\\data_crop_3D\\2020_01_10_15_41_20x\\labels\\nucleus\n",
      "0009 exists in D:PerlmutterData\\dl_seg_project_raw_3D_original\\data_crop_3D\\2020_01_10_15_41_20x\\images\\nucleus\n",
      "0009 exists in D:PerlmutterData\\dl_seg_project_raw_3D_original\\data_crop_3D\\2020_01_10_15_41_20x\\labels\\nucleus\n",
      "0010 exists in D:PerlmutterData\\dl_seg_project_raw_3D_original\\data_crop_3D\\2020_01_10_15_41_20x\\images\\nucleus\n",
      "0010 exists in D:PerlmutterData\\dl_seg_project_raw_3D_original\\data_crop_3D\\2020_01_10_15_41_20x\\labels\\nucleus\n",
      "0011 exists in D:PerlmutterData\\dl_seg_project_raw_3D_original\\data_crop_3D\\2020_01_10_15_41_20x\\images\\nucleus\n",
      "0011 exists in D:PerlmutterData\\dl_seg_project_raw_3D_original\\data_crop_3D\\2020_01_10_15_41_20x\\labels\\nucleus\n",
      "0012 exists in D:PerlmutterData\\dl_seg_project_raw_3D_original\\data_crop_3D\\2020_01_10_15_41_20x\\images\\nucleus\n",
      "0012 exists in D:PerlmutterData\\dl_seg_project_raw_3D_original\\data_crop_3D\\2020_01_10_15_41_20x\\labels\\nucleus\n",
      "0013 exists in D:PerlmutterData\\dl_seg_project_raw_3D_original\\data_crop_3D\\2020_01_10_15_41_20x\\images\\nucleus\n",
      "0013 exists in D:PerlmutterData\\dl_seg_project_raw_3D_original\\data_crop_3D\\2020_01_10_15_41_20x\\labels\\nucleus\n",
      "0014 exists in D:PerlmutterData\\dl_seg_project_raw_3D_original\\data_crop_3D\\2020_01_10_15_41_20x\\images\\nucleus\n",
      "0014 exists in D:PerlmutterData\\dl_seg_project_raw_3D_original\\data_crop_3D\\2020_01_10_15_41_20x\\labels\\nucleus\n",
      "0015 exists in D:PerlmutterData\\dl_seg_project_raw_3D_original\\data_crop_3D\\2020_01_10_15_41_20x\\images\\nucleus\n",
      "0015 exists in D:PerlmutterData\\dl_seg_project_raw_3D_original\\data_crop_3D\\2020_01_10_15_41_20x\\labels\\nucleus\n",
      "0016 exists in D:PerlmutterData\\dl_seg_project_raw_3D_original\\data_crop_3D\\2020_01_10_15_41_20x\\images\\nucleus\n",
      "0016 exists in D:PerlmutterData\\dl_seg_project_raw_3D_original\\data_crop_3D\\2020_01_10_15_41_20x\\labels\\nucleus\n",
      "0017 exists in D:PerlmutterData\\dl_seg_project_raw_3D_original\\data_crop_3D\\2020_01_10_15_41_20x\\images\\nucleus\n",
      "0017 exists in D:PerlmutterData\\dl_seg_project_raw_3D_original\\data_crop_3D\\2020_01_10_15_41_20x\\labels\\nucleus\n",
      "0018 exists in D:PerlmutterData\\dl_seg_project_raw_3D_original\\data_crop_3D\\2020_01_10_15_41_20x\\images\\nucleus\n",
      "0018 exists in D:PerlmutterData\\dl_seg_project_raw_3D_original\\data_crop_3D\\2020_01_10_15_41_20x\\labels\\nucleus\n",
      "0019 exists in D:PerlmutterData\\dl_seg_project_raw_3D_original\\data_crop_3D\\2020_01_10_15_41_20x\\images\\nucleus\n",
      "0019 exists in D:PerlmutterData\\dl_seg_project_raw_3D_original\\data_crop_3D\\2020_01_10_15_41_20x\\labels\\nucleus\n",
      "0020 exists in D:PerlmutterData\\dl_seg_project_raw_3D_original\\data_crop_3D\\2020_01_10_15_41_20x\\images\\nucleus\n",
      "0020 exists in D:PerlmutterData\\dl_seg_project_raw_3D_original\\data_crop_3D\\2020_01_10_15_41_20x\\labels\\nucleus\n"
     ]
    },
    {
     "data": {
      "application/vnd.jupyter.widget-view+json": {
       "model_id": "c37df66c90294bd78bed576a89f50d75",
       "version_major": 2,
       "version_minor": 0
      },
      "text/plain": [
       "HBox(children=(IntProgress(value=0, max=50), HTML(value='')))"
      ]
     },
     "metadata": {},
     "output_type": "display_data"
    },
    {
     "name": "stdout",
     "output_type": "stream",
     "text": [
      "\n"
     ]
    },
    {
     "data": {
      "application/vnd.jupyter.widget-view+json": {
       "model_id": "21bb0d11760746c18f7cc507819f0941",
       "version_major": 2,
       "version_minor": 0
      },
      "text/plain": [
       "HBox(children=(IntProgress(value=0, max=50), HTML(value='')))"
      ]
     },
     "metadata": {},
     "output_type": "display_data"
    },
    {
     "name": "stdout",
     "output_type": "stream",
     "text": [
      "\n",
      "(50, 793, 2285)\n",
      "0001 exists in D:PerlmutterData\\dl_seg_project_raw_3D_original\\data_crop_3D\\2020_01_10_15_41_20x\\images\\nucleus\n",
      "0001 exists in D:PerlmutterData\\dl_seg_project_raw_3D_original\\data_crop_3D\\2020_01_10_15_41_20x\\labels\\nucleus\n",
      "0002 exists in D:PerlmutterData\\dl_seg_project_raw_3D_original\\data_crop_3D\\2020_01_10_15_41_20x\\images\\nucleus\n",
      "0002 exists in D:PerlmutterData\\dl_seg_project_raw_3D_original\\data_crop_3D\\2020_01_10_15_41_20x\\labels\\nucleus\n",
      "0003 exists in D:PerlmutterData\\dl_seg_project_raw_3D_original\\data_crop_3D\\2020_01_10_15_41_20x\\images\\nucleus\n",
      "0003 exists in D:PerlmutterData\\dl_seg_project_raw_3D_original\\data_crop_3D\\2020_01_10_15_41_20x\\labels\\nucleus\n",
      "0004 exists in D:PerlmutterData\\dl_seg_project_raw_3D_original\\data_crop_3D\\2020_01_10_15_41_20x\\images\\nucleus\n",
      "0004 exists in D:PerlmutterData\\dl_seg_project_raw_3D_original\\data_crop_3D\\2020_01_10_15_41_20x\\labels\\nucleus\n",
      "0005 exists in D:PerlmutterData\\dl_seg_project_raw_3D_original\\data_crop_3D\\2020_01_10_15_41_20x\\images\\nucleus\n",
      "0005 exists in D:PerlmutterData\\dl_seg_project_raw_3D_original\\data_crop_3D\\2020_01_10_15_41_20x\\labels\\nucleus\n",
      "0006 exists in D:PerlmutterData\\dl_seg_project_raw_3D_original\\data_crop_3D\\2020_01_10_15_41_20x\\images\\nucleus\n",
      "0006 exists in D:PerlmutterData\\dl_seg_project_raw_3D_original\\data_crop_3D\\2020_01_10_15_41_20x\\labels\\nucleus\n",
      "0007 exists in D:PerlmutterData\\dl_seg_project_raw_3D_original\\data_crop_3D\\2020_01_10_15_41_20x\\images\\nucleus\n",
      "0007 exists in D:PerlmutterData\\dl_seg_project_raw_3D_original\\data_crop_3D\\2020_01_10_15_41_20x\\labels\\nucleus\n",
      "0008 exists in D:PerlmutterData\\dl_seg_project_raw_3D_original\\data_crop_3D\\2020_01_10_15_41_20x\\images\\nucleus\n",
      "0008 exists in D:PerlmutterData\\dl_seg_project_raw_3D_original\\data_crop_3D\\2020_01_10_15_41_20x\\labels\\nucleus\n",
      "0009 exists in D:PerlmutterData\\dl_seg_project_raw_3D_original\\data_crop_3D\\2020_01_10_15_41_20x\\images\\nucleus\n",
      "0009 exists in D:PerlmutterData\\dl_seg_project_raw_3D_original\\data_crop_3D\\2020_01_10_15_41_20x\\labels\\nucleus\n",
      "0010 exists in D:PerlmutterData\\dl_seg_project_raw_3D_original\\data_crop_3D\\2020_01_10_15_41_20x\\images\\nucleus\n",
      "0010 exists in D:PerlmutterData\\dl_seg_project_raw_3D_original\\data_crop_3D\\2020_01_10_15_41_20x\\labels\\nucleus\n",
      "0011 exists in D:PerlmutterData\\dl_seg_project_raw_3D_original\\data_crop_3D\\2020_01_10_15_41_20x\\images\\nucleus\n",
      "0011 exists in D:PerlmutterData\\dl_seg_project_raw_3D_original\\data_crop_3D\\2020_01_10_15_41_20x\\labels\\nucleus\n",
      "0012 exists in D:PerlmutterData\\dl_seg_project_raw_3D_original\\data_crop_3D\\2020_01_10_15_41_20x\\images\\nucleus\n",
      "0012 exists in D:PerlmutterData\\dl_seg_project_raw_3D_original\\data_crop_3D\\2020_01_10_15_41_20x\\labels\\nucleus\n",
      "0013 exists in D:PerlmutterData\\dl_seg_project_raw_3D_original\\data_crop_3D\\2020_01_10_15_41_20x\\images\\nucleus\n",
      "0013 exists in D:PerlmutterData\\dl_seg_project_raw_3D_original\\data_crop_3D\\2020_01_10_15_41_20x\\labels\\nucleus\n",
      "0014 exists in D:PerlmutterData\\dl_seg_project_raw_3D_original\\data_crop_3D\\2020_01_10_15_41_20x\\images\\nucleus\n",
      "0014 exists in D:PerlmutterData\\dl_seg_project_raw_3D_original\\data_crop_3D\\2020_01_10_15_41_20x\\labels\\nucleus\n",
      "0015 exists in D:PerlmutterData\\dl_seg_project_raw_3D_original\\data_crop_3D\\2020_01_10_15_41_20x\\images\\nucleus\n",
      "0015 exists in D:PerlmutterData\\dl_seg_project_raw_3D_original\\data_crop_3D\\2020_01_10_15_41_20x\\labels\\nucleus\n",
      "0016 exists in D:PerlmutterData\\dl_seg_project_raw_3D_original\\data_crop_3D\\2020_01_10_15_41_20x\\images\\nucleus\n",
      "0016 exists in D:PerlmutterData\\dl_seg_project_raw_3D_original\\data_crop_3D\\2020_01_10_15_41_20x\\labels\\nucleus\n",
      "0017 exists in D:PerlmutterData\\dl_seg_project_raw_3D_original\\data_crop_3D\\2020_01_10_15_41_20x\\images\\nucleus\n",
      "0017 exists in D:PerlmutterData\\dl_seg_project_raw_3D_original\\data_crop_3D\\2020_01_10_15_41_20x\\labels\\nucleus\n",
      "0018 exists in D:PerlmutterData\\dl_seg_project_raw_3D_original\\data_crop_3D\\2020_01_10_15_41_20x\\images\\nucleus\n",
      "0018 exists in D:PerlmutterData\\dl_seg_project_raw_3D_original\\data_crop_3D\\2020_01_10_15_41_20x\\labels\\nucleus\n",
      "0019 exists in D:PerlmutterData\\dl_seg_project_raw_3D_original\\data_crop_3D\\2020_01_10_15_41_20x\\images\\nucleus\n",
      "0019 exists in D:PerlmutterData\\dl_seg_project_raw_3D_original\\data_crop_3D\\2020_01_10_15_41_20x\\labels\\nucleus\n",
      "0020 exists in D:PerlmutterData\\dl_seg_project_raw_3D_original\\data_crop_3D\\2020_01_10_15_41_20x\\images\\nucleus\n",
      "0020 exists in D:PerlmutterData\\dl_seg_project_raw_3D_original\\data_crop_3D\\2020_01_10_15_41_20x\\labels\\nucleus\n"
     ]
    },
    {
     "data": {
      "application/vnd.jupyter.widget-view+json": {
       "model_id": "c330ae3cb52341a9a460c088709cad36",
       "version_major": 2,
       "version_minor": 0
      },
      "text/plain": [
       "HBox(children=(IntProgress(value=0, max=101), HTML(value='')))"
      ]
     },
     "metadata": {},
     "output_type": "display_data"
    },
    {
     "name": "stdout",
     "output_type": "stream",
     "text": [
      "\n"
     ]
    },
    {
     "data": {
      "application/vnd.jupyter.widget-view+json": {
       "model_id": "3920aa9e919b4d05bb3d5e66be882ef9",
       "version_major": 2,
       "version_minor": 0
      },
      "text/plain": [
       "HBox(children=(IntProgress(value=0, max=101), HTML(value='')))"
      ]
     },
     "metadata": {},
     "output_type": "display_data"
    },
    {
     "name": "stdout",
     "output_type": "stream",
     "text": [
      "\n",
      "(101, 793, 2285)\n",
      "0001 exists in D:PerlmutterData\\dl_seg_project_raw_3D_original\\data_crop_3D\\2020_01_10_15_41_20x\\images\\nucleus\n",
      "0001 exists in D:PerlmutterData\\dl_seg_project_raw_3D_original\\data_crop_3D\\2020_01_10_15_41_20x\\labels\\nucleus\n",
      "0002 exists in D:PerlmutterData\\dl_seg_project_raw_3D_original\\data_crop_3D\\2020_01_10_15_41_20x\\images\\nucleus\n",
      "0002 exists in D:PerlmutterData\\dl_seg_project_raw_3D_original\\data_crop_3D\\2020_01_10_15_41_20x\\labels\\nucleus\n",
      "0003 exists in D:PerlmutterData\\dl_seg_project_raw_3D_original\\data_crop_3D\\2020_01_10_15_41_20x\\images\\nucleus\n",
      "0003 exists in D:PerlmutterData\\dl_seg_project_raw_3D_original\\data_crop_3D\\2020_01_10_15_41_20x\\labels\\nucleus\n",
      "0004 exists in D:PerlmutterData\\dl_seg_project_raw_3D_original\\data_crop_3D\\2020_01_10_15_41_20x\\images\\nucleus\n",
      "0004 exists in D:PerlmutterData\\dl_seg_project_raw_3D_original\\data_crop_3D\\2020_01_10_15_41_20x\\labels\\nucleus\n",
      "0005 exists in D:PerlmutterData\\dl_seg_project_raw_3D_original\\data_crop_3D\\2020_01_10_15_41_20x\\images\\nucleus\n",
      "0005 exists in D:PerlmutterData\\dl_seg_project_raw_3D_original\\data_crop_3D\\2020_01_10_15_41_20x\\labels\\nucleus\n",
      "0006 exists in D:PerlmutterData\\dl_seg_project_raw_3D_original\\data_crop_3D\\2020_01_10_15_41_20x\\images\\nucleus\n",
      "0006 exists in D:PerlmutterData\\dl_seg_project_raw_3D_original\\data_crop_3D\\2020_01_10_15_41_20x\\labels\\nucleus\n",
      "0007 exists in D:PerlmutterData\\dl_seg_project_raw_3D_original\\data_crop_3D\\2020_01_10_15_41_20x\\images\\nucleus\n",
      "0007 exists in D:PerlmutterData\\dl_seg_project_raw_3D_original\\data_crop_3D\\2020_01_10_15_41_20x\\labels\\nucleus\n",
      "0008 exists in D:PerlmutterData\\dl_seg_project_raw_3D_original\\data_crop_3D\\2020_01_10_15_41_20x\\images\\nucleus\n",
      "0008 exists in D:PerlmutterData\\dl_seg_project_raw_3D_original\\data_crop_3D\\2020_01_10_15_41_20x\\labels\\nucleus\n",
      "0009 exists in D:PerlmutterData\\dl_seg_project_raw_3D_original\\data_crop_3D\\2020_01_10_15_41_20x\\images\\nucleus\n",
      "0009 exists in D:PerlmutterData\\dl_seg_project_raw_3D_original\\data_crop_3D\\2020_01_10_15_41_20x\\labels\\nucleus\n",
      "0010 exists in D:PerlmutterData\\dl_seg_project_raw_3D_original\\data_crop_3D\\2020_01_10_15_41_20x\\images\\nucleus\n",
      "0010 exists in D:PerlmutterData\\dl_seg_project_raw_3D_original\\data_crop_3D\\2020_01_10_15_41_20x\\labels\\nucleus\n",
      "0011 exists in D:PerlmutterData\\dl_seg_project_raw_3D_original\\data_crop_3D\\2020_01_10_15_41_20x\\images\\nucleus\n",
      "0011 exists in D:PerlmutterData\\dl_seg_project_raw_3D_original\\data_crop_3D\\2020_01_10_15_41_20x\\labels\\nucleus\n",
      "0012 exists in D:PerlmutterData\\dl_seg_project_raw_3D_original\\data_crop_3D\\2020_01_10_15_41_20x\\images\\nucleus\n",
      "0012 exists in D:PerlmutterData\\dl_seg_project_raw_3D_original\\data_crop_3D\\2020_01_10_15_41_20x\\labels\\nucleus\n",
      "0013 exists in D:PerlmutterData\\dl_seg_project_raw_3D_original\\data_crop_3D\\2020_01_10_15_41_20x\\images\\nucleus\n",
      "0013 exists in D:PerlmutterData\\dl_seg_project_raw_3D_original\\data_crop_3D\\2020_01_10_15_41_20x\\labels\\nucleus\n",
      "0014 exists in D:PerlmutterData\\dl_seg_project_raw_3D_original\\data_crop_3D\\2020_01_10_15_41_20x\\images\\nucleus\n",
      "0014 exists in D:PerlmutterData\\dl_seg_project_raw_3D_original\\data_crop_3D\\2020_01_10_15_41_20x\\labels\\nucleus\n",
      "0015 exists in D:PerlmutterData\\dl_seg_project_raw_3D_original\\data_crop_3D\\2020_01_10_15_41_20x\\images\\nucleus\n",
      "0015 exists in D:PerlmutterData\\dl_seg_project_raw_3D_original\\data_crop_3D\\2020_01_10_15_41_20x\\labels\\nucleus\n",
      "0016 exists in D:PerlmutterData\\dl_seg_project_raw_3D_original\\data_crop_3D\\2020_01_10_15_41_20x\\images\\nucleus\n",
      "0016 exists in D:PerlmutterData\\dl_seg_project_raw_3D_original\\data_crop_3D\\2020_01_10_15_41_20x\\labels\\nucleus\n",
      "0017 exists in D:PerlmutterData\\dl_seg_project_raw_3D_original\\data_crop_3D\\2020_01_10_15_41_20x\\images\\nucleus\n",
      "0017 exists in D:PerlmutterData\\dl_seg_project_raw_3D_original\\data_crop_3D\\2020_01_10_15_41_20x\\labels\\nucleus\n",
      "0018 exists in D:PerlmutterData\\dl_seg_project_raw_3D_original\\data_crop_3D\\2020_01_10_15_41_20x\\images\\nucleus\n",
      "0018 exists in D:PerlmutterData\\dl_seg_project_raw_3D_original\\data_crop_3D\\2020_01_10_15_41_20x\\labels\\nucleus\n",
      "0019 exists in D:PerlmutterData\\dl_seg_project_raw_3D_original\\data_crop_3D\\2020_01_10_15_41_20x\\images\\nucleus\n",
      "0019 exists in D:PerlmutterData\\dl_seg_project_raw_3D_original\\data_crop_3D\\2020_01_10_15_41_20x\\labels\\nucleus\n",
      "0020 exists in D:PerlmutterData\\dl_seg_project_raw_3D_original\\data_crop_3D\\2020_01_10_15_41_20x\\images\\nucleus\n",
      "0020 exists in D:PerlmutterData\\dl_seg_project_raw_3D_original\\data_crop_3D\\2020_01_10_15_41_20x\\labels\\nucleus\n",
      "\n",
      "Finish\n"
     ]
    }
   ],
   "source": [
    "# Batch Random Crop\n",
    "for labeltype in labeltypes:     \n",
    "    print(\"Croping the images from group {}...\".format(labeltype))\n",
    "    random_crop_batch_3D(ipimglist = ipimglist, \n",
    "                      iplabellist = iplabellist, \n",
    "                      opfolder = opdir, \n",
    "                      label = labeltype, \n",
    "                      crop_size = [zdim, ydim, xdim], \n",
    "                      crop_per_image = crop_per_image, \n",
    "                      seed = seed)\n",
    "    print(\"Finish\")"
   ]
  },
  {
   "cell_type": "code",
   "execution_count": null,
   "metadata": {},
   "outputs": [],
   "source": []
  },
  {
   "cell_type": "code",
   "execution_count": null,
   "metadata": {},
   "outputs": [],
   "source": []
  }
 ],
 "metadata": {
  "file_extension": ".py",
  "kernelspec": {
   "display_name": "tfdl02",
   "language": "python",
   "name": "tfdl02"
  },
  "language_info": {
   "codemirror_mode": {
    "name": "ipython",
    "version": 3
   },
   "file_extension": ".py",
   "mimetype": "text/x-python",
   "name": "python",
   "nbconvert_exporter": "python",
   "pygments_lexer": "ipython3",
   "version": "3.6.9"
  },
  "mimetype": "text/x-python",
  "name": "python",
  "npconvert_exporter": "python",
  "pygments_lexer": "ipython3",
  "version": 3
 },
 "nbformat": 4,
 "nbformat_minor": 2
}
